{
 "cells": [
  {
   "cell_type": "markdown",
   "id": "5169d682",
   "metadata": {},
   "source": [
    "# Телеком"
   ]
  },
  {
   "cell_type": "markdown",
   "id": "e0869fc0",
   "metadata": {},
   "source": [
    "\n",
    "\n",
    "Оператор связи «Ниединогоразрыва.ком» хочет научиться прогнозировать отток клиентов. Если выяснится, что пользователь планирует уйти, ему будут предложены промокоды и специальные условия. Команда оператора собрала персональные данные о некоторых клиентах, информацию об их тарифах и договорах.\n",
    "\n",
    "Данные состоят из файлов, полученных из разных источников:\n",
    "\n",
    "- `contract_new.csv` — информация о договоре;\n",
    "- `personal_new.csv` — персональные данные клиента;\n",
    "- `internet_new.csv` — информация об интернет-услугах;\n",
    "- `phone_new.csv` — информация об услугах телефонии."
   ]
  },
  {
   "cell_type": "markdown",
   "id": "2b2a1342",
   "metadata": {},
   "source": [
    "**Цель**\n",
    "\n",
    "Разработать и реализовать модель машинного обучения, способную прогнозировать отток клиентов оператора связи \"Ниединогоразрыва.ком\" на основе имеющихся персональных данных о клиентах, информации о тарифах и договорах. Это позволит оператору предложить персонализированные промокоды и специальные условия, чтобы увеличить вероятность сохранения клиентов и снизить отток.\n",
    "**AUC-ROC >= 0.85**."
   ]
  },
  {
   "cell_type": "markdown",
   "id": "9369d665",
   "metadata": {},
   "source": [
    "**Задачи**\n",
    "\n",
    "Подготовка данных: \n",
    "   - Импорт и загрузка данных о клиентах, их тарифах и договорах.\n",
    "   - Получение информации о размере данных\n",
    "   - Объединение таблиц.\n",
    "   - Приведение имён столбцов к PEP8, если требуется.\n",
    "   - Проверка и очистка данных от пропущенных значений.\n",
    "   - Проверка и удаление дубликатов.\n",
    "   - Преобразование переменных к необходимым типам данных, если требуется. \n",
    "\n",
    "Подготовка признаков:\n",
    "   - Добавление новых признаков\n",
    "   - Определение целевого признака.\n",
    "   - Преобразование целевой переменной в числовой формат, если требуется.\n",
    "   - Проверка дисбаланса класса и преобразование в случае необходимости.\n",
    "   - Выбор значимых признаков для модели и удаление при необходимости лишних.\n",
    "   - Разделение данных: обучающую и тестовую.\n",
    "   - Преобразование категориальных признаков в числовые, если требуется.\n",
    "   - Масштабирование числовых признаков, если требуется.\n",
    " \n",
    "\n",
    "Обучение модели:\n",
    "   - Выбор 2 и более алгоритмов машинного обучения для задачи прогнозирования оттока.\n",
    "   - Подбор гиперпараметров.\n",
    "   - Обучение моделей.\n",
    "\n",
    "Оценка и выбор модели:\n",
    "   - Оценка качества модели с использованием метрики AUC-ROC.\n",
    "   - Сравнение различных моделей и выбор наиболее подходящей модели для задачи.\n",
    "   - Построение и анализ матрицы ошибок.\n",
    "   - Интерпретация важности признаков для прогнозирования оттока.\n",
    "   - Выявление основных факторов, влияющих на отток клиентов.\n",
    "   \n",
    "Отчёт"
   ]
  },
  {
   "cell_type": "code",
   "execution_count": 1,
   "id": "0cd69faf",
   "metadata": {},
   "outputs": [
    {
     "name": "stdout",
     "output_type": "stream",
     "text": [
      "Requirement already satisfied: scikit-learn==1.1.3 in c:\\users\\admin\\anaconda3\\lib\\site-packages (1.1.3)\n",
      "Requirement already satisfied: numpy>=1.17.3 in c:\\users\\admin\\anaconda3\\lib\\site-packages (from scikit-learn==1.1.3) (1.24.3)\n",
      "Requirement already satisfied: scipy>=1.3.2 in c:\\users\\admin\\anaconda3\\lib\\site-packages (from scikit-learn==1.1.3) (1.10.1)\n",
      "Requirement already satisfied: joblib>=1.0.0 in c:\\users\\admin\\anaconda3\\lib\\site-packages (from scikit-learn==1.1.3) (1.2.0)\n",
      "Requirement already satisfied: threadpoolctl>=2.0.0 in c:\\users\\admin\\anaconda3\\lib\\site-packages (from scikit-learn==1.1.3) (2.2.0)\n",
      "Requirement already satisfied: phik in c:\\users\\admin\\anaconda3\\lib\\site-packages (0.12.3)\n",
      "Requirement already satisfied: numpy>=1.18.0 in c:\\users\\admin\\anaconda3\\lib\\site-packages (from phik) (1.24.3)\n",
      "Requirement already satisfied: scipy>=1.5.2 in c:\\users\\admin\\anaconda3\\lib\\site-packages (from phik) (1.10.1)\n",
      "Requirement already satisfied: pandas>=0.25.1 in c:\\users\\admin\\anaconda3\\lib\\site-packages (from phik) (1.5.3)\n",
      "Requirement already satisfied: matplotlib>=2.2.3 in c:\\users\\admin\\anaconda3\\lib\\site-packages (from phik) (3.7.1)\n",
      "Requirement already satisfied: joblib>=0.14.1 in c:\\users\\admin\\anaconda3\\lib\\site-packages (from phik) (1.2.0)\n",
      "Requirement already satisfied: contourpy>=1.0.1 in c:\\users\\admin\\anaconda3\\lib\\site-packages (from matplotlib>=2.2.3->phik) (1.0.5)\n",
      "Requirement already satisfied: cycler>=0.10 in c:\\users\\admin\\anaconda3\\lib\\site-packages (from matplotlib>=2.2.3->phik) (0.11.0)\n",
      "Requirement already satisfied: fonttools>=4.22.0 in c:\\users\\admin\\anaconda3\\lib\\site-packages (from matplotlib>=2.2.3->phik) (4.25.0)\n",
      "Requirement already satisfied: kiwisolver>=1.0.1 in c:\\users\\admin\\anaconda3\\lib\\site-packages (from matplotlib>=2.2.3->phik) (1.4.4)\n",
      "Requirement already satisfied: packaging>=20.0 in c:\\users\\admin\\anaconda3\\lib\\site-packages (from matplotlib>=2.2.3->phik) (23.0)\n",
      "Requirement already satisfied: pillow>=6.2.0 in c:\\users\\admin\\anaconda3\\lib\\site-packages (from matplotlib>=2.2.3->phik) (9.4.0)\n",
      "Requirement already satisfied: pyparsing>=2.3.1 in c:\\users\\admin\\anaconda3\\lib\\site-packages (from matplotlib>=2.2.3->phik) (3.0.9)\n",
      "Requirement already satisfied: python-dateutil>=2.7 in c:\\users\\admin\\anaconda3\\lib\\site-packages (from matplotlib>=2.2.3->phik) (2.8.2)\n",
      "Requirement already satisfied: pytz>=2020.1 in c:\\users\\admin\\anaconda3\\lib\\site-packages (from pandas>=0.25.1->phik) (2022.7)\n",
      "Requirement already satisfied: six>=1.5 in c:\\users\\admin\\anaconda3\\lib\\site-packages (from python-dateutil>=2.7->matplotlib>=2.2.3->phik) (1.16.0)\n",
      "Requirement already satisfied: catboost in c:\\users\\admin\\anaconda3\\lib\\site-packages (1.2.1.1)\n",
      "Requirement already satisfied: graphviz in c:\\users\\admin\\anaconda3\\lib\\site-packages (from catboost) (0.20.1)\n",
      "Requirement already satisfied: matplotlib in c:\\users\\admin\\anaconda3\\lib\\site-packages (from catboost) (3.7.1)\n",
      "Requirement already satisfied: numpy>=1.16.0 in c:\\users\\admin\\anaconda3\\lib\\site-packages (from catboost) (1.24.3)\n",
      "Requirement already satisfied: pandas>=0.24 in c:\\users\\admin\\anaconda3\\lib\\site-packages (from catboost) (1.5.3)\n",
      "Requirement already satisfied: scipy in c:\\users\\admin\\anaconda3\\lib\\site-packages (from catboost) (1.10.1)\n",
      "Requirement already satisfied: plotly in c:\\users\\admin\\anaconda3\\lib\\site-packages (from catboost) (5.9.0)\n",
      "Requirement already satisfied: six in c:\\users\\admin\\anaconda3\\lib\\site-packages (from catboost) (1.16.0)\n",
      "Requirement already satisfied: python-dateutil>=2.8.1 in c:\\users\\admin\\anaconda3\\lib\\site-packages (from pandas>=0.24->catboost) (2.8.2)\n",
      "Requirement already satisfied: pytz>=2020.1 in c:\\users\\admin\\anaconda3\\lib\\site-packages (from pandas>=0.24->catboost) (2022.7)\n",
      "Requirement already satisfied: contourpy>=1.0.1 in c:\\users\\admin\\anaconda3\\lib\\site-packages (from matplotlib->catboost) (1.0.5)\n",
      "Requirement already satisfied: cycler>=0.10 in c:\\users\\admin\\anaconda3\\lib\\site-packages (from matplotlib->catboost) (0.11.0)\n",
      "Requirement already satisfied: fonttools>=4.22.0 in c:\\users\\admin\\anaconda3\\lib\\site-packages (from matplotlib->catboost) (4.25.0)\n",
      "Requirement already satisfied: kiwisolver>=1.0.1 in c:\\users\\admin\\anaconda3\\lib\\site-packages (from matplotlib->catboost) (1.4.4)\n",
      "Requirement already satisfied: packaging>=20.0 in c:\\users\\admin\\anaconda3\\lib\\site-packages (from matplotlib->catboost) (23.0)\n",
      "Requirement already satisfied: pillow>=6.2.0 in c:\\users\\admin\\anaconda3\\lib\\site-packages (from matplotlib->catboost) (9.4.0)\n",
      "Requirement already satisfied: pyparsing>=2.3.1 in c:\\users\\admin\\anaconda3\\lib\\site-packages (from matplotlib->catboost) (3.0.9)\n",
      "Requirement already satisfied: tenacity>=6.2.0 in c:\\users\\admin\\anaconda3\\lib\\site-packages (from plotly->catboost) (8.2.2)\n"
     ]
    }
   ],
   "source": [
    "!pip install scikit-learn==1.1.3\n",
    "!pip install phik\n",
    "!pip install catboost"
   ]
  },
  {
   "cell_type": "code",
   "execution_count": 2,
   "id": "42b94dc8",
   "metadata": {},
   "outputs": [],
   "source": [
    "import pandas as pd\n",
    "import re\n",
    "import seaborn as sns\n",
    "import matplotlib.pyplot as plt\n",
    "import phik\n",
    "from catboost import CatBoostClassifier, Pool, cv\n",
    "from sklearn.model_selection import train_test_split\n",
    "from sklearn.preprocessing import StandardScaler\n",
    "from sklearn.compose import make_column_transformer\n",
    "from sklearn.model_selection import GridSearchCV\n",
    "from sklearn.pipeline import Pipeline\n",
    "from sklearn.metrics import roc_auc_score, confusion_matrix\n",
    "from sklearn.model_selection import cross_val_score\n",
    "from sklearn.ensemble import RandomForestClassifier\n",
    "from sklearn.metrics import accuracy_score\n",
    "from sklearn.preprocessing import OrdinalEncoder\n",
    "from sklearn.model_selection import RandomizedSearchCV\n",
    "from scipy.stats import randint as sp_randint"
   ]
  },
  {
   "cell_type": "code",
   "execution_count": 3,
   "id": "c41f5d6a",
   "metadata": {},
   "outputs": [],
   "source": [
    "RANDOM_STATE = 190623"
   ]
  },
  {
   "cell_type": "markdown",
   "id": "63e2c8bc",
   "metadata": {},
   "source": [
    "## Подготовка данных"
   ]
  },
  {
   "cell_type": "markdown",
   "id": "0819770c",
   "metadata": {},
   "source": [
    "### Импорт и загрузка данных"
   ]
  },
  {
   "cell_type": "markdown",
   "id": "ba8ddb65",
   "metadata": {},
   "source": [
    "Загрузим все необходимые данные"
   ]
  },
  {
   "cell_type": "code",
   "execution_count": 4,
   "id": "bc1689fb",
   "metadata": {},
   "outputs": [],
   "source": [
    "contract = pd.read_csv('contract_new.csv')"
   ]
  },
  {
   "cell_type": "code",
   "execution_count": 5,
   "id": "5320933e",
   "metadata": {},
   "outputs": [
    {
     "data": {
      "text/html": [
       "<div>\n",
       "<style scoped>\n",
       "    .dataframe tbody tr th:only-of-type {\n",
       "        vertical-align: middle;\n",
       "    }\n",
       "\n",
       "    .dataframe tbody tr th {\n",
       "        vertical-align: top;\n",
       "    }\n",
       "\n",
       "    .dataframe thead th {\n",
       "        text-align: right;\n",
       "    }\n",
       "</style>\n",
       "<table border=\"1\" class=\"dataframe\">\n",
       "  <thead>\n",
       "    <tr style=\"text-align: right;\">\n",
       "      <th></th>\n",
       "      <th>customerID</th>\n",
       "      <th>BeginDate</th>\n",
       "      <th>EndDate</th>\n",
       "      <th>Type</th>\n",
       "      <th>PaperlessBilling</th>\n",
       "      <th>PaymentMethod</th>\n",
       "      <th>MonthlyCharges</th>\n",
       "      <th>TotalCharges</th>\n",
       "    </tr>\n",
       "  </thead>\n",
       "  <tbody>\n",
       "    <tr>\n",
       "      <th>0</th>\n",
       "      <td>7590-VHVEG</td>\n",
       "      <td>2020-01-01</td>\n",
       "      <td>No</td>\n",
       "      <td>Month-to-month</td>\n",
       "      <td>Yes</td>\n",
       "      <td>Electronic check</td>\n",
       "      <td>29.85</td>\n",
       "      <td>31.04</td>\n",
       "    </tr>\n",
       "    <tr>\n",
       "      <th>1</th>\n",
       "      <td>5575-GNVDE</td>\n",
       "      <td>2017-04-01</td>\n",
       "      <td>No</td>\n",
       "      <td>One year</td>\n",
       "      <td>No</td>\n",
       "      <td>Mailed check</td>\n",
       "      <td>56.95</td>\n",
       "      <td>2071.84</td>\n",
       "    </tr>\n",
       "    <tr>\n",
       "      <th>2</th>\n",
       "      <td>3668-QPYBK</td>\n",
       "      <td>2019-10-01</td>\n",
       "      <td>No</td>\n",
       "      <td>Month-to-month</td>\n",
       "      <td>Yes</td>\n",
       "      <td>Mailed check</td>\n",
       "      <td>53.85</td>\n",
       "      <td>226.17</td>\n",
       "    </tr>\n",
       "    <tr>\n",
       "      <th>3</th>\n",
       "      <td>7795-CFOCW</td>\n",
       "      <td>2016-05-01</td>\n",
       "      <td>No</td>\n",
       "      <td>One year</td>\n",
       "      <td>No</td>\n",
       "      <td>Bank transfer (automatic)</td>\n",
       "      <td>42.30</td>\n",
       "      <td>1960.6</td>\n",
       "    </tr>\n",
       "    <tr>\n",
       "      <th>4</th>\n",
       "      <td>9237-HQITU</td>\n",
       "      <td>2019-09-01</td>\n",
       "      <td>No</td>\n",
       "      <td>Month-to-month</td>\n",
       "      <td>Yes</td>\n",
       "      <td>Electronic check</td>\n",
       "      <td>70.70</td>\n",
       "      <td>353.5</td>\n",
       "    </tr>\n",
       "  </tbody>\n",
       "</table>\n",
       "</div>"
      ],
      "text/plain": [
       "   customerID   BeginDate EndDate            Type PaperlessBilling  \\\n",
       "0  7590-VHVEG  2020-01-01      No  Month-to-month              Yes   \n",
       "1  5575-GNVDE  2017-04-01      No        One year               No   \n",
       "2  3668-QPYBK  2019-10-01      No  Month-to-month              Yes   \n",
       "3  7795-CFOCW  2016-05-01      No        One year               No   \n",
       "4  9237-HQITU  2019-09-01      No  Month-to-month              Yes   \n",
       "\n",
       "               PaymentMethod  MonthlyCharges TotalCharges  \n",
       "0           Electronic check           29.85        31.04  \n",
       "1               Mailed check           56.95      2071.84  \n",
       "2               Mailed check           53.85       226.17  \n",
       "3  Bank transfer (automatic)           42.30       1960.6  \n",
       "4           Electronic check           70.70        353.5  "
      ]
     },
     "execution_count": 5,
     "metadata": {},
     "output_type": "execute_result"
    }
   ],
   "source": [
    "contract.head()"
   ]
  },
  {
   "cell_type": "code",
   "execution_count": 6,
   "id": "f50936ce",
   "metadata": {},
   "outputs": [],
   "source": [
    "internet = pd.read_csv('internet_new.csv')"
   ]
  },
  {
   "cell_type": "code",
   "execution_count": 7,
   "id": "90de2f07",
   "metadata": {},
   "outputs": [
    {
     "data": {
      "text/html": [
       "<div>\n",
       "<style scoped>\n",
       "    .dataframe tbody tr th:only-of-type {\n",
       "        vertical-align: middle;\n",
       "    }\n",
       "\n",
       "    .dataframe tbody tr th {\n",
       "        vertical-align: top;\n",
       "    }\n",
       "\n",
       "    .dataframe thead th {\n",
       "        text-align: right;\n",
       "    }\n",
       "</style>\n",
       "<table border=\"1\" class=\"dataframe\">\n",
       "  <thead>\n",
       "    <tr style=\"text-align: right;\">\n",
       "      <th></th>\n",
       "      <th>customerID</th>\n",
       "      <th>InternetService</th>\n",
       "      <th>OnlineSecurity</th>\n",
       "      <th>OnlineBackup</th>\n",
       "      <th>DeviceProtection</th>\n",
       "      <th>TechSupport</th>\n",
       "      <th>StreamingTV</th>\n",
       "      <th>StreamingMovies</th>\n",
       "    </tr>\n",
       "  </thead>\n",
       "  <tbody>\n",
       "    <tr>\n",
       "      <th>0</th>\n",
       "      <td>7590-VHVEG</td>\n",
       "      <td>DSL</td>\n",
       "      <td>No</td>\n",
       "      <td>Yes</td>\n",
       "      <td>No</td>\n",
       "      <td>No</td>\n",
       "      <td>No</td>\n",
       "      <td>No</td>\n",
       "    </tr>\n",
       "    <tr>\n",
       "      <th>1</th>\n",
       "      <td>5575-GNVDE</td>\n",
       "      <td>DSL</td>\n",
       "      <td>Yes</td>\n",
       "      <td>No</td>\n",
       "      <td>Yes</td>\n",
       "      <td>No</td>\n",
       "      <td>No</td>\n",
       "      <td>No</td>\n",
       "    </tr>\n",
       "    <tr>\n",
       "      <th>2</th>\n",
       "      <td>3668-QPYBK</td>\n",
       "      <td>DSL</td>\n",
       "      <td>Yes</td>\n",
       "      <td>Yes</td>\n",
       "      <td>No</td>\n",
       "      <td>No</td>\n",
       "      <td>No</td>\n",
       "      <td>No</td>\n",
       "    </tr>\n",
       "    <tr>\n",
       "      <th>3</th>\n",
       "      <td>7795-CFOCW</td>\n",
       "      <td>DSL</td>\n",
       "      <td>Yes</td>\n",
       "      <td>No</td>\n",
       "      <td>Yes</td>\n",
       "      <td>Yes</td>\n",
       "      <td>No</td>\n",
       "      <td>No</td>\n",
       "    </tr>\n",
       "    <tr>\n",
       "      <th>4</th>\n",
       "      <td>9237-HQITU</td>\n",
       "      <td>Fiber optic</td>\n",
       "      <td>No</td>\n",
       "      <td>No</td>\n",
       "      <td>No</td>\n",
       "      <td>No</td>\n",
       "      <td>No</td>\n",
       "      <td>No</td>\n",
       "    </tr>\n",
       "    <tr>\n",
       "      <th>5</th>\n",
       "      <td>9305-CDSKC</td>\n",
       "      <td>Fiber optic</td>\n",
       "      <td>No</td>\n",
       "      <td>No</td>\n",
       "      <td>Yes</td>\n",
       "      <td>No</td>\n",
       "      <td>Yes</td>\n",
       "      <td>Yes</td>\n",
       "    </tr>\n",
       "    <tr>\n",
       "      <th>6</th>\n",
       "      <td>1452-KIOVK</td>\n",
       "      <td>Fiber optic</td>\n",
       "      <td>No</td>\n",
       "      <td>Yes</td>\n",
       "      <td>No</td>\n",
       "      <td>No</td>\n",
       "      <td>Yes</td>\n",
       "      <td>No</td>\n",
       "    </tr>\n",
       "    <tr>\n",
       "      <th>7</th>\n",
       "      <td>6713-OKOMC</td>\n",
       "      <td>DSL</td>\n",
       "      <td>Yes</td>\n",
       "      <td>No</td>\n",
       "      <td>No</td>\n",
       "      <td>No</td>\n",
       "      <td>No</td>\n",
       "      <td>No</td>\n",
       "    </tr>\n",
       "    <tr>\n",
       "      <th>8</th>\n",
       "      <td>7892-POOKP</td>\n",
       "      <td>Fiber optic</td>\n",
       "      <td>No</td>\n",
       "      <td>No</td>\n",
       "      <td>Yes</td>\n",
       "      <td>Yes</td>\n",
       "      <td>Yes</td>\n",
       "      <td>Yes</td>\n",
       "    </tr>\n",
       "    <tr>\n",
       "      <th>9</th>\n",
       "      <td>6388-TABGU</td>\n",
       "      <td>DSL</td>\n",
       "      <td>Yes</td>\n",
       "      <td>Yes</td>\n",
       "      <td>No</td>\n",
       "      <td>No</td>\n",
       "      <td>No</td>\n",
       "      <td>No</td>\n",
       "    </tr>\n",
       "    <tr>\n",
       "      <th>10</th>\n",
       "      <td>9763-GRSKD</td>\n",
       "      <td>DSL</td>\n",
       "      <td>Yes</td>\n",
       "      <td>No</td>\n",
       "      <td>No</td>\n",
       "      <td>No</td>\n",
       "      <td>No</td>\n",
       "      <td>No</td>\n",
       "    </tr>\n",
       "    <tr>\n",
       "      <th>11</th>\n",
       "      <td>8091-TTVAX</td>\n",
       "      <td>Fiber optic</td>\n",
       "      <td>No</td>\n",
       "      <td>No</td>\n",
       "      <td>Yes</td>\n",
       "      <td>No</td>\n",
       "      <td>Yes</td>\n",
       "      <td>Yes</td>\n",
       "    </tr>\n",
       "    <tr>\n",
       "      <th>12</th>\n",
       "      <td>0280-XJGEX</td>\n",
       "      <td>Fiber optic</td>\n",
       "      <td>No</td>\n",
       "      <td>Yes</td>\n",
       "      <td>Yes</td>\n",
       "      <td>No</td>\n",
       "      <td>Yes</td>\n",
       "      <td>Yes</td>\n",
       "    </tr>\n",
       "    <tr>\n",
       "      <th>13</th>\n",
       "      <td>5129-JLPIS</td>\n",
       "      <td>Fiber optic</td>\n",
       "      <td>Yes</td>\n",
       "      <td>No</td>\n",
       "      <td>Yes</td>\n",
       "      <td>Yes</td>\n",
       "      <td>Yes</td>\n",
       "      <td>Yes</td>\n",
       "    </tr>\n",
       "    <tr>\n",
       "      <th>14</th>\n",
       "      <td>3655-SNQYZ</td>\n",
       "      <td>Fiber optic</td>\n",
       "      <td>Yes</td>\n",
       "      <td>Yes</td>\n",
       "      <td>Yes</td>\n",
       "      <td>Yes</td>\n",
       "      <td>Yes</td>\n",
       "      <td>Yes</td>\n",
       "    </tr>\n",
       "    <tr>\n",
       "      <th>15</th>\n",
       "      <td>9959-WOFKT</td>\n",
       "      <td>Fiber optic</td>\n",
       "      <td>Yes</td>\n",
       "      <td>No</td>\n",
       "      <td>Yes</td>\n",
       "      <td>No</td>\n",
       "      <td>Yes</td>\n",
       "      <td>Yes</td>\n",
       "    </tr>\n",
       "    <tr>\n",
       "      <th>16</th>\n",
       "      <td>4190-MFLUW</td>\n",
       "      <td>DSL</td>\n",
       "      <td>No</td>\n",
       "      <td>No</td>\n",
       "      <td>Yes</td>\n",
       "      <td>Yes</td>\n",
       "      <td>No</td>\n",
       "      <td>No</td>\n",
       "    </tr>\n",
       "    <tr>\n",
       "      <th>17</th>\n",
       "      <td>4183-MYFRB</td>\n",
       "      <td>Fiber optic</td>\n",
       "      <td>No</td>\n",
       "      <td>Yes</td>\n",
       "      <td>Yes</td>\n",
       "      <td>No</td>\n",
       "      <td>No</td>\n",
       "      <td>Yes</td>\n",
       "    </tr>\n",
       "    <tr>\n",
       "      <th>18</th>\n",
       "      <td>8779-QRDMV</td>\n",
       "      <td>DSL</td>\n",
       "      <td>No</td>\n",
       "      <td>No</td>\n",
       "      <td>Yes</td>\n",
       "      <td>No</td>\n",
       "      <td>No</td>\n",
       "      <td>Yes</td>\n",
       "    </tr>\n",
       "    <tr>\n",
       "      <th>19</th>\n",
       "      <td>3638-WEABW</td>\n",
       "      <td>DSL</td>\n",
       "      <td>No</td>\n",
       "      <td>Yes</td>\n",
       "      <td>No</td>\n",
       "      <td>Yes</td>\n",
       "      <td>No</td>\n",
       "      <td>No</td>\n",
       "    </tr>\n",
       "  </tbody>\n",
       "</table>\n",
       "</div>"
      ],
      "text/plain": [
       "    customerID InternetService OnlineSecurity OnlineBackup DeviceProtection  \\\n",
       "0   7590-VHVEG             DSL             No          Yes               No   \n",
       "1   5575-GNVDE             DSL            Yes           No              Yes   \n",
       "2   3668-QPYBK             DSL            Yes          Yes               No   \n",
       "3   7795-CFOCW             DSL            Yes           No              Yes   \n",
       "4   9237-HQITU     Fiber optic             No           No               No   \n",
       "5   9305-CDSKC     Fiber optic             No           No              Yes   \n",
       "6   1452-KIOVK     Fiber optic             No          Yes               No   \n",
       "7   6713-OKOMC             DSL            Yes           No               No   \n",
       "8   7892-POOKP     Fiber optic             No           No              Yes   \n",
       "9   6388-TABGU             DSL            Yes          Yes               No   \n",
       "10  9763-GRSKD             DSL            Yes           No               No   \n",
       "11  8091-TTVAX     Fiber optic             No           No              Yes   \n",
       "12  0280-XJGEX     Fiber optic             No          Yes              Yes   \n",
       "13  5129-JLPIS     Fiber optic            Yes           No              Yes   \n",
       "14  3655-SNQYZ     Fiber optic            Yes          Yes              Yes   \n",
       "15  9959-WOFKT     Fiber optic            Yes           No              Yes   \n",
       "16  4190-MFLUW             DSL             No           No              Yes   \n",
       "17  4183-MYFRB     Fiber optic             No          Yes              Yes   \n",
       "18  8779-QRDMV             DSL             No           No              Yes   \n",
       "19  3638-WEABW             DSL             No          Yes               No   \n",
       "\n",
       "   TechSupport StreamingTV StreamingMovies  \n",
       "0           No          No              No  \n",
       "1           No          No              No  \n",
       "2           No          No              No  \n",
       "3          Yes          No              No  \n",
       "4           No          No              No  \n",
       "5           No         Yes             Yes  \n",
       "6           No         Yes              No  \n",
       "7           No          No              No  \n",
       "8          Yes         Yes             Yes  \n",
       "9           No          No              No  \n",
       "10          No          No              No  \n",
       "11          No         Yes             Yes  \n",
       "12          No         Yes             Yes  \n",
       "13         Yes         Yes             Yes  \n",
       "14         Yes         Yes             Yes  \n",
       "15          No         Yes             Yes  \n",
       "16         Yes          No              No  \n",
       "17          No          No             Yes  \n",
       "18          No          No             Yes  \n",
       "19         Yes          No              No  "
      ]
     },
     "execution_count": 7,
     "metadata": {},
     "output_type": "execute_result"
    }
   ],
   "source": [
    "internet.head(20)"
   ]
  },
  {
   "cell_type": "code",
   "execution_count": 8,
   "id": "2bbae998",
   "metadata": {},
   "outputs": [],
   "source": [
    "phone = pd.read_csv('phone_new.csv')"
   ]
  },
  {
   "cell_type": "code",
   "execution_count": 9,
   "id": "5df787bc",
   "metadata": {},
   "outputs": [
    {
     "data": {
      "text/html": [
       "<div>\n",
       "<style scoped>\n",
       "    .dataframe tbody tr th:only-of-type {\n",
       "        vertical-align: middle;\n",
       "    }\n",
       "\n",
       "    .dataframe tbody tr th {\n",
       "        vertical-align: top;\n",
       "    }\n",
       "\n",
       "    .dataframe thead th {\n",
       "        text-align: right;\n",
       "    }\n",
       "</style>\n",
       "<table border=\"1\" class=\"dataframe\">\n",
       "  <thead>\n",
       "    <tr style=\"text-align: right;\">\n",
       "      <th></th>\n",
       "      <th>customerID</th>\n",
       "      <th>MultipleLines</th>\n",
       "    </tr>\n",
       "  </thead>\n",
       "  <tbody>\n",
       "    <tr>\n",
       "      <th>0</th>\n",
       "      <td>5575-GNVDE</td>\n",
       "      <td>No</td>\n",
       "    </tr>\n",
       "    <tr>\n",
       "      <th>1</th>\n",
       "      <td>3668-QPYBK</td>\n",
       "      <td>No</td>\n",
       "    </tr>\n",
       "    <tr>\n",
       "      <th>2</th>\n",
       "      <td>9237-HQITU</td>\n",
       "      <td>No</td>\n",
       "    </tr>\n",
       "    <tr>\n",
       "      <th>3</th>\n",
       "      <td>9305-CDSKC</td>\n",
       "      <td>Yes</td>\n",
       "    </tr>\n",
       "    <tr>\n",
       "      <th>4</th>\n",
       "      <td>1452-KIOVK</td>\n",
       "      <td>Yes</td>\n",
       "    </tr>\n",
       "  </tbody>\n",
       "</table>\n",
       "</div>"
      ],
      "text/plain": [
       "   customerID MultipleLines\n",
       "0  5575-GNVDE            No\n",
       "1  3668-QPYBK            No\n",
       "2  9237-HQITU            No\n",
       "3  9305-CDSKC           Yes\n",
       "4  1452-KIOVK           Yes"
      ]
     },
     "execution_count": 9,
     "metadata": {},
     "output_type": "execute_result"
    }
   ],
   "source": [
    "phone.head()"
   ]
  },
  {
   "cell_type": "code",
   "execution_count": 10,
   "id": "48be49d2",
   "metadata": {},
   "outputs": [],
   "source": [
    "personal = pd.read_csv('personal_new.csv')"
   ]
  },
  {
   "cell_type": "code",
   "execution_count": 11,
   "id": "83bc39e9",
   "metadata": {
    "scrolled": true
   },
   "outputs": [
    {
     "data": {
      "text/html": [
       "<div>\n",
       "<style scoped>\n",
       "    .dataframe tbody tr th:only-of-type {\n",
       "        vertical-align: middle;\n",
       "    }\n",
       "\n",
       "    .dataframe tbody tr th {\n",
       "        vertical-align: top;\n",
       "    }\n",
       "\n",
       "    .dataframe thead th {\n",
       "        text-align: right;\n",
       "    }\n",
       "</style>\n",
       "<table border=\"1\" class=\"dataframe\">\n",
       "  <thead>\n",
       "    <tr style=\"text-align: right;\">\n",
       "      <th></th>\n",
       "      <th>customerID</th>\n",
       "      <th>gender</th>\n",
       "      <th>SeniorCitizen</th>\n",
       "      <th>Partner</th>\n",
       "      <th>Dependents</th>\n",
       "    </tr>\n",
       "  </thead>\n",
       "  <tbody>\n",
       "    <tr>\n",
       "      <th>0</th>\n",
       "      <td>7590-VHVEG</td>\n",
       "      <td>Female</td>\n",
       "      <td>0</td>\n",
       "      <td>Yes</td>\n",
       "      <td>No</td>\n",
       "    </tr>\n",
       "    <tr>\n",
       "      <th>1</th>\n",
       "      <td>5575-GNVDE</td>\n",
       "      <td>Male</td>\n",
       "      <td>0</td>\n",
       "      <td>No</td>\n",
       "      <td>No</td>\n",
       "    </tr>\n",
       "    <tr>\n",
       "      <th>2</th>\n",
       "      <td>3668-QPYBK</td>\n",
       "      <td>Male</td>\n",
       "      <td>0</td>\n",
       "      <td>No</td>\n",
       "      <td>No</td>\n",
       "    </tr>\n",
       "    <tr>\n",
       "      <th>3</th>\n",
       "      <td>7795-CFOCW</td>\n",
       "      <td>Male</td>\n",
       "      <td>0</td>\n",
       "      <td>No</td>\n",
       "      <td>No</td>\n",
       "    </tr>\n",
       "    <tr>\n",
       "      <th>4</th>\n",
       "      <td>9237-HQITU</td>\n",
       "      <td>Female</td>\n",
       "      <td>0</td>\n",
       "      <td>No</td>\n",
       "      <td>No</td>\n",
       "    </tr>\n",
       "  </tbody>\n",
       "</table>\n",
       "</div>"
      ],
      "text/plain": [
       "   customerID  gender  SeniorCitizen Partner Dependents\n",
       "0  7590-VHVEG  Female              0     Yes         No\n",
       "1  5575-GNVDE    Male              0      No         No\n",
       "2  3668-QPYBK    Male              0      No         No\n",
       "3  7795-CFOCW    Male              0      No         No\n",
       "4  9237-HQITU  Female              0      No         No"
      ]
     },
     "execution_count": 11,
     "metadata": {},
     "output_type": "execute_result"
    }
   ],
   "source": [
    "personal.head()"
   ]
  },
  {
   "cell_type": "markdown",
   "id": "17337c21",
   "metadata": {},
   "source": [
    "### Размер данных"
   ]
  },
  {
   "cell_type": "markdown",
   "id": "35cb6993",
   "metadata": {},
   "source": [
    "Узнаем размер наших данных"
   ]
  },
  {
   "cell_type": "code",
   "execution_count": 12,
   "id": "293cb7d7",
   "metadata": {},
   "outputs": [
    {
     "data": {
      "text/plain": [
       "(7043, 8)"
      ]
     },
     "execution_count": 12,
     "metadata": {},
     "output_type": "execute_result"
    }
   ],
   "source": [
    "contract.shape"
   ]
  },
  {
   "cell_type": "code",
   "execution_count": 13,
   "id": "8f28f426",
   "metadata": {},
   "outputs": [
    {
     "data": {
      "text/plain": [
       "(5517, 8)"
      ]
     },
     "execution_count": 13,
     "metadata": {},
     "output_type": "execute_result"
    }
   ],
   "source": [
    "internet.shape"
   ]
  },
  {
   "cell_type": "code",
   "execution_count": 14,
   "id": "928849c4",
   "metadata": {},
   "outputs": [
    {
     "data": {
      "text/plain": [
       "(6361, 2)"
      ]
     },
     "execution_count": 14,
     "metadata": {},
     "output_type": "execute_result"
    }
   ],
   "source": [
    "phone.shape"
   ]
  },
  {
   "cell_type": "code",
   "execution_count": 15,
   "id": "60fb9e54",
   "metadata": {
    "scrolled": true
   },
   "outputs": [
    {
     "data": {
      "text/plain": [
       "(7043, 5)"
      ]
     },
     "execution_count": 15,
     "metadata": {},
     "output_type": "execute_result"
    }
   ],
   "source": [
    "personal.shape"
   ]
  },
  {
   "cell_type": "markdown",
   "id": "3740cdae",
   "metadata": {},
   "source": [
    "**Вывод**\n",
    "- contract: Объектов **7043**, признаков **8**\n",
    "- internet: Объектов **5517**, признаков **8**\n",
    "- phone: Объектов **6361**, признаков **2**\n",
    "- personal: : Объектов **7043**, признаков **5**"
   ]
  },
  {
   "cell_type": "markdown",
   "id": "403c949b",
   "metadata": {},
   "source": [
    "### Объединение таблиц"
   ]
  },
  {
   "cell_type": "markdown",
   "id": "764e517d",
   "metadata": {},
   "source": [
    "У нас 4 таблицы, объеденим их по ключу `customerID`. Будем использовать левое внешнее соединение таблиц. Первой таблицой будет `personal`."
   ]
  },
  {
   "cell_type": "code",
   "execution_count": 16,
   "id": "b028ff1a",
   "metadata": {},
   "outputs": [],
   "source": [
    "merged_data = personal.merge(phone, on='customerID', how='left')\\\n",
    "                      .merge(internet, on='customerID', how='left')\\\n",
    "                      .merge(contract, on='customerID', how='left')"
   ]
  },
  {
   "cell_type": "code",
   "execution_count": 17,
   "id": "d74e4a6b",
   "metadata": {},
   "outputs": [
    {
     "data": {
      "text/html": [
       "<div>\n",
       "<style scoped>\n",
       "    .dataframe tbody tr th:only-of-type {\n",
       "        vertical-align: middle;\n",
       "    }\n",
       "\n",
       "    .dataframe tbody tr th {\n",
       "        vertical-align: top;\n",
       "    }\n",
       "\n",
       "    .dataframe thead th {\n",
       "        text-align: right;\n",
       "    }\n",
       "</style>\n",
       "<table border=\"1\" class=\"dataframe\">\n",
       "  <thead>\n",
       "    <tr style=\"text-align: right;\">\n",
       "      <th></th>\n",
       "      <th>customerID</th>\n",
       "      <th>gender</th>\n",
       "      <th>SeniorCitizen</th>\n",
       "      <th>Partner</th>\n",
       "      <th>Dependents</th>\n",
       "      <th>MultipleLines</th>\n",
       "      <th>InternetService</th>\n",
       "      <th>OnlineSecurity</th>\n",
       "      <th>OnlineBackup</th>\n",
       "      <th>DeviceProtection</th>\n",
       "      <th>TechSupport</th>\n",
       "      <th>StreamingTV</th>\n",
       "      <th>StreamingMovies</th>\n",
       "      <th>BeginDate</th>\n",
       "      <th>EndDate</th>\n",
       "      <th>Type</th>\n",
       "      <th>PaperlessBilling</th>\n",
       "      <th>PaymentMethod</th>\n",
       "      <th>MonthlyCharges</th>\n",
       "      <th>TotalCharges</th>\n",
       "    </tr>\n",
       "  </thead>\n",
       "  <tbody>\n",
       "    <tr>\n",
       "      <th>0</th>\n",
       "      <td>7590-VHVEG</td>\n",
       "      <td>Female</td>\n",
       "      <td>0</td>\n",
       "      <td>Yes</td>\n",
       "      <td>No</td>\n",
       "      <td>NaN</td>\n",
       "      <td>DSL</td>\n",
       "      <td>No</td>\n",
       "      <td>Yes</td>\n",
       "      <td>No</td>\n",
       "      <td>No</td>\n",
       "      <td>No</td>\n",
       "      <td>No</td>\n",
       "      <td>2020-01-01</td>\n",
       "      <td>No</td>\n",
       "      <td>Month-to-month</td>\n",
       "      <td>Yes</td>\n",
       "      <td>Electronic check</td>\n",
       "      <td>29.85</td>\n",
       "      <td>31.04</td>\n",
       "    </tr>\n",
       "  </tbody>\n",
       "</table>\n",
       "</div>"
      ],
      "text/plain": [
       "   customerID  gender  SeniorCitizen Partner Dependents MultipleLines  \\\n",
       "0  7590-VHVEG  Female              0     Yes         No           NaN   \n",
       "\n",
       "  InternetService OnlineSecurity OnlineBackup DeviceProtection TechSupport  \\\n",
       "0             DSL             No          Yes               No          No   \n",
       "\n",
       "  StreamingTV StreamingMovies   BeginDate EndDate            Type  \\\n",
       "0          No              No  2020-01-01      No  Month-to-month   \n",
       "\n",
       "  PaperlessBilling     PaymentMethod  MonthlyCharges TotalCharges  \n",
       "0              Yes  Electronic check           29.85        31.04  "
      ]
     },
     "execution_count": 17,
     "metadata": {},
     "output_type": "execute_result"
    }
   ],
   "source": [
    "merged_data.head(1)"
   ]
  },
  {
   "cell_type": "code",
   "execution_count": 18,
   "id": "b9582828",
   "metadata": {},
   "outputs": [
    {
     "data": {
      "text/plain": [
       "(7043, 20)"
      ]
     },
     "execution_count": 18,
     "metadata": {},
     "output_type": "execute_result"
    }
   ],
   "source": [
    "merged_data.shape"
   ]
  },
  {
   "cell_type": "code",
   "execution_count": 19,
   "id": "c7e1425c",
   "metadata": {},
   "outputs": [
    {
     "data": {
      "text/plain": [
       "array(['No', '2017-05-01', '2016-03-01', '2018-09-01', '2018-11-01',\n",
       "       '2018-12-01', '2019-08-01', '2018-07-01', '2017-09-01',\n",
       "       '2015-09-01', '2016-07-01', '2016-06-01', '2018-03-01',\n",
       "       '2019-02-01', '2018-06-01', '2019-06-01', '2020-01-01',\n",
       "       '2019-11-01', '2016-09-01', '2015-06-01', '2016-12-01',\n",
       "       '2019-05-01', '2019-04-01', '2017-06-01', '2017-08-01',\n",
       "       '2018-04-01', '2018-08-01', '2018-02-01', '2019-07-01',\n",
       "       '2015-12-01', '2014-06-01', '2018-10-01', '2019-01-01',\n",
       "       '2017-07-01', '2017-12-01', '2018-05-01', '2015-11-01',\n",
       "       '2019-10-01', '2019-03-01', '2016-02-01', '2016-10-01',\n",
       "       '2018-01-01', '2017-11-01', '2015-10-01', '2019-12-01',\n",
       "       '2015-07-01', '2017-04-01', '2015-02-01', '2017-03-01',\n",
       "       '2016-05-01', '2016-11-01', '2015-08-01', '2019-09-01',\n",
       "       '2017-10-01', '2017-02-01', '2016-08-01', '2016-04-01',\n",
       "       '2015-05-01', '2014-09-01', '2014-10-01', '2017-01-01',\n",
       "       '2015-03-01', '2015-01-01', '2016-01-01', '2015-04-01',\n",
       "       '2014-12-01', '2014-11-01'], dtype=object)"
      ]
     },
     "execution_count": 19,
     "metadata": {},
     "output_type": "execute_result"
    }
   ],
   "source": [
    "merged_data['EndDate'].unique()"
   ]
  },
  {
   "cell_type": "code",
   "execution_count": 20,
   "id": "9b126c47",
   "metadata": {
    "scrolled": true
   },
   "outputs": [
    {
     "name": "stdout",
     "output_type": "stream",
     "text": [
      "<class 'pandas.core.frame.DataFrame'>\n",
      "Int64Index: 7043 entries, 0 to 7042\n",
      "Data columns (total 20 columns):\n",
      " #   Column            Non-Null Count  Dtype  \n",
      "---  ------            --------------  -----  \n",
      " 0   customerID        7043 non-null   object \n",
      " 1   gender            7043 non-null   object \n",
      " 2   SeniorCitizen     7043 non-null   int64  \n",
      " 3   Partner           7043 non-null   object \n",
      " 4   Dependents        7043 non-null   object \n",
      " 5   MultipleLines     6361 non-null   object \n",
      " 6   InternetService   5517 non-null   object \n",
      " 7   OnlineSecurity    5517 non-null   object \n",
      " 8   OnlineBackup      5517 non-null   object \n",
      " 9   DeviceProtection  5517 non-null   object \n",
      " 10  TechSupport       5517 non-null   object \n",
      " 11  StreamingTV       5517 non-null   object \n",
      " 12  StreamingMovies   5517 non-null   object \n",
      " 13  BeginDate         7043 non-null   object \n",
      " 14  EndDate           7043 non-null   object \n",
      " 15  Type              7043 non-null   object \n",
      " 16  PaperlessBilling  7043 non-null   object \n",
      " 17  PaymentMethod     7043 non-null   object \n",
      " 18  MonthlyCharges    7043 non-null   float64\n",
      " 19  TotalCharges      7043 non-null   object \n",
      "dtypes: float64(1), int64(1), object(18)\n",
      "memory usage: 1.1+ MB\n"
     ]
    }
   ],
   "source": [
    "merged_data.info()"
   ]
  },
  {
   "cell_type": "markdown",
   "id": "447dd6a9",
   "metadata": {},
   "source": [
    "**Вывод**\n",
    "\n",
    "- Успешно объединили таблицы\n",
    "- Размер нового датасета: Объектов **7043**, признаков **20**"
   ]
  },
  {
   "cell_type": "markdown",
   "id": "679044e0",
   "metadata": {},
   "source": [
    "### Приведение имён столбцов к PEP8"
   ]
  },
  {
   "cell_type": "code",
   "execution_count": 21,
   "id": "c567370d",
   "metadata": {},
   "outputs": [],
   "source": [
    "columns_snake_case = []\n",
    "for column in merged_data.columns:\n",
    "    columns_snake_case.append(re.sub('(?!^)([A-Z]+)', r'_\\1',column).lower())\n",
    "\n",
    "merged_data.columns = columns_snake_case"
   ]
  },
  {
   "cell_type": "code",
   "execution_count": 22,
   "id": "af40255e",
   "metadata": {
    "scrolled": true
   },
   "outputs": [
    {
     "data": {
      "text/html": [
       "<div>\n",
       "<style scoped>\n",
       "    .dataframe tbody tr th:only-of-type {\n",
       "        vertical-align: middle;\n",
       "    }\n",
       "\n",
       "    .dataframe tbody tr th {\n",
       "        vertical-align: top;\n",
       "    }\n",
       "\n",
       "    .dataframe thead th {\n",
       "        text-align: right;\n",
       "    }\n",
       "</style>\n",
       "<table border=\"1\" class=\"dataframe\">\n",
       "  <thead>\n",
       "    <tr style=\"text-align: right;\">\n",
       "      <th></th>\n",
       "      <th>customer_id</th>\n",
       "      <th>gender</th>\n",
       "      <th>senior_citizen</th>\n",
       "      <th>partner</th>\n",
       "      <th>dependents</th>\n",
       "      <th>multiple_lines</th>\n",
       "      <th>internet_service</th>\n",
       "      <th>online_security</th>\n",
       "      <th>online_backup</th>\n",
       "      <th>device_protection</th>\n",
       "      <th>tech_support</th>\n",
       "      <th>streaming_tv</th>\n",
       "      <th>streaming_movies</th>\n",
       "      <th>begin_date</th>\n",
       "      <th>end_date</th>\n",
       "      <th>type</th>\n",
       "      <th>paperless_billing</th>\n",
       "      <th>payment_method</th>\n",
       "      <th>monthly_charges</th>\n",
       "      <th>total_charges</th>\n",
       "    </tr>\n",
       "  </thead>\n",
       "  <tbody>\n",
       "    <tr>\n",
       "      <th>0</th>\n",
       "      <td>7590-VHVEG</td>\n",
       "      <td>Female</td>\n",
       "      <td>0</td>\n",
       "      <td>Yes</td>\n",
       "      <td>No</td>\n",
       "      <td>NaN</td>\n",
       "      <td>DSL</td>\n",
       "      <td>No</td>\n",
       "      <td>Yes</td>\n",
       "      <td>No</td>\n",
       "      <td>No</td>\n",
       "      <td>No</td>\n",
       "      <td>No</td>\n",
       "      <td>2020-01-01</td>\n",
       "      <td>No</td>\n",
       "      <td>Month-to-month</td>\n",
       "      <td>Yes</td>\n",
       "      <td>Electronic check</td>\n",
       "      <td>29.85</td>\n",
       "      <td>31.04</td>\n",
       "    </tr>\n",
       "    <tr>\n",
       "      <th>1</th>\n",
       "      <td>5575-GNVDE</td>\n",
       "      <td>Male</td>\n",
       "      <td>0</td>\n",
       "      <td>No</td>\n",
       "      <td>No</td>\n",
       "      <td>No</td>\n",
       "      <td>DSL</td>\n",
       "      <td>Yes</td>\n",
       "      <td>No</td>\n",
       "      <td>Yes</td>\n",
       "      <td>No</td>\n",
       "      <td>No</td>\n",
       "      <td>No</td>\n",
       "      <td>2017-04-01</td>\n",
       "      <td>No</td>\n",
       "      <td>One year</td>\n",
       "      <td>No</td>\n",
       "      <td>Mailed check</td>\n",
       "      <td>56.95</td>\n",
       "      <td>2071.84</td>\n",
       "    </tr>\n",
       "    <tr>\n",
       "      <th>2</th>\n",
       "      <td>3668-QPYBK</td>\n",
       "      <td>Male</td>\n",
       "      <td>0</td>\n",
       "      <td>No</td>\n",
       "      <td>No</td>\n",
       "      <td>No</td>\n",
       "      <td>DSL</td>\n",
       "      <td>Yes</td>\n",
       "      <td>Yes</td>\n",
       "      <td>No</td>\n",
       "      <td>No</td>\n",
       "      <td>No</td>\n",
       "      <td>No</td>\n",
       "      <td>2019-10-01</td>\n",
       "      <td>No</td>\n",
       "      <td>Month-to-month</td>\n",
       "      <td>Yes</td>\n",
       "      <td>Mailed check</td>\n",
       "      <td>53.85</td>\n",
       "      <td>226.17</td>\n",
       "    </tr>\n",
       "    <tr>\n",
       "      <th>3</th>\n",
       "      <td>7795-CFOCW</td>\n",
       "      <td>Male</td>\n",
       "      <td>0</td>\n",
       "      <td>No</td>\n",
       "      <td>No</td>\n",
       "      <td>NaN</td>\n",
       "      <td>DSL</td>\n",
       "      <td>Yes</td>\n",
       "      <td>No</td>\n",
       "      <td>Yes</td>\n",
       "      <td>Yes</td>\n",
       "      <td>No</td>\n",
       "      <td>No</td>\n",
       "      <td>2016-05-01</td>\n",
       "      <td>No</td>\n",
       "      <td>One year</td>\n",
       "      <td>No</td>\n",
       "      <td>Bank transfer (automatic)</td>\n",
       "      <td>42.30</td>\n",
       "      <td>1960.6</td>\n",
       "    </tr>\n",
       "    <tr>\n",
       "      <th>4</th>\n",
       "      <td>9237-HQITU</td>\n",
       "      <td>Female</td>\n",
       "      <td>0</td>\n",
       "      <td>No</td>\n",
       "      <td>No</td>\n",
       "      <td>No</td>\n",
       "      <td>Fiber optic</td>\n",
       "      <td>No</td>\n",
       "      <td>No</td>\n",
       "      <td>No</td>\n",
       "      <td>No</td>\n",
       "      <td>No</td>\n",
       "      <td>No</td>\n",
       "      <td>2019-09-01</td>\n",
       "      <td>No</td>\n",
       "      <td>Month-to-month</td>\n",
       "      <td>Yes</td>\n",
       "      <td>Electronic check</td>\n",
       "      <td>70.70</td>\n",
       "      <td>353.5</td>\n",
       "    </tr>\n",
       "    <tr>\n",
       "      <th>5</th>\n",
       "      <td>9305-CDSKC</td>\n",
       "      <td>Female</td>\n",
       "      <td>0</td>\n",
       "      <td>No</td>\n",
       "      <td>No</td>\n",
       "      <td>Yes</td>\n",
       "      <td>Fiber optic</td>\n",
       "      <td>No</td>\n",
       "      <td>No</td>\n",
       "      <td>Yes</td>\n",
       "      <td>No</td>\n",
       "      <td>Yes</td>\n",
       "      <td>Yes</td>\n",
       "      <td>2019-03-01</td>\n",
       "      <td>No</td>\n",
       "      <td>Month-to-month</td>\n",
       "      <td>Yes</td>\n",
       "      <td>Electronic check</td>\n",
       "      <td>99.65</td>\n",
       "      <td>1150.96</td>\n",
       "    </tr>\n",
       "    <tr>\n",
       "      <th>6</th>\n",
       "      <td>1452-KIOVK</td>\n",
       "      <td>Male</td>\n",
       "      <td>0</td>\n",
       "      <td>No</td>\n",
       "      <td>Yes</td>\n",
       "      <td>Yes</td>\n",
       "      <td>Fiber optic</td>\n",
       "      <td>No</td>\n",
       "      <td>Yes</td>\n",
       "      <td>No</td>\n",
       "      <td>No</td>\n",
       "      <td>Yes</td>\n",
       "      <td>No</td>\n",
       "      <td>2018-04-01</td>\n",
       "      <td>No</td>\n",
       "      <td>Month-to-month</td>\n",
       "      <td>Yes</td>\n",
       "      <td>Credit card (automatic)</td>\n",
       "      <td>89.10</td>\n",
       "      <td>2058.21</td>\n",
       "    </tr>\n",
       "    <tr>\n",
       "      <th>7</th>\n",
       "      <td>6713-OKOMC</td>\n",
       "      <td>Female</td>\n",
       "      <td>0</td>\n",
       "      <td>No</td>\n",
       "      <td>No</td>\n",
       "      <td>NaN</td>\n",
       "      <td>DSL</td>\n",
       "      <td>Yes</td>\n",
       "      <td>No</td>\n",
       "      <td>No</td>\n",
       "      <td>No</td>\n",
       "      <td>No</td>\n",
       "      <td>No</td>\n",
       "      <td>2019-04-01</td>\n",
       "      <td>No</td>\n",
       "      <td>Month-to-month</td>\n",
       "      <td>No</td>\n",
       "      <td>Mailed check</td>\n",
       "      <td>29.75</td>\n",
       "      <td>300.48</td>\n",
       "    </tr>\n",
       "    <tr>\n",
       "      <th>8</th>\n",
       "      <td>7892-POOKP</td>\n",
       "      <td>Female</td>\n",
       "      <td>0</td>\n",
       "      <td>Yes</td>\n",
       "      <td>No</td>\n",
       "      <td>Yes</td>\n",
       "      <td>Fiber optic</td>\n",
       "      <td>No</td>\n",
       "      <td>No</td>\n",
       "      <td>Yes</td>\n",
       "      <td>Yes</td>\n",
       "      <td>Yes</td>\n",
       "      <td>Yes</td>\n",
       "      <td>2017-07-01</td>\n",
       "      <td>No</td>\n",
       "      <td>Month-to-month</td>\n",
       "      <td>Yes</td>\n",
       "      <td>Electronic check</td>\n",
       "      <td>104.80</td>\n",
       "      <td>3573.68</td>\n",
       "    </tr>\n",
       "    <tr>\n",
       "      <th>9</th>\n",
       "      <td>6388-TABGU</td>\n",
       "      <td>Male</td>\n",
       "      <td>0</td>\n",
       "      <td>No</td>\n",
       "      <td>Yes</td>\n",
       "      <td>No</td>\n",
       "      <td>DSL</td>\n",
       "      <td>Yes</td>\n",
       "      <td>Yes</td>\n",
       "      <td>No</td>\n",
       "      <td>No</td>\n",
       "      <td>No</td>\n",
       "      <td>No</td>\n",
       "      <td>2014-12-01</td>\n",
       "      <td>2017-05-01</td>\n",
       "      <td>One year</td>\n",
       "      <td>No</td>\n",
       "      <td>Bank transfer (automatic)</td>\n",
       "      <td>56.15</td>\n",
       "      <td>1628.35</td>\n",
       "    </tr>\n",
       "    <tr>\n",
       "      <th>10</th>\n",
       "      <td>9763-GRSKD</td>\n",
       "      <td>Male</td>\n",
       "      <td>0</td>\n",
       "      <td>Yes</td>\n",
       "      <td>Yes</td>\n",
       "      <td>No</td>\n",
       "      <td>DSL</td>\n",
       "      <td>Yes</td>\n",
       "      <td>No</td>\n",
       "      <td>No</td>\n",
       "      <td>No</td>\n",
       "      <td>No</td>\n",
       "      <td>No</td>\n",
       "      <td>2019-01-01</td>\n",
       "      <td>No</td>\n",
       "      <td>Month-to-month</td>\n",
       "      <td>Yes</td>\n",
       "      <td>Mailed check</td>\n",
       "      <td>49.95</td>\n",
       "      <td>649.35</td>\n",
       "    </tr>\n",
       "    <tr>\n",
       "      <th>11</th>\n",
       "      <td>7469-LKBCI</td>\n",
       "      <td>Male</td>\n",
       "      <td>0</td>\n",
       "      <td>No</td>\n",
       "      <td>No</td>\n",
       "      <td>No</td>\n",
       "      <td>NaN</td>\n",
       "      <td>NaN</td>\n",
       "      <td>NaN</td>\n",
       "      <td>NaN</td>\n",
       "      <td>NaN</td>\n",
       "      <td>NaN</td>\n",
       "      <td>NaN</td>\n",
       "      <td>2018-10-01</td>\n",
       "      <td>No</td>\n",
       "      <td>Two year</td>\n",
       "      <td>No</td>\n",
       "      <td>Credit card (automatic)</td>\n",
       "      <td>18.95</td>\n",
       "      <td>312.3</td>\n",
       "    </tr>\n",
       "    <tr>\n",
       "      <th>12</th>\n",
       "      <td>8091-TTVAX</td>\n",
       "      <td>Male</td>\n",
       "      <td>0</td>\n",
       "      <td>Yes</td>\n",
       "      <td>No</td>\n",
       "      <td>Yes</td>\n",
       "      <td>Fiber optic</td>\n",
       "      <td>No</td>\n",
       "      <td>No</td>\n",
       "      <td>Yes</td>\n",
       "      <td>No</td>\n",
       "      <td>Yes</td>\n",
       "      <td>Yes</td>\n",
       "      <td>2015-04-01</td>\n",
       "      <td>No</td>\n",
       "      <td>One year</td>\n",
       "      <td>No</td>\n",
       "      <td>Credit card (automatic)</td>\n",
       "      <td>100.35</td>\n",
       "      <td>6111.31</td>\n",
       "    </tr>\n",
       "    <tr>\n",
       "      <th>13</th>\n",
       "      <td>0280-XJGEX</td>\n",
       "      <td>Male</td>\n",
       "      <td>0</td>\n",
       "      <td>No</td>\n",
       "      <td>No</td>\n",
       "      <td>Yes</td>\n",
       "      <td>Fiber optic</td>\n",
       "      <td>No</td>\n",
       "      <td>Yes</td>\n",
       "      <td>Yes</td>\n",
       "      <td>No</td>\n",
       "      <td>Yes</td>\n",
       "      <td>Yes</td>\n",
       "      <td>2015-09-01</td>\n",
       "      <td>No</td>\n",
       "      <td>Month-to-month</td>\n",
       "      <td>Yes</td>\n",
       "      <td>Bank transfer (automatic)</td>\n",
       "      <td>103.70</td>\n",
       "      <td>5496.1</td>\n",
       "    </tr>\n",
       "    <tr>\n",
       "      <th>14</th>\n",
       "      <td>5129-JLPIS</td>\n",
       "      <td>Male</td>\n",
       "      <td>0</td>\n",
       "      <td>No</td>\n",
       "      <td>No</td>\n",
       "      <td>No</td>\n",
       "      <td>Fiber optic</td>\n",
       "      <td>Yes</td>\n",
       "      <td>No</td>\n",
       "      <td>Yes</td>\n",
       "      <td>Yes</td>\n",
       "      <td>Yes</td>\n",
       "      <td>Yes</td>\n",
       "      <td>2018-01-01</td>\n",
       "      <td>No</td>\n",
       "      <td>Month-to-month</td>\n",
       "      <td>Yes</td>\n",
       "      <td>Electronic check</td>\n",
       "      <td>105.50</td>\n",
       "      <td>2637.5</td>\n",
       "    </tr>\n",
       "    <tr>\n",
       "      <th>15</th>\n",
       "      <td>3655-SNQYZ</td>\n",
       "      <td>Female</td>\n",
       "      <td>0</td>\n",
       "      <td>Yes</td>\n",
       "      <td>Yes</td>\n",
       "      <td>Yes</td>\n",
       "      <td>Fiber optic</td>\n",
       "      <td>Yes</td>\n",
       "      <td>Yes</td>\n",
       "      <td>Yes</td>\n",
       "      <td>Yes</td>\n",
       "      <td>Yes</td>\n",
       "      <td>Yes</td>\n",
       "      <td>2014-05-01</td>\n",
       "      <td>2016-03-01</td>\n",
       "      <td>Two year</td>\n",
       "      <td>No</td>\n",
       "      <td>Credit card (automatic)</td>\n",
       "      <td>113.25</td>\n",
       "      <td>2491.5</td>\n",
       "    </tr>\n",
       "    <tr>\n",
       "      <th>16</th>\n",
       "      <td>8191-XWSZG</td>\n",
       "      <td>Female</td>\n",
       "      <td>0</td>\n",
       "      <td>No</td>\n",
       "      <td>No</td>\n",
       "      <td>No</td>\n",
       "      <td>NaN</td>\n",
       "      <td>NaN</td>\n",
       "      <td>NaN</td>\n",
       "      <td>NaN</td>\n",
       "      <td>NaN</td>\n",
       "      <td>NaN</td>\n",
       "      <td>NaN</td>\n",
       "      <td>2015-10-01</td>\n",
       "      <td>No</td>\n",
       "      <td>One year</td>\n",
       "      <td>No</td>\n",
       "      <td>Mailed check</td>\n",
       "      <td>20.65</td>\n",
       "      <td>1106.01</td>\n",
       "    </tr>\n",
       "    <tr>\n",
       "      <th>17</th>\n",
       "      <td>9959-WOFKT</td>\n",
       "      <td>Male</td>\n",
       "      <td>0</td>\n",
       "      <td>No</td>\n",
       "      <td>Yes</td>\n",
       "      <td>Yes</td>\n",
       "      <td>Fiber optic</td>\n",
       "      <td>Yes</td>\n",
       "      <td>No</td>\n",
       "      <td>Yes</td>\n",
       "      <td>No</td>\n",
       "      <td>Yes</td>\n",
       "      <td>Yes</td>\n",
       "      <td>2014-03-01</td>\n",
       "      <td>No</td>\n",
       "      <td>Two year</td>\n",
       "      <td>No</td>\n",
       "      <td>Bank transfer (automatic)</td>\n",
       "      <td>106.70</td>\n",
       "      <td>8257.51</td>\n",
       "    </tr>\n",
       "    <tr>\n",
       "      <th>18</th>\n",
       "      <td>4190-MFLUW</td>\n",
       "      <td>Female</td>\n",
       "      <td>0</td>\n",
       "      <td>Yes</td>\n",
       "      <td>Yes</td>\n",
       "      <td>No</td>\n",
       "      <td>DSL</td>\n",
       "      <td>No</td>\n",
       "      <td>No</td>\n",
       "      <td>Yes</td>\n",
       "      <td>Yes</td>\n",
       "      <td>No</td>\n",
       "      <td>No</td>\n",
       "      <td>2019-01-01</td>\n",
       "      <td>No</td>\n",
       "      <td>Month-to-month</td>\n",
       "      <td>No</td>\n",
       "      <td>Credit card (automatic)</td>\n",
       "      <td>55.20</td>\n",
       "      <td>789.36</td>\n",
       "    </tr>\n",
       "    <tr>\n",
       "      <th>19</th>\n",
       "      <td>4183-MYFRB</td>\n",
       "      <td>Female</td>\n",
       "      <td>0</td>\n",
       "      <td>No</td>\n",
       "      <td>No</td>\n",
       "      <td>No</td>\n",
       "      <td>Fiber optic</td>\n",
       "      <td>No</td>\n",
       "      <td>Yes</td>\n",
       "      <td>Yes</td>\n",
       "      <td>No</td>\n",
       "      <td>No</td>\n",
       "      <td>Yes</td>\n",
       "      <td>2018-05-01</td>\n",
       "      <td>No</td>\n",
       "      <td>Month-to-month</td>\n",
       "      <td>Yes</td>\n",
       "      <td>Electronic check</td>\n",
       "      <td>90.05</td>\n",
       "      <td>1891.05</td>\n",
       "    </tr>\n",
       "    <tr>\n",
       "      <th>20</th>\n",
       "      <td>8779-QRDMV</td>\n",
       "      <td>Male</td>\n",
       "      <td>1</td>\n",
       "      <td>No</td>\n",
       "      <td>No</td>\n",
       "      <td>NaN</td>\n",
       "      <td>DSL</td>\n",
       "      <td>No</td>\n",
       "      <td>No</td>\n",
       "      <td>Yes</td>\n",
       "      <td>No</td>\n",
       "      <td>No</td>\n",
       "      <td>Yes</td>\n",
       "      <td>2019-11-01</td>\n",
       "      <td>No</td>\n",
       "      <td>Month-to-month</td>\n",
       "      <td>Yes</td>\n",
       "      <td>Electronic check</td>\n",
       "      <td>39.65</td>\n",
       "      <td>118.95</td>\n",
       "    </tr>\n",
       "    <tr>\n",
       "      <th>21</th>\n",
       "      <td>1680-VDCWW</td>\n",
       "      <td>Male</td>\n",
       "      <td>0</td>\n",
       "      <td>Yes</td>\n",
       "      <td>No</td>\n",
       "      <td>No</td>\n",
       "      <td>NaN</td>\n",
       "      <td>NaN</td>\n",
       "      <td>NaN</td>\n",
       "      <td>NaN</td>\n",
       "      <td>NaN</td>\n",
       "      <td>NaN</td>\n",
       "      <td>NaN</td>\n",
       "      <td>2019-02-01</td>\n",
       "      <td>No</td>\n",
       "      <td>One year</td>\n",
       "      <td>No</td>\n",
       "      <td>Bank transfer (automatic)</td>\n",
       "      <td>19.80</td>\n",
       "      <td>237.6</td>\n",
       "    </tr>\n",
       "    <tr>\n",
       "      <th>22</th>\n",
       "      <td>1066-JKSGK</td>\n",
       "      <td>Male</td>\n",
       "      <td>0</td>\n",
       "      <td>No</td>\n",
       "      <td>No</td>\n",
       "      <td>No</td>\n",
       "      <td>NaN</td>\n",
       "      <td>NaN</td>\n",
       "      <td>NaN</td>\n",
       "      <td>NaN</td>\n",
       "      <td>NaN</td>\n",
       "      <td>NaN</td>\n",
       "      <td>NaN</td>\n",
       "      <td>2019-11-01</td>\n",
       "      <td>No</td>\n",
       "      <td>Month-to-month</td>\n",
       "      <td>No</td>\n",
       "      <td>Mailed check</td>\n",
       "      <td>20.15</td>\n",
       "      <td>61.05</td>\n",
       "    </tr>\n",
       "    <tr>\n",
       "      <th>23</th>\n",
       "      <td>3638-WEABW</td>\n",
       "      <td>Female</td>\n",
       "      <td>0</td>\n",
       "      <td>Yes</td>\n",
       "      <td>No</td>\n",
       "      <td>Yes</td>\n",
       "      <td>DSL</td>\n",
       "      <td>No</td>\n",
       "      <td>Yes</td>\n",
       "      <td>No</td>\n",
       "      <td>Yes</td>\n",
       "      <td>No</td>\n",
       "      <td>No</td>\n",
       "      <td>2015-04-01</td>\n",
       "      <td>No</td>\n",
       "      <td>Two year</td>\n",
       "      <td>Yes</td>\n",
       "      <td>Credit card (automatic)</td>\n",
       "      <td>59.90</td>\n",
       "      <td>3821.62</td>\n",
       "    </tr>\n",
       "    <tr>\n",
       "      <th>24</th>\n",
       "      <td>6322-HRPFA</td>\n",
       "      <td>Male</td>\n",
       "      <td>0</td>\n",
       "      <td>Yes</td>\n",
       "      <td>Yes</td>\n",
       "      <td>No</td>\n",
       "      <td>DSL</td>\n",
       "      <td>Yes</td>\n",
       "      <td>Yes</td>\n",
       "      <td>No</td>\n",
       "      <td>Yes</td>\n",
       "      <td>No</td>\n",
       "      <td>No</td>\n",
       "      <td>2016-01-01</td>\n",
       "      <td>No</td>\n",
       "      <td>Month-to-month</td>\n",
       "      <td>No</td>\n",
       "      <td>Credit card (automatic)</td>\n",
       "      <td>59.60</td>\n",
       "      <td>3212.44</td>\n",
       "    </tr>\n",
       "    <tr>\n",
       "      <th>25</th>\n",
       "      <td>6865-JZNKO</td>\n",
       "      <td>Female</td>\n",
       "      <td>0</td>\n",
       "      <td>No</td>\n",
       "      <td>No</td>\n",
       "      <td>No</td>\n",
       "      <td>DSL</td>\n",
       "      <td>Yes</td>\n",
       "      <td>Yes</td>\n",
       "      <td>No</td>\n",
       "      <td>No</td>\n",
       "      <td>No</td>\n",
       "      <td>No</td>\n",
       "      <td>2017-08-01</td>\n",
       "      <td>2018-09-01</td>\n",
       "      <td>Month-to-month</td>\n",
       "      <td>Yes</td>\n",
       "      <td>Bank transfer (automatic)</td>\n",
       "      <td>55.30</td>\n",
       "      <td>726.09</td>\n",
       "    </tr>\n",
       "    <tr>\n",
       "      <th>26</th>\n",
       "      <td>6467-CHFZW</td>\n",
       "      <td>Male</td>\n",
       "      <td>0</td>\n",
       "      <td>Yes</td>\n",
       "      <td>Yes</td>\n",
       "      <td>Yes</td>\n",
       "      <td>Fiber optic</td>\n",
       "      <td>No</td>\n",
       "      <td>Yes</td>\n",
       "      <td>No</td>\n",
       "      <td>No</td>\n",
       "      <td>Yes</td>\n",
       "      <td>Yes</td>\n",
       "      <td>2015-12-01</td>\n",
       "      <td>No</td>\n",
       "      <td>Month-to-month</td>\n",
       "      <td>Yes</td>\n",
       "      <td>Electronic check</td>\n",
       "      <td>99.35</td>\n",
       "      <td>5215.88</td>\n",
       "    </tr>\n",
       "    <tr>\n",
       "      <th>27</th>\n",
       "      <td>8665-UTDHZ</td>\n",
       "      <td>Male</td>\n",
       "      <td>0</td>\n",
       "      <td>Yes</td>\n",
       "      <td>Yes</td>\n",
       "      <td>NaN</td>\n",
       "      <td>DSL</td>\n",
       "      <td>No</td>\n",
       "      <td>Yes</td>\n",
       "      <td>No</td>\n",
       "      <td>No</td>\n",
       "      <td>No</td>\n",
       "      <td>No</td>\n",
       "      <td>2019-11-01</td>\n",
       "      <td>No</td>\n",
       "      <td>Month-to-month</td>\n",
       "      <td>No</td>\n",
       "      <td>Electronic check</td>\n",
       "      <td>30.20</td>\n",
       "      <td>96.04</td>\n",
       "    </tr>\n",
       "    <tr>\n",
       "      <th>28</th>\n",
       "      <td>5248-YGIJN</td>\n",
       "      <td>Male</td>\n",
       "      <td>0</td>\n",
       "      <td>Yes</td>\n",
       "      <td>No</td>\n",
       "      <td>Yes</td>\n",
       "      <td>DSL</td>\n",
       "      <td>Yes</td>\n",
       "      <td>Yes</td>\n",
       "      <td>Yes</td>\n",
       "      <td>Yes</td>\n",
       "      <td>Yes</td>\n",
       "      <td>Yes</td>\n",
       "      <td>2014-02-01</td>\n",
       "      <td>No</td>\n",
       "      <td>Two year</td>\n",
       "      <td>Yes</td>\n",
       "      <td>Credit card (automatic)</td>\n",
       "      <td>90.25</td>\n",
       "      <td>6498.0</td>\n",
       "    </tr>\n",
       "    <tr>\n",
       "      <th>29</th>\n",
       "      <td>8773-HHUOZ</td>\n",
       "      <td>Female</td>\n",
       "      <td>0</td>\n",
       "      <td>No</td>\n",
       "      <td>Yes</td>\n",
       "      <td>No</td>\n",
       "      <td>DSL</td>\n",
       "      <td>No</td>\n",
       "      <td>No</td>\n",
       "      <td>No</td>\n",
       "      <td>No</td>\n",
       "      <td>Yes</td>\n",
       "      <td>Yes</td>\n",
       "      <td>2018-06-01</td>\n",
       "      <td>No</td>\n",
       "      <td>Month-to-month</td>\n",
       "      <td>Yes</td>\n",
       "      <td>Mailed check</td>\n",
       "      <td>64.70</td>\n",
       "      <td>1294.0</td>\n",
       "    </tr>\n",
       "    <tr>\n",
       "      <th>30</th>\n",
       "      <td>3841-NFECX</td>\n",
       "      <td>Female</td>\n",
       "      <td>1</td>\n",
       "      <td>Yes</td>\n",
       "      <td>No</td>\n",
       "      <td>Yes</td>\n",
       "      <td>Fiber optic</td>\n",
       "      <td>Yes</td>\n",
       "      <td>Yes</td>\n",
       "      <td>Yes</td>\n",
       "      <td>Yes</td>\n",
       "      <td>No</td>\n",
       "      <td>No</td>\n",
       "      <td>2014-03-01</td>\n",
       "      <td>2018-11-01</td>\n",
       "      <td>Two year</td>\n",
       "      <td>Yes</td>\n",
       "      <td>Credit card (automatic)</td>\n",
       "      <td>96.35</td>\n",
       "      <td>5395.6</td>\n",
       "    </tr>\n",
       "    <tr>\n",
       "      <th>31</th>\n",
       "      <td>4929-XIHVW</td>\n",
       "      <td>Male</td>\n",
       "      <td>1</td>\n",
       "      <td>Yes</td>\n",
       "      <td>No</td>\n",
       "      <td>No</td>\n",
       "      <td>Fiber optic</td>\n",
       "      <td>No</td>\n",
       "      <td>No</td>\n",
       "      <td>Yes</td>\n",
       "      <td>No</td>\n",
       "      <td>Yes</td>\n",
       "      <td>Yes</td>\n",
       "      <td>2019-12-01</td>\n",
       "      <td>No</td>\n",
       "      <td>Month-to-month</td>\n",
       "      <td>Yes</td>\n",
       "      <td>Credit card (automatic)</td>\n",
       "      <td>95.50</td>\n",
       "      <td>194.82</td>\n",
       "    </tr>\n",
       "    <tr>\n",
       "      <th>32</th>\n",
       "      <td>6827-IEAUQ</td>\n",
       "      <td>Female</td>\n",
       "      <td>0</td>\n",
       "      <td>Yes</td>\n",
       "      <td>Yes</td>\n",
       "      <td>No</td>\n",
       "      <td>DSL</td>\n",
       "      <td>Yes</td>\n",
       "      <td>Yes</td>\n",
       "      <td>Yes</td>\n",
       "      <td>Yes</td>\n",
       "      <td>No</td>\n",
       "      <td>No</td>\n",
       "      <td>2017-11-01</td>\n",
       "      <td>No</td>\n",
       "      <td>One year</td>\n",
       "      <td>No</td>\n",
       "      <td>Mailed check</td>\n",
       "      <td>66.15</td>\n",
       "      <td>1928.93</td>\n",
       "    </tr>\n",
       "    <tr>\n",
       "      <th>33</th>\n",
       "      <td>7310-EGVHZ</td>\n",
       "      <td>Male</td>\n",
       "      <td>0</td>\n",
       "      <td>No</td>\n",
       "      <td>No</td>\n",
       "      <td>No</td>\n",
       "      <td>NaN</td>\n",
       "      <td>NaN</td>\n",
       "      <td>NaN</td>\n",
       "      <td>NaN</td>\n",
       "      <td>NaN</td>\n",
       "      <td>NaN</td>\n",
       "      <td>NaN</td>\n",
       "      <td>2020-01-01</td>\n",
       "      <td>No</td>\n",
       "      <td>Month-to-month</td>\n",
       "      <td>No</td>\n",
       "      <td>Bank transfer (automatic)</td>\n",
       "      <td>20.20</td>\n",
       "      <td>22.22</td>\n",
       "    </tr>\n",
       "    <tr>\n",
       "      <th>34</th>\n",
       "      <td>3413-BMNZE</td>\n",
       "      <td>Male</td>\n",
       "      <td>1</td>\n",
       "      <td>No</td>\n",
       "      <td>No</td>\n",
       "      <td>No</td>\n",
       "      <td>DSL</td>\n",
       "      <td>No</td>\n",
       "      <td>No</td>\n",
       "      <td>No</td>\n",
       "      <td>No</td>\n",
       "      <td>No</td>\n",
       "      <td>No</td>\n",
       "      <td>2020-01-01</td>\n",
       "      <td>No</td>\n",
       "      <td>Month-to-month</td>\n",
       "      <td>No</td>\n",
       "      <td>Bank transfer (automatic)</td>\n",
       "      <td>45.25</td>\n",
       "      <td>45.25</td>\n",
       "    </tr>\n",
       "    <tr>\n",
       "      <th>35</th>\n",
       "      <td>6234-RAAPL</td>\n",
       "      <td>Female</td>\n",
       "      <td>0</td>\n",
       "      <td>Yes</td>\n",
       "      <td>Yes</td>\n",
       "      <td>Yes</td>\n",
       "      <td>Fiber optic</td>\n",
       "      <td>Yes</td>\n",
       "      <td>Yes</td>\n",
       "      <td>No</td>\n",
       "      <td>Yes</td>\n",
       "      <td>Yes</td>\n",
       "      <td>No</td>\n",
       "      <td>2014-02-01</td>\n",
       "      <td>2018-12-01</td>\n",
       "      <td>Two year</td>\n",
       "      <td>No</td>\n",
       "      <td>Bank transfer (automatic)</td>\n",
       "      <td>99.90</td>\n",
       "      <td>5794.2</td>\n",
       "    </tr>\n",
       "    <tr>\n",
       "      <th>36</th>\n",
       "      <td>6047-YHPVI</td>\n",
       "      <td>Male</td>\n",
       "      <td>0</td>\n",
       "      <td>No</td>\n",
       "      <td>No</td>\n",
       "      <td>No</td>\n",
       "      <td>Fiber optic</td>\n",
       "      <td>No</td>\n",
       "      <td>No</td>\n",
       "      <td>No</td>\n",
       "      <td>No</td>\n",
       "      <td>No</td>\n",
       "      <td>No</td>\n",
       "      <td>2019-06-01</td>\n",
       "      <td>No</td>\n",
       "      <td>Month-to-month</td>\n",
       "      <td>Yes</td>\n",
       "      <td>Electronic check</td>\n",
       "      <td>69.70</td>\n",
       "      <td>557.6</td>\n",
       "    </tr>\n",
       "    <tr>\n",
       "      <th>37</th>\n",
       "      <td>6572-ADKRS</td>\n",
       "      <td>Female</td>\n",
       "      <td>0</td>\n",
       "      <td>No</td>\n",
       "      <td>No</td>\n",
       "      <td>No</td>\n",
       "      <td>Fiber optic</td>\n",
       "      <td>No</td>\n",
       "      <td>No</td>\n",
       "      <td>Yes</td>\n",
       "      <td>No</td>\n",
       "      <td>No</td>\n",
       "      <td>No</td>\n",
       "      <td>2016-04-01</td>\n",
       "      <td>No</td>\n",
       "      <td>Month-to-month</td>\n",
       "      <td>Yes</td>\n",
       "      <td>Credit card (automatic)</td>\n",
       "      <td>74.80</td>\n",
       "      <td>3440.8</td>\n",
       "    </tr>\n",
       "    <tr>\n",
       "      <th>38</th>\n",
       "      <td>5380-WJKOV</td>\n",
       "      <td>Male</td>\n",
       "      <td>0</td>\n",
       "      <td>No</td>\n",
       "      <td>No</td>\n",
       "      <td>Yes</td>\n",
       "      <td>Fiber optic</td>\n",
       "      <td>No</td>\n",
       "      <td>Yes</td>\n",
       "      <td>Yes</td>\n",
       "      <td>No</td>\n",
       "      <td>Yes</td>\n",
       "      <td>Yes</td>\n",
       "      <td>2017-02-01</td>\n",
       "      <td>No</td>\n",
       "      <td>Month-to-month</td>\n",
       "      <td>Yes</td>\n",
       "      <td>Electronic check</td>\n",
       "      <td>106.35</td>\n",
       "      <td>4211.46</td>\n",
       "    </tr>\n",
       "    <tr>\n",
       "      <th>39</th>\n",
       "      <td>8168-UQWWF</td>\n",
       "      <td>Female</td>\n",
       "      <td>0</td>\n",
       "      <td>No</td>\n",
       "      <td>No</td>\n",
       "      <td>Yes</td>\n",
       "      <td>Fiber optic</td>\n",
       "      <td>No</td>\n",
       "      <td>No</td>\n",
       "      <td>Yes</td>\n",
       "      <td>No</td>\n",
       "      <td>Yes</td>\n",
       "      <td>Yes</td>\n",
       "      <td>2018-12-01</td>\n",
       "      <td>No</td>\n",
       "      <td>Month-to-month</td>\n",
       "      <td>Yes</td>\n",
       "      <td>Bank transfer (automatic)</td>\n",
       "      <td>97.85</td>\n",
       "      <td>1369.9</td>\n",
       "    </tr>\n",
       "    <tr>\n",
       "      <th>40</th>\n",
       "      <td>8865-TNMNX</td>\n",
       "      <td>Male</td>\n",
       "      <td>0</td>\n",
       "      <td>Yes</td>\n",
       "      <td>Yes</td>\n",
       "      <td>No</td>\n",
       "      <td>DSL</td>\n",
       "      <td>No</td>\n",
       "      <td>Yes</td>\n",
       "      <td>No</td>\n",
       "      <td>No</td>\n",
       "      <td>No</td>\n",
       "      <td>No</td>\n",
       "      <td>2019-04-01</td>\n",
       "      <td>No</td>\n",
       "      <td>One year</td>\n",
       "      <td>No</td>\n",
       "      <td>Mailed check</td>\n",
       "      <td>49.55</td>\n",
       "      <td>495.5</td>\n",
       "    </tr>\n",
       "    <tr>\n",
       "      <th>41</th>\n",
       "      <td>9489-DEDVP</td>\n",
       "      <td>Female</td>\n",
       "      <td>0</td>\n",
       "      <td>Yes</td>\n",
       "      <td>Yes</td>\n",
       "      <td>Yes</td>\n",
       "      <td>DSL</td>\n",
       "      <td>Yes</td>\n",
       "      <td>Yes</td>\n",
       "      <td>No</td>\n",
       "      <td>No</td>\n",
       "      <td>Yes</td>\n",
       "      <td>No</td>\n",
       "      <td>2014-04-01</td>\n",
       "      <td>2019-08-01</td>\n",
       "      <td>Two year</td>\n",
       "      <td>Yes</td>\n",
       "      <td>Credit card (automatic)</td>\n",
       "      <td>69.20</td>\n",
       "      <td>4428.8</td>\n",
       "    </tr>\n",
       "    <tr>\n",
       "      <th>42</th>\n",
       "      <td>9867-JCZSP</td>\n",
       "      <td>Female</td>\n",
       "      <td>0</td>\n",
       "      <td>Yes</td>\n",
       "      <td>Yes</td>\n",
       "      <td>No</td>\n",
       "      <td>NaN</td>\n",
       "      <td>NaN</td>\n",
       "      <td>NaN</td>\n",
       "      <td>NaN</td>\n",
       "      <td>NaN</td>\n",
       "      <td>NaN</td>\n",
       "      <td>NaN</td>\n",
       "      <td>2018-09-01</td>\n",
       "      <td>No</td>\n",
       "      <td>One year</td>\n",
       "      <td>No</td>\n",
       "      <td>Mailed check</td>\n",
       "      <td>20.75</td>\n",
       "      <td>352.75</td>\n",
       "    </tr>\n",
       "    <tr>\n",
       "      <th>43</th>\n",
       "      <td>4671-VJLCL</td>\n",
       "      <td>Female</td>\n",
       "      <td>0</td>\n",
       "      <td>No</td>\n",
       "      <td>No</td>\n",
       "      <td>Yes</td>\n",
       "      <td>DSL</td>\n",
       "      <td>Yes</td>\n",
       "      <td>Yes</td>\n",
       "      <td>Yes</td>\n",
       "      <td>Yes</td>\n",
       "      <td>Yes</td>\n",
       "      <td>No</td>\n",
       "      <td>2014-11-01</td>\n",
       "      <td>No</td>\n",
       "      <td>Two year</td>\n",
       "      <td>Yes</td>\n",
       "      <td>Credit card (automatic)</td>\n",
       "      <td>79.85</td>\n",
       "      <td>5030.55</td>\n",
       "    </tr>\n",
       "    <tr>\n",
       "      <th>44</th>\n",
       "      <td>4080-IIARD</td>\n",
       "      <td>Female</td>\n",
       "      <td>0</td>\n",
       "      <td>Yes</td>\n",
       "      <td>No</td>\n",
       "      <td>Yes</td>\n",
       "      <td>DSL</td>\n",
       "      <td>Yes</td>\n",
       "      <td>Yes</td>\n",
       "      <td>No</td>\n",
       "      <td>Yes</td>\n",
       "      <td>Yes</td>\n",
       "      <td>No</td>\n",
       "      <td>2019-01-01</td>\n",
       "      <td>No</td>\n",
       "      <td>Month-to-month</td>\n",
       "      <td>Yes</td>\n",
       "      <td>Electronic check</td>\n",
       "      <td>76.20</td>\n",
       "      <td>990.6</td>\n",
       "    </tr>\n",
       "    <tr>\n",
       "      <th>45</th>\n",
       "      <td>3714-NTNFO</td>\n",
       "      <td>Female</td>\n",
       "      <td>0</td>\n",
       "      <td>No</td>\n",
       "      <td>No</td>\n",
       "      <td>Yes</td>\n",
       "      <td>Fiber optic</td>\n",
       "      <td>No</td>\n",
       "      <td>No</td>\n",
       "      <td>No</td>\n",
       "      <td>No</td>\n",
       "      <td>No</td>\n",
       "      <td>Yes</td>\n",
       "      <td>2016-01-01</td>\n",
       "      <td>No</td>\n",
       "      <td>Month-to-month</td>\n",
       "      <td>Yes</td>\n",
       "      <td>Electronic check</td>\n",
       "      <td>84.50</td>\n",
       "      <td>4140.5</td>\n",
       "    </tr>\n",
       "    <tr>\n",
       "      <th>46</th>\n",
       "      <td>5948-UJZLF</td>\n",
       "      <td>Male</td>\n",
       "      <td>0</td>\n",
       "      <td>No</td>\n",
       "      <td>No</td>\n",
       "      <td>No</td>\n",
       "      <td>DSL</td>\n",
       "      <td>No</td>\n",
       "      <td>Yes</td>\n",
       "      <td>No</td>\n",
       "      <td>No</td>\n",
       "      <td>No</td>\n",
       "      <td>No</td>\n",
       "      <td>2019-12-01</td>\n",
       "      <td>No</td>\n",
       "      <td>Month-to-month</td>\n",
       "      <td>No</td>\n",
       "      <td>Mailed check</td>\n",
       "      <td>49.25</td>\n",
       "      <td>98.5</td>\n",
       "    </tr>\n",
       "    <tr>\n",
       "      <th>47</th>\n",
       "      <td>7760-OYPDY</td>\n",
       "      <td>Female</td>\n",
       "      <td>0</td>\n",
       "      <td>No</td>\n",
       "      <td>No</td>\n",
       "      <td>No</td>\n",
       "      <td>Fiber optic</td>\n",
       "      <td>No</td>\n",
       "      <td>No</td>\n",
       "      <td>No</td>\n",
       "      <td>No</td>\n",
       "      <td>Yes</td>\n",
       "      <td>No</td>\n",
       "      <td>2019-11-01</td>\n",
       "      <td>No</td>\n",
       "      <td>Month-to-month</td>\n",
       "      <td>Yes</td>\n",
       "      <td>Electronic check</td>\n",
       "      <td>80.65</td>\n",
       "      <td>241.95</td>\n",
       "    </tr>\n",
       "    <tr>\n",
       "      <th>48</th>\n",
       "      <td>7639-LIAYI</td>\n",
       "      <td>Male</td>\n",
       "      <td>0</td>\n",
       "      <td>No</td>\n",
       "      <td>No</td>\n",
       "      <td>Yes</td>\n",
       "      <td>DSL</td>\n",
       "      <td>Yes</td>\n",
       "      <td>No</td>\n",
       "      <td>No</td>\n",
       "      <td>Yes</td>\n",
       "      <td>Yes</td>\n",
       "      <td>Yes</td>\n",
       "      <td>2015-10-01</td>\n",
       "      <td>No</td>\n",
       "      <td>Two year</td>\n",
       "      <td>Yes</td>\n",
       "      <td>Credit card (automatic)</td>\n",
       "      <td>79.75</td>\n",
       "      <td>4395.82</td>\n",
       "    </tr>\n",
       "    <tr>\n",
       "      <th>49</th>\n",
       "      <td>2954-PIBKO</td>\n",
       "      <td>Female</td>\n",
       "      <td>0</td>\n",
       "      <td>Yes</td>\n",
       "      <td>Yes</td>\n",
       "      <td>Yes</td>\n",
       "      <td>DSL</td>\n",
       "      <td>Yes</td>\n",
       "      <td>No</td>\n",
       "      <td>Yes</td>\n",
       "      <td>Yes</td>\n",
       "      <td>No</td>\n",
       "      <td>No</td>\n",
       "      <td>2014-05-01</td>\n",
       "      <td>No</td>\n",
       "      <td>Two year</td>\n",
       "      <td>Yes</td>\n",
       "      <td>Credit card (automatic)</td>\n",
       "      <td>64.15</td>\n",
       "      <td>4780.46</td>\n",
       "    </tr>\n",
       "  </tbody>\n",
       "</table>\n",
       "</div>"
      ],
      "text/plain": [
       "   customer_id  gender  senior_citizen partner dependents multiple_lines  \\\n",
       "0   7590-VHVEG  Female               0     Yes         No            NaN   \n",
       "1   5575-GNVDE    Male               0      No         No             No   \n",
       "2   3668-QPYBK    Male               0      No         No             No   \n",
       "3   7795-CFOCW    Male               0      No         No            NaN   \n",
       "4   9237-HQITU  Female               0      No         No             No   \n",
       "5   9305-CDSKC  Female               0      No         No            Yes   \n",
       "6   1452-KIOVK    Male               0      No        Yes            Yes   \n",
       "7   6713-OKOMC  Female               0      No         No            NaN   \n",
       "8   7892-POOKP  Female               0     Yes         No            Yes   \n",
       "9   6388-TABGU    Male               0      No        Yes             No   \n",
       "10  9763-GRSKD    Male               0     Yes        Yes             No   \n",
       "11  7469-LKBCI    Male               0      No         No             No   \n",
       "12  8091-TTVAX    Male               0     Yes         No            Yes   \n",
       "13  0280-XJGEX    Male               0      No         No            Yes   \n",
       "14  5129-JLPIS    Male               0      No         No             No   \n",
       "15  3655-SNQYZ  Female               0     Yes        Yes            Yes   \n",
       "16  8191-XWSZG  Female               0      No         No             No   \n",
       "17  9959-WOFKT    Male               0      No        Yes            Yes   \n",
       "18  4190-MFLUW  Female               0     Yes        Yes             No   \n",
       "19  4183-MYFRB  Female               0      No         No             No   \n",
       "20  8779-QRDMV    Male               1      No         No            NaN   \n",
       "21  1680-VDCWW    Male               0     Yes         No             No   \n",
       "22  1066-JKSGK    Male               0      No         No             No   \n",
       "23  3638-WEABW  Female               0     Yes         No            Yes   \n",
       "24  6322-HRPFA    Male               0     Yes        Yes             No   \n",
       "25  6865-JZNKO  Female               0      No         No             No   \n",
       "26  6467-CHFZW    Male               0     Yes        Yes            Yes   \n",
       "27  8665-UTDHZ    Male               0     Yes        Yes            NaN   \n",
       "28  5248-YGIJN    Male               0     Yes         No            Yes   \n",
       "29  8773-HHUOZ  Female               0      No        Yes             No   \n",
       "30  3841-NFECX  Female               1     Yes         No            Yes   \n",
       "31  4929-XIHVW    Male               1     Yes         No             No   \n",
       "32  6827-IEAUQ  Female               0     Yes        Yes             No   \n",
       "33  7310-EGVHZ    Male               0      No         No             No   \n",
       "34  3413-BMNZE    Male               1      No         No             No   \n",
       "35  6234-RAAPL  Female               0     Yes        Yes            Yes   \n",
       "36  6047-YHPVI    Male               0      No         No             No   \n",
       "37  6572-ADKRS  Female               0      No         No             No   \n",
       "38  5380-WJKOV    Male               0      No         No            Yes   \n",
       "39  8168-UQWWF  Female               0      No         No            Yes   \n",
       "40  8865-TNMNX    Male               0     Yes        Yes             No   \n",
       "41  9489-DEDVP  Female               0     Yes        Yes            Yes   \n",
       "42  9867-JCZSP  Female               0     Yes        Yes             No   \n",
       "43  4671-VJLCL  Female               0      No         No            Yes   \n",
       "44  4080-IIARD  Female               0     Yes         No            Yes   \n",
       "45  3714-NTNFO  Female               0      No         No            Yes   \n",
       "46  5948-UJZLF    Male               0      No         No             No   \n",
       "47  7760-OYPDY  Female               0      No         No             No   \n",
       "48  7639-LIAYI    Male               0      No         No            Yes   \n",
       "49  2954-PIBKO  Female               0     Yes        Yes            Yes   \n",
       "\n",
       "   internet_service online_security online_backup device_protection  \\\n",
       "0               DSL              No           Yes                No   \n",
       "1               DSL             Yes            No               Yes   \n",
       "2               DSL             Yes           Yes                No   \n",
       "3               DSL             Yes            No               Yes   \n",
       "4       Fiber optic              No            No                No   \n",
       "5       Fiber optic              No            No               Yes   \n",
       "6       Fiber optic              No           Yes                No   \n",
       "7               DSL             Yes            No                No   \n",
       "8       Fiber optic              No            No               Yes   \n",
       "9               DSL             Yes           Yes                No   \n",
       "10              DSL             Yes            No                No   \n",
       "11              NaN             NaN           NaN               NaN   \n",
       "12      Fiber optic              No            No               Yes   \n",
       "13      Fiber optic              No           Yes               Yes   \n",
       "14      Fiber optic             Yes            No               Yes   \n",
       "15      Fiber optic             Yes           Yes               Yes   \n",
       "16              NaN             NaN           NaN               NaN   \n",
       "17      Fiber optic             Yes            No               Yes   \n",
       "18              DSL              No            No               Yes   \n",
       "19      Fiber optic              No           Yes               Yes   \n",
       "20              DSL              No            No               Yes   \n",
       "21              NaN             NaN           NaN               NaN   \n",
       "22              NaN             NaN           NaN               NaN   \n",
       "23              DSL              No           Yes                No   \n",
       "24              DSL             Yes           Yes                No   \n",
       "25              DSL             Yes           Yes                No   \n",
       "26      Fiber optic              No           Yes                No   \n",
       "27              DSL              No           Yes                No   \n",
       "28              DSL             Yes           Yes               Yes   \n",
       "29              DSL              No            No                No   \n",
       "30      Fiber optic             Yes           Yes               Yes   \n",
       "31      Fiber optic              No            No               Yes   \n",
       "32              DSL             Yes           Yes               Yes   \n",
       "33              NaN             NaN           NaN               NaN   \n",
       "34              DSL              No            No                No   \n",
       "35      Fiber optic             Yes           Yes                No   \n",
       "36      Fiber optic              No            No                No   \n",
       "37      Fiber optic              No            No               Yes   \n",
       "38      Fiber optic              No           Yes               Yes   \n",
       "39      Fiber optic              No            No               Yes   \n",
       "40              DSL              No           Yes                No   \n",
       "41              DSL             Yes           Yes                No   \n",
       "42              NaN             NaN           NaN               NaN   \n",
       "43              DSL             Yes           Yes               Yes   \n",
       "44              DSL             Yes           Yes                No   \n",
       "45      Fiber optic              No            No                No   \n",
       "46              DSL              No           Yes                No   \n",
       "47      Fiber optic              No            No                No   \n",
       "48              DSL             Yes            No                No   \n",
       "49              DSL             Yes            No               Yes   \n",
       "\n",
       "   tech_support streaming_tv streaming_movies  begin_date    end_date  \\\n",
       "0            No           No               No  2020-01-01          No   \n",
       "1            No           No               No  2017-04-01          No   \n",
       "2            No           No               No  2019-10-01          No   \n",
       "3           Yes           No               No  2016-05-01          No   \n",
       "4            No           No               No  2019-09-01          No   \n",
       "5            No          Yes              Yes  2019-03-01          No   \n",
       "6            No          Yes               No  2018-04-01          No   \n",
       "7            No           No               No  2019-04-01          No   \n",
       "8           Yes          Yes              Yes  2017-07-01          No   \n",
       "9            No           No               No  2014-12-01  2017-05-01   \n",
       "10           No           No               No  2019-01-01          No   \n",
       "11          NaN          NaN              NaN  2018-10-01          No   \n",
       "12           No          Yes              Yes  2015-04-01          No   \n",
       "13           No          Yes              Yes  2015-09-01          No   \n",
       "14          Yes          Yes              Yes  2018-01-01          No   \n",
       "15          Yes          Yes              Yes  2014-05-01  2016-03-01   \n",
       "16          NaN          NaN              NaN  2015-10-01          No   \n",
       "17           No          Yes              Yes  2014-03-01          No   \n",
       "18          Yes           No               No  2019-01-01          No   \n",
       "19           No           No              Yes  2018-05-01          No   \n",
       "20           No           No              Yes  2019-11-01          No   \n",
       "21          NaN          NaN              NaN  2019-02-01          No   \n",
       "22          NaN          NaN              NaN  2019-11-01          No   \n",
       "23          Yes           No               No  2015-04-01          No   \n",
       "24          Yes           No               No  2016-01-01          No   \n",
       "25           No           No               No  2017-08-01  2018-09-01   \n",
       "26           No          Yes              Yes  2015-12-01          No   \n",
       "27           No           No               No  2019-11-01          No   \n",
       "28          Yes          Yes              Yes  2014-02-01          No   \n",
       "29           No          Yes              Yes  2018-06-01          No   \n",
       "30          Yes           No               No  2014-03-01  2018-11-01   \n",
       "31           No          Yes              Yes  2019-12-01          No   \n",
       "32          Yes           No               No  2017-11-01          No   \n",
       "33          NaN          NaN              NaN  2020-01-01          No   \n",
       "34           No           No               No  2020-01-01          No   \n",
       "35          Yes          Yes               No  2014-02-01  2018-12-01   \n",
       "36           No           No               No  2019-06-01          No   \n",
       "37           No           No               No  2016-04-01          No   \n",
       "38           No          Yes              Yes  2017-02-01          No   \n",
       "39           No          Yes              Yes  2018-12-01          No   \n",
       "40           No           No               No  2019-04-01          No   \n",
       "41           No          Yes               No  2014-04-01  2019-08-01   \n",
       "42          NaN          NaN              NaN  2018-09-01          No   \n",
       "43          Yes          Yes               No  2014-11-01          No   \n",
       "44          Yes          Yes               No  2019-01-01          No   \n",
       "45           No           No              Yes  2016-01-01          No   \n",
       "46           No           No               No  2019-12-01          No   \n",
       "47           No          Yes               No  2019-11-01          No   \n",
       "48          Yes          Yes              Yes  2015-10-01          No   \n",
       "49          Yes           No               No  2014-05-01          No   \n",
       "\n",
       "              type paperless_billing             payment_method  \\\n",
       "0   Month-to-month               Yes           Electronic check   \n",
       "1         One year                No               Mailed check   \n",
       "2   Month-to-month               Yes               Mailed check   \n",
       "3         One year                No  Bank transfer (automatic)   \n",
       "4   Month-to-month               Yes           Electronic check   \n",
       "5   Month-to-month               Yes           Electronic check   \n",
       "6   Month-to-month               Yes    Credit card (automatic)   \n",
       "7   Month-to-month                No               Mailed check   \n",
       "8   Month-to-month               Yes           Electronic check   \n",
       "9         One year                No  Bank transfer (automatic)   \n",
       "10  Month-to-month               Yes               Mailed check   \n",
       "11        Two year                No    Credit card (automatic)   \n",
       "12        One year                No    Credit card (automatic)   \n",
       "13  Month-to-month               Yes  Bank transfer (automatic)   \n",
       "14  Month-to-month               Yes           Electronic check   \n",
       "15        Two year                No    Credit card (automatic)   \n",
       "16        One year                No               Mailed check   \n",
       "17        Two year                No  Bank transfer (automatic)   \n",
       "18  Month-to-month                No    Credit card (automatic)   \n",
       "19  Month-to-month               Yes           Electronic check   \n",
       "20  Month-to-month               Yes           Electronic check   \n",
       "21        One year                No  Bank transfer (automatic)   \n",
       "22  Month-to-month                No               Mailed check   \n",
       "23        Two year               Yes    Credit card (automatic)   \n",
       "24  Month-to-month                No    Credit card (automatic)   \n",
       "25  Month-to-month               Yes  Bank transfer (automatic)   \n",
       "26  Month-to-month               Yes           Electronic check   \n",
       "27  Month-to-month                No           Electronic check   \n",
       "28        Two year               Yes    Credit card (automatic)   \n",
       "29  Month-to-month               Yes               Mailed check   \n",
       "30        Two year               Yes    Credit card (automatic)   \n",
       "31  Month-to-month               Yes    Credit card (automatic)   \n",
       "32        One year                No               Mailed check   \n",
       "33  Month-to-month                No  Bank transfer (automatic)   \n",
       "34  Month-to-month                No  Bank transfer (automatic)   \n",
       "35        Two year                No  Bank transfer (automatic)   \n",
       "36  Month-to-month               Yes           Electronic check   \n",
       "37  Month-to-month               Yes    Credit card (automatic)   \n",
       "38  Month-to-month               Yes           Electronic check   \n",
       "39  Month-to-month               Yes  Bank transfer (automatic)   \n",
       "40        One year                No               Mailed check   \n",
       "41        Two year               Yes    Credit card (automatic)   \n",
       "42        One year                No               Mailed check   \n",
       "43        Two year               Yes    Credit card (automatic)   \n",
       "44  Month-to-month               Yes           Electronic check   \n",
       "45  Month-to-month               Yes           Electronic check   \n",
       "46  Month-to-month                No               Mailed check   \n",
       "47  Month-to-month               Yes           Electronic check   \n",
       "48        Two year               Yes    Credit card (automatic)   \n",
       "49        Two year               Yes    Credit card (automatic)   \n",
       "\n",
       "    monthly_charges total_charges  \n",
       "0             29.85         31.04  \n",
       "1             56.95       2071.84  \n",
       "2             53.85        226.17  \n",
       "3             42.30        1960.6  \n",
       "4             70.70         353.5  \n",
       "5             99.65       1150.96  \n",
       "6             89.10       2058.21  \n",
       "7             29.75        300.48  \n",
       "8            104.80       3573.68  \n",
       "9             56.15       1628.35  \n",
       "10            49.95        649.35  \n",
       "11            18.95         312.3  \n",
       "12           100.35       6111.31  \n",
       "13           103.70        5496.1  \n",
       "14           105.50        2637.5  \n",
       "15           113.25        2491.5  \n",
       "16            20.65       1106.01  \n",
       "17           106.70       8257.51  \n",
       "18            55.20        789.36  \n",
       "19            90.05       1891.05  \n",
       "20            39.65        118.95  \n",
       "21            19.80         237.6  \n",
       "22            20.15         61.05  \n",
       "23            59.90       3821.62  \n",
       "24            59.60       3212.44  \n",
       "25            55.30        726.09  \n",
       "26            99.35       5215.88  \n",
       "27            30.20         96.04  \n",
       "28            90.25        6498.0  \n",
       "29            64.70        1294.0  \n",
       "30            96.35        5395.6  \n",
       "31            95.50        194.82  \n",
       "32            66.15       1928.93  \n",
       "33            20.20         22.22  \n",
       "34            45.25         45.25  \n",
       "35            99.90        5794.2  \n",
       "36            69.70         557.6  \n",
       "37            74.80        3440.8  \n",
       "38           106.35       4211.46  \n",
       "39            97.85        1369.9  \n",
       "40            49.55         495.5  \n",
       "41            69.20        4428.8  \n",
       "42            20.75        352.75  \n",
       "43            79.85       5030.55  \n",
       "44            76.20         990.6  \n",
       "45            84.50        4140.5  \n",
       "46            49.25          98.5  \n",
       "47            80.65        241.95  \n",
       "48            79.75       4395.82  \n",
       "49            64.15       4780.46  "
      ]
     },
     "execution_count": 22,
     "metadata": {},
     "output_type": "execute_result"
    }
   ],
   "source": [
    "merged_data.head(50)"
   ]
  },
  {
   "cell_type": "markdown",
   "id": "af8882ec",
   "metadata": {},
   "source": [
    "### Изменение типа"
   ]
  },
  {
   "cell_type": "code",
   "execution_count": 23,
   "id": "59f0e0de",
   "metadata": {},
   "outputs": [
    {
     "name": "stdout",
     "output_type": "stream",
     "text": [
      "<class 'pandas.core.frame.DataFrame'>\n",
      "Int64Index: 7043 entries, 0 to 7042\n",
      "Data columns (total 20 columns):\n",
      " #   Column             Non-Null Count  Dtype  \n",
      "---  ------             --------------  -----  \n",
      " 0   customer_id        7043 non-null   object \n",
      " 1   gender             7043 non-null   object \n",
      " 2   senior_citizen     7043 non-null   int64  \n",
      " 3   partner            7043 non-null   object \n",
      " 4   dependents         7043 non-null   object \n",
      " 5   multiple_lines     6361 non-null   object \n",
      " 6   internet_service   5517 non-null   object \n",
      " 7   online_security    5517 non-null   object \n",
      " 8   online_backup      5517 non-null   object \n",
      " 9   device_protection  5517 non-null   object \n",
      " 10  tech_support       5517 non-null   object \n",
      " 11  streaming_tv       5517 non-null   object \n",
      " 12  streaming_movies   5517 non-null   object \n",
      " 13  begin_date         7043 non-null   object \n",
      " 14  end_date           7043 non-null   object \n",
      " 15  type               7043 non-null   object \n",
      " 16  paperless_billing  7043 non-null   object \n",
      " 17  payment_method     7043 non-null   object \n",
      " 18  monthly_charges    7043 non-null   float64\n",
      " 19  total_charges      7043 non-null   object \n",
      "dtypes: float64(1), int64(1), object(18)\n",
      "memory usage: 1.1+ MB\n"
     ]
    }
   ],
   "source": [
    "merged_data.info()"
   ]
  },
  {
   "cell_type": "markdown",
   "id": "98afa671",
   "metadata": {},
   "source": [
    "Признак `total_charges` является объектом, нужно поменять его тип на `float`, так как значения в нём дробные числа. Признак `senior_citizen` имеет числовой тип, однако там только 2 значения: 1 и 0, переведем тип в object."
   ]
  },
  {
   "cell_type": "code",
   "execution_count": 24,
   "id": "cd991599",
   "metadata": {},
   "outputs": [],
   "source": [
    "merged_data['total_charges'] = pd.to_numeric(merged_data['total_charges'], errors='coerce')\n",
    "merged_data['senior_citizen'] = merged_data['senior_citizen'].astype('str')"
   ]
  },
  {
   "cell_type": "code",
   "execution_count": 25,
   "id": "baa05919",
   "metadata": {},
   "outputs": [
    {
     "name": "stdout",
     "output_type": "stream",
     "text": [
      "<class 'pandas.core.frame.DataFrame'>\n",
      "Int64Index: 7043 entries, 0 to 7042\n",
      "Data columns (total 20 columns):\n",
      " #   Column             Non-Null Count  Dtype  \n",
      "---  ------             --------------  -----  \n",
      " 0   customer_id        7043 non-null   object \n",
      " 1   gender             7043 non-null   object \n",
      " 2   senior_citizen     7043 non-null   object \n",
      " 3   partner            7043 non-null   object \n",
      " 4   dependents         7043 non-null   object \n",
      " 5   multiple_lines     6361 non-null   object \n",
      " 6   internet_service   5517 non-null   object \n",
      " 7   online_security    5517 non-null   object \n",
      " 8   online_backup      5517 non-null   object \n",
      " 9   device_protection  5517 non-null   object \n",
      " 10  tech_support       5517 non-null   object \n",
      " 11  streaming_tv       5517 non-null   object \n",
      " 12  streaming_movies   5517 non-null   object \n",
      " 13  begin_date         7043 non-null   object \n",
      " 14  end_date           7043 non-null   object \n",
      " 15  type               7043 non-null   object \n",
      " 16  paperless_billing  7043 non-null   object \n",
      " 17  payment_method     7043 non-null   object \n",
      " 18  monthly_charges    7043 non-null   float64\n",
      " 19  total_charges      7032 non-null   float64\n",
      "dtypes: float64(2), object(18)\n",
      "memory usage: 1.1+ MB\n"
     ]
    }
   ],
   "source": [
    "merged_data.info()"
   ]
  },
  {
   "cell_type": "markdown",
   "id": "3f48ed5b",
   "metadata": {},
   "source": [
    "**Вывод**\n",
    "\n",
    "- Поменяли тип данных `total_charges` с object на float\n",
    "- Поменяли тип данных `senior_citizen` с float на object"
   ]
  },
  {
   "cell_type": "markdown",
   "id": "4fead9d6",
   "metadata": {},
   "source": [
    "### Пропущенные значения"
   ]
  },
  {
   "cell_type": "markdown",
   "id": "c0b3968c",
   "metadata": {},
   "source": [
    "Рассмотрим пропущенные значения"
   ]
  },
  {
   "cell_type": "code",
   "execution_count": 26,
   "id": "7a60a326",
   "metadata": {
    "scrolled": true
   },
   "outputs": [
    {
     "data": {
      "text/html": [
       "<style type=\"text/css\">\n",
       "#T_98995_row0_col0, #T_98995_row1_col0, #T_98995_row2_col0, #T_98995_row3_col0, #T_98995_row4_col0, #T_98995_row13_col0, #T_98995_row14_col0, #T_98995_row15_col0, #T_98995_row16_col0, #T_98995_row17_col0, #T_98995_row18_col0 {\n",
       "  background-color: #3b4cc0;\n",
       "  color: #f1f1f1;\n",
       "}\n",
       "#T_98995_row5_col0 {\n",
       "  background-color: #cedaeb;\n",
       "  color: #000000;\n",
       "}\n",
       "#T_98995_row6_col0, #T_98995_row7_col0, #T_98995_row8_col0, #T_98995_row9_col0, #T_98995_row10_col0, #T_98995_row11_col0, #T_98995_row12_col0 {\n",
       "  background-color: #b40426;\n",
       "  color: #f1f1f1;\n",
       "}\n",
       "#T_98995_row19_col0 {\n",
       "  background-color: #3d50c3;\n",
       "  color: #f1f1f1;\n",
       "}\n",
       "</style>\n",
       "<table id=\"T_98995\">\n",
       "  <thead>\n",
       "    <tr>\n",
       "      <th class=\"blank level0\" >&nbsp;</th>\n",
       "      <th id=\"T_98995_level0_col0\" class=\"col_heading level0 col0\" >0</th>\n",
       "    </tr>\n",
       "  </thead>\n",
       "  <tbody>\n",
       "    <tr>\n",
       "      <th id=\"T_98995_level0_row0\" class=\"row_heading level0 row0\" >customer_id</th>\n",
       "      <td id=\"T_98995_row0_col0\" class=\"data row0 col0\" >0.000000</td>\n",
       "    </tr>\n",
       "    <tr>\n",
       "      <th id=\"T_98995_level0_row1\" class=\"row_heading level0 row1\" >gender</th>\n",
       "      <td id=\"T_98995_row1_col0\" class=\"data row1 col0\" >0.000000</td>\n",
       "    </tr>\n",
       "    <tr>\n",
       "      <th id=\"T_98995_level0_row2\" class=\"row_heading level0 row2\" >senior_citizen</th>\n",
       "      <td id=\"T_98995_row2_col0\" class=\"data row2 col0\" >0.000000</td>\n",
       "    </tr>\n",
       "    <tr>\n",
       "      <th id=\"T_98995_level0_row3\" class=\"row_heading level0 row3\" >partner</th>\n",
       "      <td id=\"T_98995_row3_col0\" class=\"data row3 col0\" >0.000000</td>\n",
       "    </tr>\n",
       "    <tr>\n",
       "      <th id=\"T_98995_level0_row4\" class=\"row_heading level0 row4\" >dependents</th>\n",
       "      <td id=\"T_98995_row4_col0\" class=\"data row4 col0\" >0.000000</td>\n",
       "    </tr>\n",
       "    <tr>\n",
       "      <th id=\"T_98995_level0_row5\" class=\"row_heading level0 row5\" >multiple_lines</th>\n",
       "      <td id=\"T_98995_row5_col0\" class=\"data row5 col0\" >9.700000</td>\n",
       "    </tr>\n",
       "    <tr>\n",
       "      <th id=\"T_98995_level0_row6\" class=\"row_heading level0 row6\" >internet_service</th>\n",
       "      <td id=\"T_98995_row6_col0\" class=\"data row6 col0\" >21.700000</td>\n",
       "    </tr>\n",
       "    <tr>\n",
       "      <th id=\"T_98995_level0_row7\" class=\"row_heading level0 row7\" >online_security</th>\n",
       "      <td id=\"T_98995_row7_col0\" class=\"data row7 col0\" >21.700000</td>\n",
       "    </tr>\n",
       "    <tr>\n",
       "      <th id=\"T_98995_level0_row8\" class=\"row_heading level0 row8\" >online_backup</th>\n",
       "      <td id=\"T_98995_row8_col0\" class=\"data row8 col0\" >21.700000</td>\n",
       "    </tr>\n",
       "    <tr>\n",
       "      <th id=\"T_98995_level0_row9\" class=\"row_heading level0 row9\" >device_protection</th>\n",
       "      <td id=\"T_98995_row9_col0\" class=\"data row9 col0\" >21.700000</td>\n",
       "    </tr>\n",
       "    <tr>\n",
       "      <th id=\"T_98995_level0_row10\" class=\"row_heading level0 row10\" >tech_support</th>\n",
       "      <td id=\"T_98995_row10_col0\" class=\"data row10 col0\" >21.700000</td>\n",
       "    </tr>\n",
       "    <tr>\n",
       "      <th id=\"T_98995_level0_row11\" class=\"row_heading level0 row11\" >streaming_tv</th>\n",
       "      <td id=\"T_98995_row11_col0\" class=\"data row11 col0\" >21.700000</td>\n",
       "    </tr>\n",
       "    <tr>\n",
       "      <th id=\"T_98995_level0_row12\" class=\"row_heading level0 row12\" >streaming_movies</th>\n",
       "      <td id=\"T_98995_row12_col0\" class=\"data row12 col0\" >21.700000</td>\n",
       "    </tr>\n",
       "    <tr>\n",
       "      <th id=\"T_98995_level0_row13\" class=\"row_heading level0 row13\" >begin_date</th>\n",
       "      <td id=\"T_98995_row13_col0\" class=\"data row13 col0\" >0.000000</td>\n",
       "    </tr>\n",
       "    <tr>\n",
       "      <th id=\"T_98995_level0_row14\" class=\"row_heading level0 row14\" >end_date</th>\n",
       "      <td id=\"T_98995_row14_col0\" class=\"data row14 col0\" >0.000000</td>\n",
       "    </tr>\n",
       "    <tr>\n",
       "      <th id=\"T_98995_level0_row15\" class=\"row_heading level0 row15\" >type</th>\n",
       "      <td id=\"T_98995_row15_col0\" class=\"data row15 col0\" >0.000000</td>\n",
       "    </tr>\n",
       "    <tr>\n",
       "      <th id=\"T_98995_level0_row16\" class=\"row_heading level0 row16\" >paperless_billing</th>\n",
       "      <td id=\"T_98995_row16_col0\" class=\"data row16 col0\" >0.000000</td>\n",
       "    </tr>\n",
       "    <tr>\n",
       "      <th id=\"T_98995_level0_row17\" class=\"row_heading level0 row17\" >payment_method</th>\n",
       "      <td id=\"T_98995_row17_col0\" class=\"data row17 col0\" >0.000000</td>\n",
       "    </tr>\n",
       "    <tr>\n",
       "      <th id=\"T_98995_level0_row18\" class=\"row_heading level0 row18\" >monthly_charges</th>\n",
       "      <td id=\"T_98995_row18_col0\" class=\"data row18 col0\" >0.000000</td>\n",
       "    </tr>\n",
       "    <tr>\n",
       "      <th id=\"T_98995_level0_row19\" class=\"row_heading level0 row19\" >total_charges</th>\n",
       "      <td id=\"T_98995_row19_col0\" class=\"data row19 col0\" >0.200000</td>\n",
       "    </tr>\n",
       "  </tbody>\n",
       "</table>\n"
      ],
      "text/plain": [
       "<pandas.io.formats.style.Styler at 0x178aef24dd0>"
      ]
     },
     "execution_count": 26,
     "metadata": {},
     "output_type": "execute_result"
    }
   ],
   "source": [
    "pd.DataFrame(round(merged_data.isna().mean()*100,1)).style.background_gradient('coolwarm')"
   ]
  },
  {
   "cell_type": "markdown",
   "id": "b7d430dc",
   "metadata": {},
   "source": [
    "Есть пропуски в 8 признаках:\n",
    "- multiple_lines - тип object \n",
    "- internet_service - тип object \n",
    "- online_security - тип object\n",
    "- online_backup - тип object\t\n",
    "- device_protection\t- тип object\n",
    "- tech_support - тип object\n",
    "- streaming_tv - тип object\n",
    "- streaming_movies - тип object\n",
    "- total_charges - тип float"
   ]
  },
  {
   "cell_type": "code",
   "execution_count": 27,
   "id": "266e8f90",
   "metadata": {},
   "outputs": [],
   "source": [
    "categorical_columns = ['internet_service', 'multiple_lines', 'online_security', 'online_backup', 'device_protection', 'tech_support', 'streaming_tv', 'streaming_movies', 'multiple_lines']"
   ]
  },
  {
   "cell_type": "markdown",
   "id": "37b2895f",
   "metadata": {},
   "source": [
    "Предположим, что если пропущенно значение в признаках `multiple_lines`, `online_security`, `online_backup`, `device_protection`, `tech_support`, `streaming_tv`, `streaming_movies`, то значит услуга не подключина, заполним значением `No`."
   ]
  },
  {
   "cell_type": "code",
   "execution_count": 28,
   "id": "6e21caa3",
   "metadata": {},
   "outputs": [
    {
     "ename": "ValueError",
     "evalue": "Columns must be same length as key",
     "output_type": "error",
     "traceback": [
      "\u001b[1;31m---------------------------------------------------------------------------\u001b[0m",
      "\u001b[1;31mValueError\u001b[0m                                Traceback (most recent call last)",
      "Cell \u001b[1;32mIn[28], line 1\u001b[0m\n\u001b[1;32m----> 1\u001b[0m merged_data[categorical_columns] \u001b[38;5;241m=\u001b[39m merged_data[categorical_columns]\u001b[38;5;241m.\u001b[39mfillna(\u001b[38;5;124m'\u001b[39m\u001b[38;5;124mNo\u001b[39m\u001b[38;5;124m'\u001b[39m)\n",
      "File \u001b[1;32m~\\anaconda3\\Lib\\site-packages\\pandas\\core\\frame.py:3968\u001b[0m, in \u001b[0;36mDataFrame.__setitem__\u001b[1;34m(self, key, value)\u001b[0m\n\u001b[0;32m   3966\u001b[0m     \u001b[38;5;28mself\u001b[39m\u001b[38;5;241m.\u001b[39m_setitem_frame(key, value)\n\u001b[0;32m   3967\u001b[0m \u001b[38;5;28;01melif\u001b[39;00m \u001b[38;5;28misinstance\u001b[39m(key, (Series, np\u001b[38;5;241m.\u001b[39mndarray, \u001b[38;5;28mlist\u001b[39m, Index)):\n\u001b[1;32m-> 3968\u001b[0m     \u001b[38;5;28mself\u001b[39m\u001b[38;5;241m.\u001b[39m_setitem_array(key, value)\n\u001b[0;32m   3969\u001b[0m \u001b[38;5;28;01melif\u001b[39;00m \u001b[38;5;28misinstance\u001b[39m(value, DataFrame):\n\u001b[0;32m   3970\u001b[0m     \u001b[38;5;28mself\u001b[39m\u001b[38;5;241m.\u001b[39m_set_item_frame_value(key, value)\n",
      "File \u001b[1;32m~\\anaconda3\\Lib\\site-packages\\pandas\\core\\frame.py:4012\u001b[0m, in \u001b[0;36mDataFrame._setitem_array\u001b[1;34m(self, key, value)\u001b[0m\n\u001b[0;32m   4010\u001b[0m     check_key_length(\u001b[38;5;28mself\u001b[39m\u001b[38;5;241m.\u001b[39mcolumns, key, value)\n\u001b[0;32m   4011\u001b[0m     \u001b[38;5;28;01mfor\u001b[39;00m k1, k2 \u001b[38;5;129;01min\u001b[39;00m \u001b[38;5;28mzip\u001b[39m(key, value\u001b[38;5;241m.\u001b[39mcolumns):\n\u001b[1;32m-> 4012\u001b[0m         \u001b[38;5;28mself\u001b[39m[k1] \u001b[38;5;241m=\u001b[39m value[k2]\n\u001b[0;32m   4014\u001b[0m \u001b[38;5;28;01melif\u001b[39;00m \u001b[38;5;129;01mnot\u001b[39;00m is_list_like(value):\n\u001b[0;32m   4015\u001b[0m     \u001b[38;5;28;01mfor\u001b[39;00m col \u001b[38;5;129;01min\u001b[39;00m key:\n",
      "File \u001b[1;32m~\\anaconda3\\Lib\\site-packages\\pandas\\core\\frame.py:3970\u001b[0m, in \u001b[0;36mDataFrame.__setitem__\u001b[1;34m(self, key, value)\u001b[0m\n\u001b[0;32m   3968\u001b[0m     \u001b[38;5;28mself\u001b[39m\u001b[38;5;241m.\u001b[39m_setitem_array(key, value)\n\u001b[0;32m   3969\u001b[0m \u001b[38;5;28;01melif\u001b[39;00m \u001b[38;5;28misinstance\u001b[39m(value, DataFrame):\n\u001b[1;32m-> 3970\u001b[0m     \u001b[38;5;28mself\u001b[39m\u001b[38;5;241m.\u001b[39m_set_item_frame_value(key, value)\n\u001b[0;32m   3971\u001b[0m \u001b[38;5;28;01melif\u001b[39;00m (\n\u001b[0;32m   3972\u001b[0m     is_list_like(value)\n\u001b[0;32m   3973\u001b[0m     \u001b[38;5;129;01mand\u001b[39;00m \u001b[38;5;129;01mnot\u001b[39;00m \u001b[38;5;28mself\u001b[39m\u001b[38;5;241m.\u001b[39mcolumns\u001b[38;5;241m.\u001b[39mis_unique\n\u001b[0;32m   3974\u001b[0m     \u001b[38;5;129;01mand\u001b[39;00m \u001b[38;5;241m1\u001b[39m \u001b[38;5;241m<\u001b[39m \u001b[38;5;28mlen\u001b[39m(\u001b[38;5;28mself\u001b[39m\u001b[38;5;241m.\u001b[39mcolumns\u001b[38;5;241m.\u001b[39mget_indexer_for([key])) \u001b[38;5;241m==\u001b[39m \u001b[38;5;28mlen\u001b[39m(value)\n\u001b[0;32m   3975\u001b[0m ):\n\u001b[0;32m   3976\u001b[0m     \u001b[38;5;66;03m# Column to set is duplicated\u001b[39;00m\n\u001b[0;32m   3977\u001b[0m     \u001b[38;5;28mself\u001b[39m\u001b[38;5;241m.\u001b[39m_setitem_array([key], value)\n",
      "File \u001b[1;32m~\\anaconda3\\Lib\\site-packages\\pandas\\core\\frame.py:4100\u001b[0m, in \u001b[0;36mDataFrame._set_item_frame_value\u001b[1;34m(self, key, value)\u001b[0m\n\u001b[0;32m   4098\u001b[0m len_cols \u001b[38;5;241m=\u001b[39m \u001b[38;5;241m1\u001b[39m \u001b[38;5;28;01mif\u001b[39;00m is_scalar(cols) \u001b[38;5;28;01melse\u001b[39;00m \u001b[38;5;28mlen\u001b[39m(cols)\n\u001b[0;32m   4099\u001b[0m \u001b[38;5;28;01mif\u001b[39;00m len_cols \u001b[38;5;241m!=\u001b[39m \u001b[38;5;28mlen\u001b[39m(value\u001b[38;5;241m.\u001b[39mcolumns):\n\u001b[1;32m-> 4100\u001b[0m     \u001b[38;5;28;01mraise\u001b[39;00m \u001b[38;5;167;01mValueError\u001b[39;00m(\u001b[38;5;124m\"\u001b[39m\u001b[38;5;124mColumns must be same length as key\u001b[39m\u001b[38;5;124m\"\u001b[39m)\n\u001b[0;32m   4102\u001b[0m \u001b[38;5;66;03m# align right-hand-side columns if self.columns\u001b[39;00m\n\u001b[0;32m   4103\u001b[0m \u001b[38;5;66;03m# is multi-index and self[key] is a sub-frame\u001b[39;00m\n\u001b[0;32m   4104\u001b[0m \u001b[38;5;28;01mif\u001b[39;00m \u001b[38;5;28misinstance\u001b[39m(\u001b[38;5;28mself\u001b[39m\u001b[38;5;241m.\u001b[39mcolumns, MultiIndex) \u001b[38;5;129;01mand\u001b[39;00m \u001b[38;5;28misinstance\u001b[39m(\n\u001b[0;32m   4105\u001b[0m     loc, (\u001b[38;5;28mslice\u001b[39m, Series, np\u001b[38;5;241m.\u001b[39mndarray, Index)\n\u001b[0;32m   4106\u001b[0m ):\n",
      "\u001b[1;31mValueError\u001b[0m: Columns must be same length as key"
     ]
    }
   ],
   "source": [
    "merged_data[categorical_columns] = merged_data[categorical_columns].fillna('No')"
   ]
  },
  {
   "cell_type": "code",
   "execution_count": null,
   "id": "a3a7f5ab",
   "metadata": {
    "scrolled": true
   },
   "outputs": [],
   "source": [
    "merged_data[merged_data['total_charges'].isnull()]"
   ]
  },
  {
   "cell_type": "markdown",
   "id": "027e71d5",
   "metadata": {},
   "source": [
    "Количество пропусков очень мало, мы можем их заполнить 0."
   ]
  },
  {
   "cell_type": "code",
   "execution_count": null,
   "id": "8fdbe1b6",
   "metadata": {},
   "outputs": [],
   "source": [
    "merged_data['total_charges'] = merged_data['total_charges'].fillna(0)"
   ]
  },
  {
   "cell_type": "code",
   "execution_count": null,
   "id": "2155e243",
   "metadata": {
    "scrolled": true
   },
   "outputs": [],
   "source": [
    "pd.DataFrame(round(merged_data.isna().mean()*100,1)).style.background_gradient('coolwarm')"
   ]
  },
  {
   "cell_type": "markdown",
   "id": "2c960f50",
   "metadata": {},
   "source": [
    "**Вывод**\n",
    "\n",
    "Пропуски были успешно заполнены в столбцах.\n",
    "- multiple_lines -  пропуски заполнены значением `No`\n",
    "- internet_service - пропуски заполнены модой\n",
    "- online_security - пропуски заполнены значением `No`\n",
    "- online_backup - пропуски заполнены значением `No`\t\n",
    "- device_protection\t- пропуски заполнены значением `No`\n",
    "- tech_support - пропуски заполнены значением `No`\n",
    "- streaming_tv - пропуски заполнены значением `No`\n",
    "- streaming_movies - пропуски заполнены значением `No`\n",
    "- merged_data - было 11 пропусков, заменены на ноль"
   ]
  },
  {
   "cell_type": "markdown",
   "id": "b015b058",
   "metadata": {},
   "source": [
    "### Анализ распределения признаков"
   ]
  },
  {
   "cell_type": "code",
   "execution_count": null,
   "id": "8f94ee70",
   "metadata": {
    "scrolled": true
   },
   "outputs": [],
   "source": [
    "continuous_vars = ['monthly_charges', 'total_charges']\n",
    "\n",
    "for var in continuous_vars:\n",
    "    plt.figure(figsize=(8, 6))\n",
    "    sns.histplot(data=merged_data, x=var, stat='density', common_norm=False)\n",
    "    plt.xlabel(var)\n",
    "    plt.ylabel('Плотность')\n",
    "    plt.title(f'Distribution of {var}')\n",
    "    plt.show()\n",
    "\n",
    "# Анализ распределения категориальных переменных\n",
    "categorical_vars = ['gender', 'senior_citizen', 'partner', 'dependents', 'multiple_lines',\n",
    "                    'internet_service', 'online_security', 'online_backup', 'device_protection',\n",
    "                    'tech_support', 'streaming_tv', 'streaming_movies', 'type',\n",
    "                    'paperless_billing', 'payment_method']\n",
    "\n",
    "for var in categorical_vars:\n",
    "    plt.figure(figsize=(8, 6))\n",
    "    sns.countplot(data=merged_data, x=var)\n",
    "    plt.xlabel(var)\n",
    "    plt.ylabel('Количество')\n",
    "    plt.title(f'Distribution of {var}')\n",
    "    plt.show()\n"
   ]
  },
  {
   "cell_type": "markdown",
   "id": "1aa8d9b4",
   "metadata": {},
   "source": [
    "**Вывод**\n",
    "\n",
    "- Преобладают не пожилые клиенты.\n",
    "- Преобладает оплата с помощью электронного чека.\n",
    "- Мужчин и женщин примерно одинаковое количество.\n",
    "- Услугу streaming_movies редко поключают.\n",
    "- Способ подключения интернета fiber optic преобладает.\n",
    "- Редко подключают онлайн защиту.\n",
    "- В месяц чаще всего за услуги платят в районе 20.\n"
   ]
  },
  {
   "cell_type": "markdown",
   "id": "fc03d2dd",
   "metadata": {},
   "source": [
    "### Дубликаты"
   ]
  },
  {
   "cell_type": "markdown",
   "id": "1a5fc48e",
   "metadata": {},
   "source": [
    "Проверим данные на наличие "
   ]
  },
  {
   "cell_type": "code",
   "execution_count": null,
   "id": "94241a70",
   "metadata": {},
   "outputs": [],
   "source": [
    "merged_data.duplicated().sum()"
   ]
  },
  {
   "cell_type": "markdown",
   "id": "8de460d1",
   "metadata": {},
   "source": [
    "**Вывод**\n",
    "\n",
    "Дубликатов нет.\n"
   ]
  },
  {
   "cell_type": "markdown",
   "id": "ec9c7b11",
   "metadata": {},
   "source": [
    "### Вывод"
   ]
  },
  {
   "cell_type": "markdown",
   "id": "39cbd6ed",
   "metadata": {},
   "source": [
    "Нами проделана работа по обработке данных\n",
    "\n",
    "- Заргружены все необходимые столбцы\n",
    "- Узнали размер\n",
    "- Привели имена столбцов к стилю PEP8\n",
    "- Обработали пропущенные значения: multiple_lines,internet_service , online_security , online_backup , device_protection, tech_support, streaming_tv, streaming_movies \n",
    "- Дубликатов в данных нет"
   ]
  },
  {
   "cell_type": "markdown",
   "id": "55f6e509",
   "metadata": {},
   "source": [
    "## Подготовка признаков"
   ]
  },
  {
   "cell_type": "markdown",
   "id": "d55330f9",
   "metadata": {},
   "source": [
    "На данном этапе будем готовить данные для обучения модели."
   ]
  },
  {
   "cell_type": "markdown",
   "id": "f63a2ac6",
   "metadata": {},
   "source": [
    "### Добавление новых признаков"
   ]
  },
  {
   "cell_type": "markdown",
   "id": "d455e0a3",
   "metadata": {},
   "source": [
    "У нас есть два признака `begin_date` и `end_date`, с их помощью мы можем узнать, сколько дней человек пользуется или пользовался услугами."
   ]
  },
  {
   "cell_type": "code",
   "execution_count": null,
   "id": "e0882c9a",
   "metadata": {},
   "outputs": [],
   "source": [
    "current_date = pd.to_datetime(\"2020-02-01\")\n",
    "merged_data[\"begin_date\"] = pd.to_datetime(merged_data[\"begin_date\"])\n",
    "# Добавления столбца \"only_end_date\" в тип datetime, с учетом значения \"No\"\n",
    "def assign_only_end_date(row):\n",
    "    if row[\"end_date\"] != \"No\":\n",
    "        return pd.to_datetime(row[\"end_date\"])\n",
    "    else:\n",
    "        return pd.to_datetime(\"2020-02-01\").date()\n",
    "\n",
    "merged_data[\"only_end_date\"] = merged_data.apply(assign_only_end_date, axis=1)\n",
    "merged_data[\"usage_duration\"] = (merged_data[\"only_end_date\"] - merged_data[\"begin_date\"]).dt.days\n",
    "merged_data[\"usage_duration\"] = merged_data[\"usage_duration\"].astype('float64')"
   ]
  },
  {
   "cell_type": "markdown",
   "id": "b0a4395a",
   "metadata": {},
   "source": [
    "**Вывод**\n",
    "\n",
    "Добавили два новых признака:\n",
    "- `only_end_date` - хранит информацию о дате ухода клиента\n",
    "- `usage_duration` - хранит информацию о количестве дней пользования клиентом услуг"
   ]
  },
  {
   "cell_type": "markdown",
   "id": "5402b263",
   "metadata": {},
   "source": [
    "### Определение целевого признака"
   ]
  },
  {
   "cell_type": "code",
   "execution_count": null,
   "id": "5955ae8c",
   "metadata": {
    "scrolled": true
   },
   "outputs": [],
   "source": [
    "merged_data.head(10)"
   ]
  },
  {
   "cell_type": "markdown",
   "id": "078d4371",
   "metadata": {},
   "source": [
    "Так как перед нами стоит задача классификации оттока клиентов, то мы должны считать целевым признаком `end_date`. В нём хранится информация о состоянии использования услуг клиентом."
   ]
  },
  {
   "cell_type": "markdown",
   "id": "f691ed35",
   "metadata": {},
   "source": [
    "**Вывод**\n",
    "\n",
    "Переходным целевым признаком является `end_date`"
   ]
  },
  {
   "cell_type": "markdown",
   "id": "461f2469",
   "metadata": {},
   "source": [
    "### Преобразование целевой переменной в числовой формат, если требуется."
   ]
  },
  {
   "cell_type": "markdown",
   "id": "8aa9b7f7",
   "metadata": {},
   "source": [
    "Рассмотрим уникальные значения в этом признаке."
   ]
  },
  {
   "cell_type": "code",
   "execution_count": null,
   "id": "ffcca8cc",
   "metadata": {},
   "outputs": [],
   "source": [
    "merged_data['end_date'].unique()"
   ]
  },
  {
   "cell_type": "markdown",
   "id": "747a19a9",
   "metadata": {},
   "source": [
    "Есть значение `No` и большое количество различных дат. Основываесь на этом, мы можем добавить новый признак `churn` в котором будет два значения `1` и `0`. В случае если в признаке `end_date` дата, то в `churn` мы поставим `1`, в ином случае `0`."
   ]
  },
  {
   "cell_type": "code",
   "execution_count": null,
   "id": "81261df3",
   "metadata": {},
   "outputs": [],
   "source": [
    "merged_data['churn'] = merged_data['end_date'].apply(lambda x: 1 if x != 'No' else 0)"
   ]
  },
  {
   "cell_type": "code",
   "execution_count": null,
   "id": "48fd94c4",
   "metadata": {
    "scrolled": true
   },
   "outputs": [],
   "source": [
    "merged_data[['end_date', 'churn']].head(10)"
   ]
  },
  {
   "cell_type": "markdown",
   "id": "2c3acd83",
   "metadata": {},
   "source": [
    "Признак `end_date` нам больше не понадобится, удалим его"
   ]
  },
  {
   "cell_type": "code",
   "execution_count": null,
   "id": "57b7d07b",
   "metadata": {},
   "outputs": [],
   "source": [
    "merged_data = merged_data.drop('end_date', axis=1)"
   ]
  },
  {
   "cell_type": "code",
   "execution_count": null,
   "id": "72e452bc",
   "metadata": {},
   "outputs": [],
   "source": [
    "merged_data.head()"
   ]
  },
  {
   "cell_type": "markdown",
   "id": "83103057",
   "metadata": {},
   "source": [
    "**Вывод**\n",
    "\n",
    "- Добавили новый признак `churn`, который хранит информацию о состоянии контракта с клиентом: `0`- клиент всё ещё пользуется услугами, `1` - клиент перестал пользоваться услугами.\n",
    "- Новый целевой признак - `churn`\n",
    "- Удалили признак `end_date`"
   ]
  },
  {
   "cell_type": "markdown",
   "id": "28d5f2c2",
   "metadata": {},
   "source": [
    "### Исследование корреляции и удаление лишних признаков"
   ]
  },
  {
   "cell_type": "markdown",
   "id": "44367109",
   "metadata": {},
   "source": [
    "Удалим сначала данные по которым нет смысла делать анализ корреляции"
   ]
  },
  {
   "cell_type": "code",
   "execution_count": null,
   "id": "4ba0fe32",
   "metadata": {},
   "outputs": [],
   "source": [
    "merged_data = merged_data.drop(['customer_id',  'begin_date',  'only_end_date'], axis=1)"
   ]
  },
  {
   "cell_type": "markdown",
   "id": "4c0c1ac0",
   "metadata": {},
   "source": [
    "Рассмотрим корреляцию в данных"
   ]
  },
  {
   "cell_type": "code",
   "execution_count": null,
   "id": "2eac6f25",
   "metadata": {},
   "outputs": [],
   "source": [
    "interval_cols = ['monthly_charges', 'total_charges', 'churn']\n",
    "_= plt.figure(figsize=(15,15))\n",
    "sns.heatmap(merged_data.phik_matrix(interval_cols=interval_cols), ax=plt.gca(), annot=True, fmt='.2f', vmin=0,vmax=1, square=True)\n",
    "plt.axis('equal');"
   ]
  },
  {
   "cell_type": "markdown",
   "id": "28c4066c",
   "metadata": {},
   "source": [
    "В этих признаках нет полезной информации для нашей задачи, они никак не влияют:\n",
    "\n",
    "- gender\n",
    "- dependents\n",
    "- partner\n",
    "\n",
    "У этих признаков сильная корреляция с другими, по этой причине уберём их:\n",
    "\n",
    "- total_charges - сильная корреляция с месячными выплатами.\n",
    "- streaming_movies - сильная корреляция с схожим признаком `streaming_tv`.\n"
   ]
  },
  {
   "cell_type": "code",
   "execution_count": null,
   "id": "e7596807",
   "metadata": {},
   "outputs": [],
   "source": [
    "extra_signs = ['gender','streaming_movies','total_charges',  'partner', 'dependents']\n",
    "merged_data = merged_data.drop(extra_signs, axis=1)"
   ]
  },
  {
   "cell_type": "code",
   "execution_count": null,
   "id": "9b56f2e4",
   "metadata": {
    "scrolled": true
   },
   "outputs": [],
   "source": [
    "merged_data"
   ]
  },
  {
   "cell_type": "markdown",
   "id": "98ec1e03",
   "metadata": {},
   "source": [
    "**Вывод**\n",
    "\n",
    "Удалили признаки\n",
    "\n",
    "- customer_id\n",
    "- gender\n",
    "- partner\n",
    "- streaming_movies\n",
    "- only_end_date\n",
    "- total_charges\n",
    "- begin_date\n",
    "- dependents"
   ]
  },
  {
   "cell_type": "markdown",
   "id": "d822ce67",
   "metadata": {},
   "source": [
    "### Проверка дисбаланса класса"
   ]
  },
  {
   "cell_type": "code",
   "execution_count": null,
   "id": "f67f18cc",
   "metadata": {},
   "outputs": [],
   "source": [
    "merged_data['churn'].value_counts() "
   ]
  },
  {
   "cell_type": "code",
   "execution_count": null,
   "id": "c1ae4f51",
   "metadata": {},
   "outputs": [],
   "source": [
    "merged_data['churn'].value_counts()  / len(merged_data) * 100"
   ]
  },
  {
   "cell_type": "markdown",
   "id": "8459b5e1",
   "metadata": {},
   "source": [
    "**Вывод**\n",
    "\n",
    "- Соотношение классов 84/16%. \n",
    "- Есть сильный диссбаланс.\n",
    "\n",
    "В данной задаче мы используем метрику качества `AUC-ROC`, эта метрика не чувствительна к дизбалансу, по этой причине мы не будем преобразовать данные. "
   ]
  },
  {
   "cell_type": "markdown",
   "id": "2a270aa4",
   "metadata": {},
   "source": [
    "### Разделение на выборки"
   ]
  },
  {
   "cell_type": "code",
   "execution_count": null,
   "id": "28cace80",
   "metadata": {},
   "outputs": [],
   "source": [
    "merged_data.info()"
   ]
  },
  {
   "cell_type": "code",
   "execution_count": null,
   "id": "7ad0f315",
   "metadata": {},
   "outputs": [],
   "source": [
    "features = merged_data.drop(['churn'], axis=1)\n",
    "target = merged_data['churn']\n",
    "\n",
    "features_train, features_test, target_train, target_test = train_test_split(features, target, test_size=0.25, random_state=RANDOM_STATE)"
   ]
  },
  {
   "cell_type": "code",
   "execution_count": null,
   "id": "04d473d0",
   "metadata": {
    "scrolled": true
   },
   "outputs": [],
   "source": [
    "display(f'Размер обучающей выборки: {features_train.shape}')\n",
    "display(f'Размер тестовой выборки: {features_test.shape}')"
   ]
  },
  {
   "cell_type": "code",
   "execution_count": null,
   "id": "e3f51b66",
   "metadata": {},
   "outputs": [],
   "source": [
    "features.info()"
   ]
  },
  {
   "cell_type": "markdown",
   "id": "209ad4cf",
   "metadata": {},
   "source": [
    "**Вывод**\n",
    "\n",
    "- Разделили данные на две выборки с соотношением **3/1**\n",
    "- Размер обучающей выборки: (5274, 13)\n",
    "- Размер тестовой выборки: (1758, 13)"
   ]
  },
  {
   "cell_type": "markdown",
   "id": "0e4d6862",
   "metadata": {},
   "source": [
    "### Прямое кодирование и масштабирование"
   ]
  },
  {
   "cell_type": "markdown",
   "id": "21465ac2",
   "metadata": {},
   "source": [
    "Перейдём к прямому кодированию. В наших данных категориальными признаками являются:\n",
    "\n",
    "- `multiple_lines`\n",
    "- `internet_service`\n",
    "- `online_security`\n",
    "- `online_backup`\n",
    "- `device_protection`\n",
    "- `tech_support`\n",
    "- `streaming_tv`\n",
    "- `streaming_movies`\n",
    "- `type`\n",
    "- `paperless_billing`\n",
    "- `device_protection`\n",
    "- `payment_method`\n",
    "- `senior_citizen`"
   ]
  },
  {
   "cell_type": "markdown",
   "id": "38c72b5a",
   "metadata": {},
   "source": [
    "Скопируем наши данные перед тем как делать прямое кодирование, так как некоторые модели могут работать с категориальными признаками"
   ]
  },
  {
   "cell_type": "code",
   "execution_count": null,
   "id": "36a58019",
   "metadata": {},
   "outputs": [],
   "source": [
    "features_train_ohe = features_train.copy()\n",
    "features_test_ohe = features_test.copy()"
   ]
  },
  {
   "cell_type": "code",
   "execution_count": null,
   "id": "c4e0b4db",
   "metadata": {},
   "outputs": [],
   "source": [
    "columns_category = features_train_ohe.select_dtypes(include='object').columns.to_list()\n",
    "num_features = features_train_ohe.select_dtypes(exclude='object').columns.to_list()"
   ]
  },
  {
   "cell_type": "code",
   "execution_count": null,
   "id": "9782477c",
   "metadata": {},
   "outputs": [],
   "source": [
    "\n",
    "unknown_value = -1\n",
    "col_transformer = make_column_transformer(\n",
    "    (\n",
    "        OrdinalEncoder(categories='auto', handle_unknown='use_encoded_value', unknown_value=unknown_value),\n",
    "        columns_category\n",
    "    ),\n",
    "    (\n",
    "        StandardScaler(), \n",
    "        num_features\n",
    "    ),\n",
    "    verbose_feature_names_out=False,\n",
    "    remainder='passthrough'\n",
    ")"
   ]
  },
  {
   "cell_type": "markdown",
   "id": "49c38a99",
   "metadata": {},
   "source": [
    "**Вывод**\n",
    "\n",
    "Написали трансформер, который будет масштабировать с помощью метода StandardScaler и кодировать с помощью OrdinalEncoder"
   ]
  },
  {
   "cell_type": "markdown",
   "id": "4a444070",
   "metadata": {},
   "source": [
    "## Обучение моделей"
   ]
  },
  {
   "cell_type": "markdown",
   "id": "52d74b47",
   "metadata": {},
   "source": [
    "### RandomForestClassifier"
   ]
  },
  {
   "cell_type": "markdown",
   "id": "b97a479a",
   "metadata": {},
   "source": [
    "Первой обучим модель `RandomForestClassifier`"
   ]
  },
  {
   "cell_type": "code",
   "execution_count": null,
   "id": "27d70749",
   "metadata": {},
   "outputs": [],
   "source": [
    "%time\n",
    "model_rf = RandomForestClassifier(random_state=RANDOM_STATE)"
   ]
  },
  {
   "cell_type": "code",
   "execution_count": null,
   "id": "89753359",
   "metadata": {},
   "outputs": [],
   "source": [
    "# Создаем пайплайн с трансформером и моделью\n",
    "pipeline_rf = Pipeline(steps=[\n",
    "    ['transformer', col_transformer],\n",
    "    ['model', model_rf]\n",
    "])"
   ]
  },
  {
   "cell_type": "code",
   "execution_count": null,
   "id": "d8eecd7b",
   "metadata": {},
   "outputs": [],
   "source": [
    "param_grid_rf = {\n",
    "    'model__n_estimators': [500, 1000, 1500], \n",
    "    'model__max_depth': [None, 2, 4, 6], \n",
    "    'model__min_samples_split': [2, 5, 10],\n",
    "    'model__criterion': ['gini', 'entropy', 'log_loss'],\n",
    "    'model__max_features': ['sqrt', 'log2', None]\n",
    "}"
   ]
  },
  {
   "cell_type": "code",
   "execution_count": null,
   "id": "6b5f3347",
   "metadata": {},
   "outputs": [],
   "source": [
    "grid_search_rf = GridSearchCV(pipeline_rf, param_grid_rf, scoring='roc_auc', cv=3, n_jobs=-1)\n",
    "grid_search_rf.fit(features_train_ohe, target_train)\n",
    "\n",
    "# Выводим наилучшие параметры и полученную оценку\n",
    "print(\"Наилучшие параметры:\", grid_search_rf.best_params_)\n",
    "print(\"Лучшая оценка (AUC-ROC):\", grid_search_rf.best_score_)"
   ]
  },
  {
   "cell_type": "markdown",
   "id": "da49dc3d",
   "metadata": {},
   "source": [
    "**Вывод**\n",
    "\n",
    "Лучшие параметры:\n",
    "-  model__criterion: 'entropy'\n",
    "-  model__max_depth: None \n",
    "-  model__max_features: None \n",
    "-  model__min_samples_split: 10 \n",
    "-  model__n_estimators: 1500\n",
    "\n",
    "Лучшая оценка (AUC-ROC): 0.8326841837494837\n",
    "\n",
    "#### Модель нам не подходит, условие `auc-roc > 0.85` не соблюдается"
   ]
  },
  {
   "cell_type": "markdown",
   "id": "3d8a088d",
   "metadata": {},
   "source": [
    "### CatBoostClassifier"
   ]
  },
  {
   "cell_type": "markdown",
   "id": "ab780a71",
   "metadata": {},
   "source": [
    "Второй обучаемой моделью будет `CatBoostClassifier`"
   ]
  },
  {
   "cell_type": "code",
   "execution_count": null,
   "id": "cda40d62",
   "metadata": {
    "scrolled": true
   },
   "outputs": [],
   "source": [
    "model = CatBoostClassifier(loss_function='Logloss', eval_metric='AUC')\n",
    "\n",
    "param_dist = {\n",
    "    'depth': [3, 4, 6],\n",
    "    'learning_rate': [0.1, 0.01, 0.001],\n",
    "    'iterations': [100, 200, 300]\n",
    "}\n",
    "\n",
    "random_search = RandomizedSearchCV(estimator=model, param_distributions=param_dist, cv=3, n_iter=10)\n",
    "random_search.fit(features_train, target_train, cat_features=columns_category)"
   ]
  },
  {
   "cell_type": "code",
   "execution_count": null,
   "id": "54a7f095",
   "metadata": {},
   "outputs": [],
   "source": [
    "random_search.best_score_"
   ]
  },
  {
   "cell_type": "code",
   "execution_count": null,
   "id": "aea02028",
   "metadata": {},
   "outputs": [],
   "source": [
    "best_params = random_search.best_params_\n",
    "best_iteration = random_search.best_estimator_.get_best_iteration()"
   ]
  },
  {
   "cell_type": "code",
   "execution_count": null,
   "id": "a3d29166",
   "metadata": {
    "scrolled": true
   },
   "outputs": [],
   "source": [
    "best_params"
   ]
  },
  {
   "cell_type": "markdown",
   "id": "4e4fffc1",
   "metadata": {},
   "source": [
    "**Вывод**\n",
    "\n",
    "Лучшие параметры:\n",
    "\n",
    "- iterations=300\n",
    "- depth=4 \n",
    "- learning_rate=0.1 \n",
    "- loss_function='Logloss'\n",
    "- eval_metric='AUC'\n",
    "\n",
    "Среднее значение AUC-ROC score: 0.8926539672706623"
   ]
  },
  {
   "cell_type": "markdown",
   "id": "080780bc",
   "metadata": {},
   "source": [
    "### Лучшая модель"
   ]
  },
  {
   "cell_type": "markdown",
   "id": "d4b84db9",
   "metadata": {},
   "source": [
    "Лучшей оказалась модель CatBoostClassifier, именно её будет проверять на тестовой выборке"
   ]
  },
  {
   "cell_type": "code",
   "execution_count": null,
   "id": "5291ac4c",
   "metadata": {
    "scrolled": true
   },
   "outputs": [],
   "source": [
    "%time\n",
    "# Обучение модели на всей тренировочной выборке\n",
    "test_pool = Pool(data=features_test, cat_features=columns_category)\n",
    "probs = random_search.predict_proba(test_pool)[:, 1]\n",
    "auc_roc = roc_auc_score(target_test, probs)\n",
    "display(\"AUC-ROC:\", auc_roc)"
   ]
  },
  {
   "cell_type": "markdown",
   "id": "90563ce4",
   "metadata": {},
   "source": [
    "**Вывод**\n",
    "\n",
    "Модель CatBoostClassifier показала результат `auc-roc` на тестовой выборке **0.9268957148914141**. "
   ]
  },
  {
   "cell_type": "markdown",
   "id": "343bd3dc",
   "metadata": {},
   "source": [
    "### Матрица ошибок"
   ]
  },
  {
   "cell_type": "code",
   "execution_count": null,
   "id": "59173f70",
   "metadata": {
    "scrolled": true
   },
   "outputs": [],
   "source": [
    "y_pred = (probs >= 0.5).astype(int)\n",
    "confusion = confusion_matrix(target_test, y_pred)\n",
    "display(\"Матрица ошибок:\")\n",
    "display(confusion)"
   ]
  },
  {
   "cell_type": "markdown",
   "id": "f87ee69c",
   "metadata": {},
   "source": [
    "- Верхний левый элемент представляет количество истинно отрицательных (True Negative) прогнозов. Модель правильно классифицировала **1470** негативных примеров.\n",
    "\n",
    "- Верхний правый элемент представляет количество ложно положительных (False Positive) прогнозов. Модель неправильно классифицировала **22** отрицательных примера как положительные.\n",
    "\n",
    "- Нижний левый элемент представляет количество ложно отрицательных (False Negative) прогнозов. Модель неправильно классифицировала **144** положительных примера как отрицательные.\n",
    "\n",
    "- Нижний правый элемент представляет количество истинно положительных (True Positive) прогнозов. Модель правильно классифицировала **125** положительных примеров."
   ]
  },
  {
   "cell_type": "code",
   "execution_count": null,
   "id": "caecd007",
   "metadata": {},
   "outputs": [],
   "source": [
    "accuracy = accuracy_score(target_test, y_pred)\n",
    "display(\"Accuracy:\", accuracy)"
   ]
  },
  {
   "cell_type": "markdown",
   "id": "700076a1",
   "metadata": {},
   "source": [
    "**Вывод**\n",
    "\n",
    "- Точность модели составляет примерно 85.03%. Это означает, что около 85.03% прогнозов модели, отнесенных к положительному классу, являются правильными.\n",
    "\n",
    "- Полнота модели составляет примерно 46.44%. Это означает, что модель правильно обнаруживает около 46.44% всех положительных примеров в данных.\n",
    "\n",
    "- Accuracy: 0.9057353776263487. Accuracy (точность) представляет собой долю правильно классифицированных примеров от общего числа примеров в наборе данных. В данном случае, Accuracy равна 0.906, что означает, что модель правильно классифицирует около 90.57% примеров. Это говорит о том, что модель обладает высокой общей точностью в предсказании классов. Она правильно определяет принадлежность к положительному или отрицательному классу в большинстве случаев. Однако, важно отметить, что Accuracy сама по себе может быть обманчивой метрикой, особенно в случаях, когда классы несбалансированы или имеют различную важность. Например, если положительные примеры составляют всего 10% от общего числа примеров, то модель может достичь высокой Accuracy, просто предсказывая всегда отрицательный класс."
   ]
  },
  {
   "cell_type": "code",
   "execution_count": null,
   "id": "55d2907c",
   "metadata": {
    "scrolled": true
   },
   "outputs": [],
   "source": [
    "best_model = random_search.best_estimator_\n",
    "feature_importance = best_model.get_feature_importance()\n",
    "\n",
    "df_feature_importance = pd.DataFrame({'feature': features_test.columns, 'importance': feature_importance})\n",
    "df_feature_importance = df_feature_importance.sort_values(by='importance', ascending=False)\n",
    "\n",
    "display(df_feature_importance)"
   ]
  },
  {
   "cell_type": "markdown",
   "id": "cf6459e7",
   "metadata": {},
   "source": [
    "Построим график для наших признаков"
   ]
  },
  {
   "cell_type": "code",
   "execution_count": null,
   "id": "69874410",
   "metadata": {},
   "outputs": [],
   "source": [
    "features = df_feature_importance['feature']\n",
    "importance = df_feature_importance['importance']\n",
    "\n",
    "plt.figure(figsize=(10, 6))\n",
    "plt.bar(features, importance)\n",
    "plt.xticks(rotation=45)\n",
    "plt.xlabel('Features')\n",
    "plt.ylabel('Importance')\n",
    "plt.title('Feature Importance');"
   ]
  },
  {
   "cell_type": "markdown",
   "id": "cd4998ce",
   "metadata": {},
   "source": [
    "Из графика видно, что признак \"usage_duration\" имеет наибольшую важность для прогнозирования оттока, значительно превышая остальные признаки. Это может означать, что продолжительность использования услуг является сильным фактором, влияющим на отток клиентов.\n",
    "\n",
    "Следующим по важности признаком является \"monthly_charges\", что указывает на то, что месячные платежи также играют значительную роль в прогнозировании оттока.\n",
    "\n",
    "\"Type\", \"payment_method\" и \"multiple_lines\" также имеют некоторую важность, но значительно ниже, чем первые два признака.\n",
    "\n",
    "Остальные признаки имеют относительно низкую важность и могут оказывать меньшее влияние на прогнозирование оттока."
   ]
  },
  {
   "cell_type": "markdown",
   "id": "c56693d1",
   "metadata": {},
   "source": [
    "### Вывод"
   ]
  },
  {
   "cell_type": "markdown",
   "id": "3848ffb5",
   "metadata": {},
   "source": [
    "- Добавили новый признак в данные `usage_duration` показывающий, сколько дней пользуется или пользовался клиент услугами.\n",
    "- Нашли целевой признак - `end_date`, добавили новый признак `churn`, который хранит информацию о состоянии контракта с клиентом: 0- клиент всё ещё пользуется услугами, 1 - клиент перестал пользоваться услугами.\n",
    "- Исследовали корреляцию и удалили лишние признаки:\n",
    "  - customer_id\n",
    "  - gender\n",
    "  - dependents\n",
    "  - partner\n",
    "  - only_end_date\n",
    "  - begin_date\n",
    "  - total_charges\n",
    "  - streaming_movies\n",
    "- Проверили дисбаланс классов: 86/14%.\n",
    "- Разделили на выборки.\n",
    "- Обучили две модели:\n",
    "    -Результаты на кросс-валлидации \n",
    "       \n",
    "       1)RandomForestClassifier - лучшая оценка (AUC-ROC): 0.8326841837494837\n",
    "       2)CatBoostClassifier - cреднее значение AUC-ROC score:: 0.8926539672706623\n",
    "       \n",
    "- Протестили лучшую модель: CatBoostClassifier - 0.9078443146595971, и этот результат лучше 0.85, задача поставленная закасчиком выполнена.\n",
    "\n",
    "- Исследовали матрицу ошибок для модели CatBoost:\n",
    "\n",
    "  - Точность модели составляет примерно 85.03%. Это означает, что около 85.03% прогнозов модели, отнесенных к положительному классу,   являются правильными.\n",
    "  - Полнота модели составляет примерно 46.44%. Это означает, что модель правильно обнаруживает около 46.44% всех положительных       примеров в данных.\n",
    "- Исследовали важность признаков для прогнозирования оттока\n",
    "    - Признак \"usage_duration\" имеет наибольшую важность для прогнозирования оттока, значительно превышая остальные признаки. Это может означать, что продолжительность использования услуг является сильным фактором, влияющим на отток клиентов.\n",
    "  - Следующим по важности признаком является \"monthly_charges\", что указывает на то, что месячные платежи также играют значительную роль в прогнозировании оттока.\n",
    "  - \"Type\", \"payment_method\" и \"multiple_lines\" также имеют некоторую важность, но значительно ниже, чем первые два признака."
   ]
  },
  {
   "cell_type": "markdown",
   "id": "ba1f5ee7",
   "metadata": {},
   "source": [
    "# Отчёт"
   ]
  },
  {
   "cell_type": "markdown",
   "id": "f924d2bd",
   "metadata": {},
   "source": [
    "1) Ключевые шаги работы над проектом:\n",
    "\n",
    "Подготовка данных: \n",
    "   - Импорт и загрузка данных о клиентах, их тарифах и договорах.\n",
    "   - Получение информации о размере данных\n",
    "   - Объединение таблиц.\n",
    "   - Приведение имён столбцов к PEP8, если требуется.\n",
    "   - Проверка и очистка данных от пропущенных значений.\n",
    "   - Проверка и удаление дубликатов.\n",
    "   - Преобразование переменных к необходимым типам данных, если требуется. \n",
    "\n",
    "Подготовка признаков:\n",
    "   - Определение целевого признака.\n",
    "   - Преобразование целевой переменной в числовой формат, если требуется.\n",
    "   - Проверка дисбаланса класса и преобразование в случае необходимости.\n",
    "   - Выбор значимых признаков для модели.\n",
    "   - Преобразование категориальных признаков в числовые, если требуется.\n",
    "   - Масштабирование числовых признаков, если требуется.\n",
    "\n",
    "Разделение данных:\n",
    "   - Разделение данных: обучающую и тестовую.\n",
    "\n",
    "Обучение модели:\n",
    "   - Выбор 2 и более алгоритмов машинного обучения для задачи прогнозирования оттока.\n",
    "   - Подбор гиперпараметров.\n",
    "   - Обучение моделей.\n",
    "\n",
    "Оценка и выбор модели:\n",
    "   - Оценка качества модели с использованием метрики AUC-ROC.\n",
    "   - Сравнение различных моделей и выбор наиболее подходящей модели для задачи.\n",
    "\n",
    "Отчёт:\n",
    "   - Интерпретация важности признаков для прогнозирования оттока.\n",
    "   - Выявление основных факторов, влияющих на отток клиентов.\n",
    "   \n",
    "Pandas для загрузки, обработки и анализа данных.\n",
    "Scikit-learn для преобразования признаков, масштабирования и обучения моделей.\n",
    "Matplotlib и Seaborn для визуализации данных и результатов.\n",
    "CatBoostClassifier и RandomForestClassifier для построения моделей машинного обучения.\n",
    "GridSearchCV для подбора гиперпараметров моделей.\n",
    "Различные метрики, включая AUC-ROC и матрицу ошибок, для оценки качества моделей."
   ]
  },
  {
   "cell_type": "markdown",
   "id": "64bef55a",
   "metadata": {},
   "source": [
    "2) Анализ соответствия фактической работы запланированным шагам:\n",
    "\n",
    "1. **Добавление новых признаков**: В ходе анализа данных было выявлено, что можно добавить дополнительные признаки, которые могут оказать значимое влияние на прогнозирование оттока клиентов. Были добавлены новые признаки, которые отражают различные аспекты договоров, тарифов и использования услуг компании.\n",
    "\n",
    "2. **Построение и анализ матрицы ошибок**: Кроме оценки качества моделей с помощью метрики AUC-ROC, было решено построить и анализировать матрицу ошибок для каждой модели. Это позволило более детально оценить производительность моделей и выявить типы ошибок.\n",
    "\n",
    "3. **Выявление основных факторов, влияющих на отток клиентов**: Как часть интерпретации результатов, было проведено более глубокое исследование важности признаков для прогнозирования оттока. Это помогло выявить основные факторы, которые оказывают наибольшее влияние на решение клиентов об уходе от компании.\n",
    "\n",
    "\n",
    "\n",
    "   Внесенные изменения были обусловлены необходимостью улучшить качество моделей и получить более полное понимание важности признаков для прогнозирования оттока клиентов. Добавление новых признаков и удаление ненужных помогли улучшить предсказательную способность моделей. Построение матрицы ошибок позволило более точно оценить производительность моделей на различных классах и идентифицировать сильные и слабые стороны каждой модели. Выявление основных факторов, влияющих на отток клиентов, дало компании дополнительные инсайты для разработки стратегий удержания клиентов и оптимизации бизнес-процессов.\n"
   ]
  },
  {
   "cell_type": "markdown",
   "id": "34c1bf52",
   "metadata": {},
   "source": [
    "3) Рефлексия над сложностями и описание путей их решения:\n",
    "\n",
    "   Сложностей не было"
   ]
  },
  {
   "cell_type": "markdown",
   "id": "0feca739",
   "metadata": {},
   "source": [
    "4) В итоговом списке признаков для обучения модели после обработки данных были использованы следующие признаки:\n",
    "\n",
    "1. senior_citizen: Бинарный признак, указывающий на то, является ли клиент пожилым человеком (1 - пожилой, 0 - не пожилой).\n",
    "2. multiple_lines: Категориальный признак, указывающий на наличие или отсутствие нескольких телефонных линий (Yes - есть несколько линий, No - нет нескольких линий).\n",
    "3. internet_service: Категориальный признак, указывающий на тип интернет-сервиса, предоставляемого клиенту (DSL - цифровая абонентская линия, Fiber optic - оптическое волокно, No - отсутствует интернет-сервис).\n",
    "4. online_security: Категориальный признак, указывающий на наличие или отсутствие онлайн-защиты (Yes - есть онлайн-защита, No - нет онлайн-защиты).\n",
    "5. online_backup: Категориальный признак, указывающий на наличие или отсутствие онлайн-резервного копирования (Yes - есть онлайн-резервное копирование, No - нет онлайн-резервного копирования).\n",
    "6. device_protection: Категориальный признак, указывающий на наличие или отсутствие защиты оборудования (Yes - есть защита оборудования, No - нет защиты оборудования).\n",
    "7. tech_support: Категориальный признак, указывающий на наличие или отсутствие технической поддержки (Yes - есть техническая поддержка, No - нет технической поддержки).\n",
    "8. streaming_tv: Категориальный признак, указывающий на наличие или отсутствие стримингового телевидения (Yes - есть стриминговое телевидение, No - нет стримингового телевидения).\n",
    "9. type: Категориальный признак, указывающий на тип тарифного плана (Month-to-month - ежемесячный план, One year - годовой план, Two year - двухлетний план).\n",
    "10. paperless_billing: Бинарный признак, указывающий на использование безбумажного биллинга (1 - безбумажный биллинг, 0 - бумажный биллинг).\n",
    "11. payment_method: Категориальный признак, указывающий на способ оплаты (Electronic check - электронный чек, Mailed check - чек по почте, Bank transfer (automatic) - автоматический банковский перевод, Credit card (automatic) - автоматическое списание с кредитной карты).\n",
    "12. monthly_charges: Числовой признак, представляющий собой ежемесячную плату клиента.\n",
    "13. usage_duration: Числовой признак, представляющий продолжительность использования услуг.\n",
    "14. churn: Бинарный целевой признак, указывающий на отток клиента (1 - отток, 0 - не отток).\n",
    "\n",
    "Для обработки признаков были применены следующие методы:\n",
    "\n",
    "- Для категориальных признаков multiple_lines, internet_service, online_security, online_backup, device_protection, tech_support, streaming_tv, type и payment_method было применено кодирование Ordinal-Encoder, что позволило представить каждую категорию в виде отдельного бинарного признака.\n",
    "- Для числовых признаков monthly_charges и usage_duration не было необходимости в их преобразовании или стандартизации, так как они уже представляют собой числовые значения.\n",
    "- Целевой признак churn остался без изменений, так как он уже представлен в бинарном формате.\n",
    "\n",
    "После обработки признаков и применения соответствующих методов их использовали в обучении модели для прогнозирования оттока клиентов."
   ]
  },
  {
   "cell_type": "markdown",
   "id": "cee9e0e5",
   "metadata": {},
   "source": [
    "5) Краткое описание предобработки данных:\n",
    "\n",
    "   Пропущенные значения: В столбцах multiple_lines, internet_service, online_security, online_backup, device_protection, tech_support, streaming_tv и streaming_movies были пропущены некоторые значения. Для решения этой проблемы было решено удалить строки с пропущенными значениями.\n",
    "\n",
    "   Некорректный формат столбца total_charges: Столбец total_charges имел тип данных object, хотя ожидался числовой тип. Пропуски были заполнены 0.\n",
    "   После обработки данных были выполнены следующие шаги предобработки:\n",
    "\n",
    "   Удаление пропущенных значений: Строки с пропущенными значениями были удалены из набора данных.\n",
    "\n",
    "   Масштабирование признаков: Для числовых признаков monthly_charges и usage_duration было применено масштабирование с использованием метода StandardScaler. Это позволяет привести значения признаков к одному масштабу и помочь модели более эффективно обучаться."
   ]
  },
  {
   "cell_type": "markdown",
   "id": "19f86b07",
   "metadata": {},
   "source": [
    "6) В процессе исследования были рассмотрены две модели: RandomForest и CatBoostClassifier. Ниже представлена сводная таблица с информацией о названиях моделей, их гиперпараметрах и метриках, полученных на кросс-валидации.\n",
    "\n",
    "| Модель             | Гиперпараметры                                                                                            | AUC-ROC на кросс-валидации |\n",
    "|--------------------|-----------------------------------------------------------------------------------------------------------|---------------------------|\n",
    "| RandomForest      | model__criterion: 'entropy', model__max_depth: None, model__max_features: None, model__min_samples_split: 10, model__n_estimators: 1500 |   0.833             |\n",
    "| CatBoostClassifier | iterations=300, depth=4, learning_rate=0.1, loss_function='Logloss', eval_metric='AUC'                   | 0.893                    |\n",
    "\n",
    "Модель RandomForest с указанными гиперпараметрами достигла значения AUC-ROC на уровне 0.833, в то время как модель CatBoostClassifier с гиперпараметрами iterations=300, depth=4, learning_rate=0.1, loss_function='Logloss', eval_metric='AUC' показала высокую производительность с AUC-ROC 0.893 на кросс-валидации."
   ]
  },
  {
   "cell_type": "markdown",
   "id": "d07caedd",
   "metadata": {},
   "source": [
    "7) Лучшая модель, которая продемонстрировала наилучшую производительность в задаче прогнозирования оттока, является модель CatBoostClassifier. Используя следующие гиперпараметры: \n",
    "\n",
    "- iterations=300\n",
    "- depth=4\n",
    "- learning_rate=0.1\n",
    "- loss_function='Logloss'\n",
    "- eval_metric='AUC'\n",
    "  \n",
    "  На кросс-валидации данная модель достигла значения AUC-ROC равного 0.9078443146595971. Это означает, что модель показала высокую способность разделять положительные и отрицательные классы, что является важным показателем для прогнозирования оттока клиентов."
   ]
  },
  {
   "cell_type": "markdown",
   "id": "c79aa756",
   "metadata": {},
   "source": [
    "8) Полученная метрика Accuracy на тестовой выборке составляет 0.8668941979522184. Это означает, что лучшая модель достигла точности прогнозирования оттока на уровне 86.69%. Точность показывает, насколько точно модель классифицирует клиентов по их принадлежности к классу оттока или неоттока. В данном случае, высокое значение Accuracy указывает на хорошую способность модели предсказывать отток клиентов. Значение метрики AUC-ROC равно 0.8926539672706623. AUC-ROC (Area Under the Receiver Operating Characteristic Curve) является мерой качества модели для задачи бинарной классификации. Данная метрика оценивает способность модели правильно ранжировать положительные и отрицательные примеры. Значение AUC-ROC между 0.9 и 1.0 интерпретируется как высокое качество модели. В данном случае, значение AUC-ROC 0.8926539672706623 говорит о том, что модель хорошо разделяет классы оттока и неоттока клиентов. Таким образом, полученные значения метрик свидетельствуют о хорошей эффективности и точности лучшей модели в прогнозировании оттока клиентов. Высокая точность (86.69%) и значительная площадь под ROC-кривой (0.893) подтверждают способность модели предсказывать отток с высокой надежностью и поддерживать хорошую разделимость между классами оттока и неоттока."
   ]
  },
  {
   "cell_type": "code",
   "execution_count": null,
   "id": "ff48f5c0",
   "metadata": {},
   "outputs": [],
   "source": [
    "y_pred = (probs >= 0.5).astype(int)\n",
    "confusion = confusion_matrix(target_test, y_pred)\n",
    "display(\"Матрица ошибок:\")\n",
    "display(confusion)"
   ]
  },
  {
   "cell_type": "markdown",
   "id": "9745cccc",
   "metadata": {},
   "source": [
    "   Точность модели составляет примерно 85.03%. Это означает, что около 85.03% прогнозов модели, отнесенных к положительному классу, являются правильными.\n",
    "\n",
    "Полнота модели составляет примерно 46.44%.Это означает, что модель правильно обнаруживает около 46.44% всех положительных примеров в данных."
   ]
  },
  {
   "cell_type": "markdown",
   "id": "45e5fc52",
   "metadata": {},
   "source": [
    "10) Анализ важности признаков позволил выявить основные факторы, влияющие на отток клиентов. \n",
    "Признак \"usage_duration\"(продолжительность пользования услугами в днях) оказался наиболее важным для прогнозирования оттока, существенно превышая значимость остальных признаков. Это указывает на то, что продолжительность использования услуг имеет сильное влияние на решение клиента о продолжении или прекращении пользования услугами компании. Другой значимый фактор - \"monthly_charges\"(ежемесячные траты на услуги), что указывает на важность месячных платежей в предсказании оттока. Высокие ежемесячные расходы могут быть одним из основных мотивов клиентов для прекращения использования услуг. Признаки \"Type\"(тип оплаты годовой, месячный и тд), \"payment_method\"(способ оплаты) и \"multiple_lines\"( наличие нескольких линий) также имеют некоторую значимость, хотя ниже по сравнению с \"usage_duration\" и \"monthly_charges\". Это говорит о том, что тип подключения, способ оплаты и наличие нескольких линий также могут оказывать влияние на решение клиентов об оттоке. Остальные признаки имеют более низкую важность и могут иметь меньшее влияние на прогнозирование оттока клиентов. Из этого анализа можно сделать вывод, что компания должна обратить особое внимание на удержание клиентов с длительным использованием услуг и на клиентов с высокими месячными платежами. Также стоит рассмотреть возможности улучшения типов подключения, способов оплаты и предоставления нескольких линий, чтобы повысить удовлетворенность и лояльность клиентов и, тем самым, снизить отток."
   ]
  },
  {
   "cell_type": "code",
   "execution_count": null,
   "id": "9c07f89b",
   "metadata": {
    "tags": []
   },
   "outputs": [],
   "source": [
    "features = df_feature_importance['feature']\n",
    "importance = df_feature_importance['importance']\n",
    "\n",
    "plt.figure(figsize=(10, 6))\n",
    "plt.bar(features, importance)\n",
    "plt.xticks(rotation=45)\n",
    "plt.xlabel('Features')\n",
    "plt.ylabel('Importance')\n",
    "plt.title('Feature Importance');"
   ]
  }
 ],
 "metadata": {
  "ExecuteTimeLog": [
   {
    "duration": 431,
    "start_time": "2023-06-26T16:40:04.870Z"
   },
   {
    "duration": 2077,
    "start_time": "2023-06-26T16:40:05.303Z"
   },
   {
    "duration": 0,
    "start_time": "2023-06-26T16:40:07.382Z"
   },
   {
    "duration": 0,
    "start_time": "2023-06-26T16:40:07.383Z"
   },
   {
    "duration": 0,
    "start_time": "2023-06-26T16:40:07.385Z"
   },
   {
    "duration": 0,
    "start_time": "2023-06-26T16:40:07.386Z"
   },
   {
    "duration": 0,
    "start_time": "2023-06-26T16:40:07.388Z"
   },
   {
    "duration": 0,
    "start_time": "2023-06-26T16:40:07.389Z"
   },
   {
    "duration": 0,
    "start_time": "2023-06-26T16:40:07.390Z"
   },
   {
    "duration": 0,
    "start_time": "2023-06-26T16:40:07.391Z"
   },
   {
    "duration": 0,
    "start_time": "2023-06-26T16:40:07.392Z"
   },
   {
    "duration": 0,
    "start_time": "2023-06-26T16:40:07.393Z"
   },
   {
    "duration": 0,
    "start_time": "2023-06-26T16:40:07.394Z"
   },
   {
    "duration": 0,
    "start_time": "2023-06-26T16:40:07.402Z"
   },
   {
    "duration": 0,
    "start_time": "2023-06-26T16:40:07.403Z"
   },
   {
    "duration": 0,
    "start_time": "2023-06-26T16:40:07.404Z"
   },
   {
    "duration": 0,
    "start_time": "2023-06-26T16:40:07.405Z"
   },
   {
    "duration": 0,
    "start_time": "2023-06-26T16:40:07.406Z"
   },
   {
    "duration": 0,
    "start_time": "2023-06-26T16:40:07.407Z"
   },
   {
    "duration": 0,
    "start_time": "2023-06-26T16:40:07.408Z"
   },
   {
    "duration": 0,
    "start_time": "2023-06-26T16:40:07.409Z"
   },
   {
    "duration": 0,
    "start_time": "2023-06-26T16:40:07.410Z"
   },
   {
    "duration": 0,
    "start_time": "2023-06-26T16:40:07.411Z"
   },
   {
    "duration": 0,
    "start_time": "2023-06-26T16:40:07.413Z"
   },
   {
    "duration": 0,
    "start_time": "2023-06-26T16:40:07.414Z"
   },
   {
    "duration": 0,
    "start_time": "2023-06-26T16:40:07.415Z"
   },
   {
    "duration": 434,
    "start_time": "2023-06-26T16:40:33.490Z"
   },
   {
    "duration": 80,
    "start_time": "2023-06-26T16:40:33.926Z"
   },
   {
    "duration": 18,
    "start_time": "2023-06-26T16:40:34.008Z"
   },
   {
    "duration": 82,
    "start_time": "2023-06-26T16:40:34.028Z"
   },
   {
    "duration": 11,
    "start_time": "2023-06-26T16:40:34.111Z"
   },
   {
    "duration": 62,
    "start_time": "2023-06-26T16:40:34.123Z"
   },
   {
    "duration": 8,
    "start_time": "2023-06-26T16:40:34.186Z"
   },
   {
    "duration": 117,
    "start_time": "2023-06-26T16:40:34.195Z"
   },
   {
    "duration": 10,
    "start_time": "2023-06-26T16:40:34.313Z"
   },
   {
    "duration": 8,
    "start_time": "2023-06-26T16:40:34.326Z"
   },
   {
    "duration": 5,
    "start_time": "2023-06-26T16:40:34.336Z"
   },
   {
    "duration": 9,
    "start_time": "2023-06-26T16:40:34.343Z"
   },
   {
    "duration": 6,
    "start_time": "2023-06-26T16:40:34.353Z"
   },
   {
    "duration": 28,
    "start_time": "2023-06-26T16:40:34.361Z"
   },
   {
    "duration": 20,
    "start_time": "2023-06-26T16:40:34.390Z"
   },
   {
    "duration": 7,
    "start_time": "2023-06-26T16:40:34.411Z"
   },
   {
    "duration": 10,
    "start_time": "2023-06-26T16:40:34.419Z"
   },
   {
    "duration": 24,
    "start_time": "2023-06-26T16:40:34.431Z"
   },
   {
    "duration": 11,
    "start_time": "2023-06-26T16:40:34.457Z"
   },
   {
    "duration": 33,
    "start_time": "2023-06-26T16:40:34.469Z"
   },
   {
    "duration": 323,
    "start_time": "2023-06-26T16:40:34.504Z"
   },
   {
    "duration": 3,
    "start_time": "2023-06-26T16:40:34.829Z"
   },
   {
    "duration": 15,
    "start_time": "2023-06-26T16:40:34.833Z"
   },
   {
    "duration": 4,
    "start_time": "2023-06-26T16:40:34.850Z"
   },
   {
    "duration": 43,
    "start_time": "2023-06-26T16:40:34.856Z"
   },
   {
    "duration": 18,
    "start_time": "2023-06-26T16:40:34.900Z"
   },
   {
    "duration": 74,
    "start_time": "2023-06-30T10:21:03.122Z"
   },
   {
    "duration": 11521,
    "start_time": "2023-06-30T10:21:27.719Z"
   },
   {
    "duration": 1792,
    "start_time": "2023-06-30T10:21:39.243Z"
   },
   {
    "duration": 0,
    "start_time": "2023-06-30T10:21:41.038Z"
   },
   {
    "duration": 0,
    "start_time": "2023-06-30T10:21:41.040Z"
   },
   {
    "duration": 0,
    "start_time": "2023-06-30T10:21:41.041Z"
   },
   {
    "duration": 0,
    "start_time": "2023-06-30T10:21:41.042Z"
   },
   {
    "duration": 0,
    "start_time": "2023-06-30T10:21:41.043Z"
   },
   {
    "duration": 0,
    "start_time": "2023-06-30T10:21:41.044Z"
   },
   {
    "duration": 0,
    "start_time": "2023-06-30T10:21:41.045Z"
   },
   {
    "duration": 0,
    "start_time": "2023-06-30T10:21:41.046Z"
   },
   {
    "duration": 0,
    "start_time": "2023-06-30T10:21:41.047Z"
   },
   {
    "duration": 0,
    "start_time": "2023-06-30T10:21:41.060Z"
   },
   {
    "duration": 0,
    "start_time": "2023-06-30T10:21:41.061Z"
   },
   {
    "duration": 0,
    "start_time": "2023-06-30T10:21:41.062Z"
   },
   {
    "duration": 0,
    "start_time": "2023-06-30T10:21:41.063Z"
   },
   {
    "duration": 0,
    "start_time": "2023-06-30T10:21:41.064Z"
   },
   {
    "duration": 0,
    "start_time": "2023-06-30T10:21:41.064Z"
   },
   {
    "duration": 0,
    "start_time": "2023-06-30T10:21:41.065Z"
   },
   {
    "duration": 0,
    "start_time": "2023-06-30T10:21:41.067Z"
   },
   {
    "duration": 0,
    "start_time": "2023-06-30T10:21:41.071Z"
   },
   {
    "duration": 0,
    "start_time": "2023-06-30T10:21:41.071Z"
   },
   {
    "duration": 0,
    "start_time": "2023-06-30T10:21:41.072Z"
   },
   {
    "duration": 0,
    "start_time": "2023-06-30T10:21:41.073Z"
   },
   {
    "duration": 0,
    "start_time": "2023-06-30T10:21:41.074Z"
   },
   {
    "duration": 0,
    "start_time": "2023-06-30T10:21:41.078Z"
   },
   {
    "duration": 0,
    "start_time": "2023-06-30T10:21:41.079Z"
   },
   {
    "duration": 0,
    "start_time": "2023-06-30T10:21:41.080Z"
   },
   {
    "duration": 0,
    "start_time": "2023-06-30T10:21:41.081Z"
   },
   {
    "duration": 0,
    "start_time": "2023-06-30T10:21:41.083Z"
   },
   {
    "duration": 0,
    "start_time": "2023-06-30T10:21:41.086Z"
   },
   {
    "duration": 0,
    "start_time": "2023-06-30T10:21:41.087Z"
   },
   {
    "duration": 0,
    "start_time": "2023-06-30T10:21:41.088Z"
   },
   {
    "duration": 0,
    "start_time": "2023-06-30T10:21:41.089Z"
   },
   {
    "duration": 0,
    "start_time": "2023-06-30T10:21:41.094Z"
   },
   {
    "duration": 0,
    "start_time": "2023-06-30T10:21:41.096Z"
   },
   {
    "duration": 0,
    "start_time": "2023-06-30T10:21:41.097Z"
   },
   {
    "duration": 0,
    "start_time": "2023-06-30T10:21:41.098Z"
   },
   {
    "duration": 0,
    "start_time": "2023-06-30T10:21:41.100Z"
   },
   {
    "duration": 0,
    "start_time": "2023-06-30T10:21:41.101Z"
   },
   {
    "duration": 0,
    "start_time": "2023-06-30T10:21:41.103Z"
   },
   {
    "duration": 0,
    "start_time": "2023-06-30T10:21:41.104Z"
   },
   {
    "duration": 0,
    "start_time": "2023-06-30T10:21:41.105Z"
   },
   {
    "duration": 0,
    "start_time": "2023-06-30T10:21:41.106Z"
   },
   {
    "duration": 0,
    "start_time": "2023-06-30T10:21:41.107Z"
   },
   {
    "duration": 0,
    "start_time": "2023-06-30T10:21:41.109Z"
   },
   {
    "duration": 0,
    "start_time": "2023-06-30T10:21:41.110Z"
   },
   {
    "duration": 0,
    "start_time": "2023-06-30T10:21:41.111Z"
   },
   {
    "duration": 0,
    "start_time": "2023-06-30T10:21:41.116Z"
   },
   {
    "duration": 0,
    "start_time": "2023-06-30T10:21:41.117Z"
   },
   {
    "duration": 0,
    "start_time": "2023-06-30T10:21:41.118Z"
   },
   {
    "duration": 0,
    "start_time": "2023-06-30T10:21:41.119Z"
   },
   {
    "duration": 0,
    "start_time": "2023-06-30T10:21:41.120Z"
   },
   {
    "duration": 0,
    "start_time": "2023-06-30T10:21:41.121Z"
   },
   {
    "duration": 0,
    "start_time": "2023-06-30T10:21:41.122Z"
   },
   {
    "duration": 0,
    "start_time": "2023-06-30T10:21:41.123Z"
   },
   {
    "duration": 0,
    "start_time": "2023-06-30T10:21:41.124Z"
   },
   {
    "duration": 0,
    "start_time": "2023-06-30T10:21:41.127Z"
   },
   {
    "duration": 0,
    "start_time": "2023-06-30T10:21:41.128Z"
   },
   {
    "duration": 0,
    "start_time": "2023-06-30T10:21:41.129Z"
   },
   {
    "duration": 0,
    "start_time": "2023-06-30T10:21:41.130Z"
   },
   {
    "duration": 0,
    "start_time": "2023-06-30T10:21:41.132Z"
   },
   {
    "duration": 0,
    "start_time": "2023-06-30T10:21:41.159Z"
   },
   {
    "duration": 0,
    "start_time": "2023-06-30T10:21:41.160Z"
   },
   {
    "duration": 0,
    "start_time": "2023-06-30T10:21:41.161Z"
   },
   {
    "duration": 6042,
    "start_time": "2023-06-30T10:22:30.210Z"
   },
   {
    "duration": 463,
    "start_time": "2023-06-30T10:22:36.255Z"
   },
   {
    "duration": 3,
    "start_time": "2023-06-30T10:22:36.720Z"
   },
   {
    "duration": 87,
    "start_time": "2023-06-30T10:22:39.928Z"
   },
   {
    "duration": 9,
    "start_time": "2023-06-30T10:22:40.228Z"
   },
   {
    "duration": 76,
    "start_time": "2023-06-30T10:22:40.328Z"
   },
   {
    "duration": 10,
    "start_time": "2023-06-30T10:22:40.439Z"
   },
   {
    "duration": 81,
    "start_time": "2023-06-30T10:22:40.531Z"
   },
   {
    "duration": 10,
    "start_time": "2023-06-30T10:22:40.618Z"
   },
   {
    "duration": 56,
    "start_time": "2023-06-30T10:22:40.716Z"
   },
   {
    "duration": 14,
    "start_time": "2023-06-30T10:22:40.810Z"
   },
   {
    "duration": 9,
    "start_time": "2023-06-30T10:22:41.016Z"
   },
   {
    "duration": 10,
    "start_time": "2023-06-30T10:22:41.124Z"
   },
   {
    "duration": 20,
    "start_time": "2023-06-30T10:22:41.177Z"
   },
   {
    "duration": 9,
    "start_time": "2023-06-30T10:22:41.244Z"
   },
   {
    "duration": 10,
    "start_time": "2023-06-30T10:22:41.625Z"
   },
   {
    "duration": 8,
    "start_time": "2023-06-30T10:22:41.720Z"
   },
   {
    "duration": 10,
    "start_time": "2023-06-30T10:22:41.816Z"
   },
   {
    "duration": 10,
    "start_time": "2023-06-30T10:22:41.908Z"
   },
   {
    "duration": 13,
    "start_time": "2023-06-30T10:22:41.980Z"
   },
   {
    "duration": 11,
    "start_time": "2023-06-30T10:22:42.328Z"
   },
   {
    "duration": 22,
    "start_time": "2023-06-30T10:22:42.679Z"
   },
   {
    "duration": 0,
    "start_time": "2023-06-30T10:22:42.704Z"
   },
   {
    "duration": 23,
    "start_time": "2023-06-30T10:22:42.752Z"
   },
   {
    "duration": 10,
    "start_time": "2023-06-30T10:22:42.836Z"
   },
   {
    "duration": 10,
    "start_time": "2023-06-30T10:22:43.208Z"
   },
   {
    "duration": 4,
    "start_time": "2023-06-30T10:22:43.397Z"
   },
   {
    "duration": 14,
    "start_time": "2023-06-30T10:22:43.532Z"
   },
   {
    "duration": 4734,
    "start_time": "2023-06-30T10:24:37.114Z"
   },
   {
    "duration": 1428,
    "start_time": "2023-06-30T10:24:41.851Z"
   },
   {
    "duration": 6,
    "start_time": "2023-06-30T10:24:43.281Z"
   },
   {
    "duration": 254,
    "start_time": "2023-06-30T10:24:43.290Z"
   },
   {
    "duration": 0,
    "start_time": "2023-06-30T10:24:43.548Z"
   },
   {
    "duration": 0,
    "start_time": "2023-06-30T10:24:43.549Z"
   },
   {
    "duration": 0,
    "start_time": "2023-06-30T10:24:43.550Z"
   },
   {
    "duration": 1,
    "start_time": "2023-06-30T10:24:43.551Z"
   },
   {
    "duration": 0,
    "start_time": "2023-06-30T10:24:43.571Z"
   },
   {
    "duration": 0,
    "start_time": "2023-06-30T10:24:43.579Z"
   },
   {
    "duration": 0,
    "start_time": "2023-06-30T10:24:43.584Z"
   },
   {
    "duration": 0,
    "start_time": "2023-06-30T10:24:43.585Z"
   },
   {
    "duration": 0,
    "start_time": "2023-06-30T10:24:43.585Z"
   },
   {
    "duration": 0,
    "start_time": "2023-06-30T10:24:43.586Z"
   },
   {
    "duration": 0,
    "start_time": "2023-06-30T10:24:43.588Z"
   },
   {
    "duration": 0,
    "start_time": "2023-06-30T10:24:43.589Z"
   },
   {
    "duration": 0,
    "start_time": "2023-06-30T10:24:43.590Z"
   },
   {
    "duration": 0,
    "start_time": "2023-06-30T10:24:43.593Z"
   },
   {
    "duration": 0,
    "start_time": "2023-06-30T10:24:43.594Z"
   },
   {
    "duration": 0,
    "start_time": "2023-06-30T10:24:43.595Z"
   },
   {
    "duration": 1,
    "start_time": "2023-06-30T10:24:43.596Z"
   },
   {
    "duration": 0,
    "start_time": "2023-06-30T10:24:43.598Z"
   },
   {
    "duration": 0,
    "start_time": "2023-06-30T10:24:43.599Z"
   },
   {
    "duration": 0,
    "start_time": "2023-06-30T10:24:43.600Z"
   },
   {
    "duration": 0,
    "start_time": "2023-06-30T10:24:43.601Z"
   },
   {
    "duration": 1,
    "start_time": "2023-06-30T10:24:43.602Z"
   },
   {
    "duration": 0,
    "start_time": "2023-06-30T10:24:43.604Z"
   },
   {
    "duration": 0,
    "start_time": "2023-06-30T10:24:43.607Z"
   },
   {
    "duration": 0,
    "start_time": "2023-06-30T10:24:43.608Z"
   },
   {
    "duration": 0,
    "start_time": "2023-06-30T10:24:43.609Z"
   },
   {
    "duration": 0,
    "start_time": "2023-06-30T10:24:43.610Z"
   },
   {
    "duration": 0,
    "start_time": "2023-06-30T10:24:43.612Z"
   },
   {
    "duration": 0,
    "start_time": "2023-06-30T10:24:43.613Z"
   },
   {
    "duration": 0,
    "start_time": "2023-06-30T10:24:43.614Z"
   },
   {
    "duration": 0,
    "start_time": "2023-06-30T10:24:43.615Z"
   },
   {
    "duration": 0,
    "start_time": "2023-06-30T10:24:43.620Z"
   },
   {
    "duration": 0,
    "start_time": "2023-06-30T10:24:43.621Z"
   },
   {
    "duration": 0,
    "start_time": "2023-06-30T10:24:43.624Z"
   },
   {
    "duration": 0,
    "start_time": "2023-06-30T10:24:43.625Z"
   },
   {
    "duration": 0,
    "start_time": "2023-06-30T10:24:43.626Z"
   },
   {
    "duration": 0,
    "start_time": "2023-06-30T10:24:43.627Z"
   },
   {
    "duration": 0,
    "start_time": "2023-06-30T10:24:43.630Z"
   },
   {
    "duration": 0,
    "start_time": "2023-06-30T10:24:43.631Z"
   },
   {
    "duration": 0,
    "start_time": "2023-06-30T10:24:43.632Z"
   },
   {
    "duration": 0,
    "start_time": "2023-06-30T10:24:43.639Z"
   },
   {
    "duration": 0,
    "start_time": "2023-06-30T10:24:43.664Z"
   },
   {
    "duration": 0,
    "start_time": "2023-06-30T10:24:43.665Z"
   },
   {
    "duration": 0,
    "start_time": "2023-06-30T10:24:43.666Z"
   },
   {
    "duration": 0,
    "start_time": "2023-06-30T10:24:43.671Z"
   },
   {
    "duration": 0,
    "start_time": "2023-06-30T10:24:43.672Z"
   },
   {
    "duration": 0,
    "start_time": "2023-06-30T10:24:43.673Z"
   },
   {
    "duration": 0,
    "start_time": "2023-06-30T10:24:43.674Z"
   },
   {
    "duration": 0,
    "start_time": "2023-06-30T10:24:43.675Z"
   },
   {
    "duration": 0,
    "start_time": "2023-06-30T10:24:43.680Z"
   },
   {
    "duration": 0,
    "start_time": "2023-06-30T10:24:43.680Z"
   },
   {
    "duration": 0,
    "start_time": "2023-06-30T10:24:43.682Z"
   },
   {
    "duration": 0,
    "start_time": "2023-06-30T10:24:43.683Z"
   },
   {
    "duration": 0,
    "start_time": "2023-06-30T10:24:43.684Z"
   },
   {
    "duration": 0,
    "start_time": "2023-06-30T10:24:43.686Z"
   },
   {
    "duration": 0,
    "start_time": "2023-06-30T10:24:43.690Z"
   },
   {
    "duration": 0,
    "start_time": "2023-06-30T10:24:43.691Z"
   },
   {
    "duration": 0,
    "start_time": "2023-06-30T10:24:43.692Z"
   },
   {
    "duration": 0,
    "start_time": "2023-06-30T10:24:43.694Z"
   },
   {
    "duration": 0,
    "start_time": "2023-06-30T10:24:43.696Z"
   },
   {
    "duration": 201,
    "start_time": "2023-06-30T10:25:07.351Z"
   },
   {
    "duration": 15,
    "start_time": "2023-06-30T10:25:08.606Z"
   },
   {
    "duration": 236,
    "start_time": "2023-06-30T10:25:08.932Z"
   },
   {
    "duration": 13,
    "start_time": "2023-06-30T10:25:09.532Z"
   },
   {
    "duration": 118,
    "start_time": "2023-06-30T10:25:09.818Z"
   },
   {
    "duration": 7,
    "start_time": "2023-06-30T10:25:10.032Z"
   },
   {
    "duration": 87,
    "start_time": "2023-06-30T10:25:10.257Z"
   },
   {
    "duration": 9,
    "start_time": "2023-06-30T10:25:10.446Z"
   },
   {
    "duration": 4,
    "start_time": "2023-06-30T10:25:12.252Z"
   },
   {
    "duration": 25,
    "start_time": "2023-06-30T10:25:12.257Z"
   },
   {
    "duration": 5,
    "start_time": "2023-06-30T10:25:12.392Z"
   },
   {
    "duration": 4,
    "start_time": "2023-06-30T10:25:12.548Z"
   },
   {
    "duration": 36,
    "start_time": "2023-06-30T10:25:16.885Z"
   },
   {
    "duration": 17,
    "start_time": "2023-06-30T10:25:17.131Z"
   },
   {
    "duration": 4,
    "start_time": "2023-06-30T10:25:17.401Z"
   },
   {
    "duration": 5,
    "start_time": "2023-06-30T10:25:18.036Z"
   },
   {
    "duration": 18,
    "start_time": "2023-06-30T10:25:18.521Z"
   },
   {
    "duration": 4,
    "start_time": "2023-06-30T10:25:19.905Z"
   },
   {
    "duration": 52,
    "start_time": "2023-06-30T10:25:20.080Z"
   },
   {
    "duration": 24,
    "start_time": "2023-06-30T10:25:20.599Z"
   },
   {
    "duration": 8,
    "start_time": "2023-06-30T10:25:20.912Z"
   },
   {
    "duration": 15,
    "start_time": "2023-06-30T10:25:21.020Z"
   },
   {
    "duration": 75,
    "start_time": "2023-06-30T10:25:22.102Z"
   },
   {
    "duration": 3,
    "start_time": "2023-06-30T10:25:22.724Z"
   },
   {
    "duration": 21,
    "start_time": "2023-06-30T10:25:23.851Z"
   },
   {
    "duration": 31,
    "start_time": "2023-06-30T10:25:28.793Z"
   },
   {
    "duration": 49,
    "start_time": "2023-06-30T10:31:58.964Z"
   },
   {
    "duration": 2589,
    "start_time": "2023-06-30T10:32:20.162Z"
   },
   {
    "duration": 5,
    "start_time": "2023-06-30T10:34:37.712Z"
   },
   {
    "duration": 33,
    "start_time": "2023-06-30T10:35:17.115Z"
   },
   {
    "duration": 17,
    "start_time": "2023-06-30T10:35:22.813Z"
   },
   {
    "duration": 30,
    "start_time": "2023-06-30T10:35:27.082Z"
   },
   {
    "duration": 642,
    "start_time": "2023-06-30T10:35:31.588Z"
   },
   {
    "duration": 53,
    "start_time": "2023-06-30T10:35:34.761Z"
   },
   {
    "duration": 6,
    "start_time": "2023-06-30T10:35:47.200Z"
   },
   {
    "duration": 7,
    "start_time": "2023-06-30T10:35:47.790Z"
   },
   {
    "duration": 9,
    "start_time": "2023-06-30T10:35:48.016Z"
   },
   {
    "duration": 12,
    "start_time": "2023-06-30T10:35:48.581Z"
   },
   {
    "duration": 33,
    "start_time": "2023-06-30T10:35:50.448Z"
   },
   {
    "duration": 49868,
    "start_time": "2023-06-30T10:35:52.789Z"
   },
   {
    "duration": 8,
    "start_time": "2023-06-30T10:37:06.780Z"
   },
   {
    "duration": 1954,
    "start_time": "2023-06-30T10:40:56.024Z"
   },
   {
    "duration": 4821,
    "start_time": "2023-06-30T10:41:07.792Z"
   },
   {
    "duration": 1446,
    "start_time": "2023-06-30T10:41:12.616Z"
   },
   {
    "duration": 4,
    "start_time": "2023-06-30T10:41:14.065Z"
   },
   {
    "duration": 66,
    "start_time": "2023-06-30T10:41:14.073Z"
   },
   {
    "duration": 21,
    "start_time": "2023-06-30T10:41:14.141Z"
   },
   {
    "duration": 50,
    "start_time": "2023-06-30T10:41:14.167Z"
   },
   {
    "duration": 21,
    "start_time": "2023-06-30T10:41:14.219Z"
   },
   {
    "duration": 54,
    "start_time": "2023-06-30T10:41:14.242Z"
   },
   {
    "duration": 10,
    "start_time": "2023-06-30T10:41:14.298Z"
   },
   {
    "duration": 103,
    "start_time": "2023-06-30T10:41:14.310Z"
   },
   {
    "duration": 68,
    "start_time": "2023-06-30T10:41:14.416Z"
   },
   {
    "duration": 107,
    "start_time": "2023-06-30T10:41:14.493Z"
   },
   {
    "duration": 44,
    "start_time": "2023-06-30T10:41:14.603Z"
   },
   {
    "duration": 30,
    "start_time": "2023-06-30T10:41:14.651Z"
   },
   {
    "duration": 45,
    "start_time": "2023-06-30T10:41:14.683Z"
   },
   {
    "duration": 50,
    "start_time": "2023-06-30T10:41:14.730Z"
   },
   {
    "duration": 26,
    "start_time": "2023-06-30T10:41:14.782Z"
   },
   {
    "duration": 24,
    "start_time": "2023-06-30T10:41:14.811Z"
   },
   {
    "duration": 43,
    "start_time": "2023-06-30T10:41:14.836Z"
   },
   {
    "duration": 32,
    "start_time": "2023-06-30T10:41:14.881Z"
   },
   {
    "duration": 4,
    "start_time": "2023-06-30T10:41:14.915Z"
   },
   {
    "duration": 106,
    "start_time": "2023-06-30T10:41:14.920Z"
   },
   {
    "duration": 129,
    "start_time": "2023-06-30T10:41:15.027Z"
   },
   {
    "duration": 43,
    "start_time": "2023-06-30T10:41:15.158Z"
   },
   {
    "duration": 26,
    "start_time": "2023-06-30T10:41:15.208Z"
   },
   {
    "duration": 110,
    "start_time": "2023-06-30T10:41:15.236Z"
   },
   {
    "duration": 3,
    "start_time": "2023-06-30T10:41:15.348Z"
   },
   {
    "duration": 36,
    "start_time": "2023-06-30T10:41:15.353Z"
   },
   {
    "duration": 2537,
    "start_time": "2023-06-30T10:41:15.391Z"
   },
   {
    "duration": 50,
    "start_time": "2023-06-30T10:41:17.930Z"
   },
   {
    "duration": 9,
    "start_time": "2023-06-30T10:41:17.982Z"
   },
   {
    "duration": 53,
    "start_time": "2023-06-30T10:41:17.992Z"
   },
   {
    "duration": 21,
    "start_time": "2023-06-30T10:41:18.047Z"
   },
   {
    "duration": 627,
    "start_time": "2023-06-30T10:41:18.070Z"
   },
   {
    "duration": 30,
    "start_time": "2023-06-30T10:41:18.701Z"
   },
   {
    "duration": 4,
    "start_time": "2023-06-30T10:41:18.733Z"
   },
   {
    "duration": 42,
    "start_time": "2023-06-30T10:41:18.739Z"
   },
   {
    "duration": 13,
    "start_time": "2023-06-30T10:41:18.784Z"
   },
   {
    "duration": 13,
    "start_time": "2023-06-30T10:41:18.799Z"
   },
   {
    "duration": 31,
    "start_time": "2023-06-30T10:41:18.813Z"
   },
   {
    "duration": 20,
    "start_time": "2023-06-30T10:41:18.848Z"
   },
   {
    "duration": 4799,
    "start_time": "2023-06-30T10:41:18.870Z"
   },
   {
    "duration": 168,
    "start_time": "2023-06-30T10:41:23.672Z"
   },
   {
    "duration": 0,
    "start_time": "2023-06-30T10:41:23.842Z"
   },
   {
    "duration": 0,
    "start_time": "2023-06-30T10:41:23.843Z"
   },
   {
    "duration": 0,
    "start_time": "2023-06-30T10:41:23.844Z"
   },
   {
    "duration": 0,
    "start_time": "2023-06-30T10:41:23.845Z"
   },
   {
    "duration": 0,
    "start_time": "2023-06-30T10:41:23.846Z"
   },
   {
    "duration": 0,
    "start_time": "2023-06-30T10:41:23.847Z"
   },
   {
    "duration": 0,
    "start_time": "2023-06-30T10:41:23.859Z"
   },
   {
    "duration": 0,
    "start_time": "2023-06-30T10:41:23.860Z"
   },
   {
    "duration": 0,
    "start_time": "2023-06-30T10:41:23.861Z"
   },
   {
    "duration": 0,
    "start_time": "2023-06-30T10:41:23.862Z"
   },
   {
    "duration": 0,
    "start_time": "2023-06-30T10:41:23.863Z"
   },
   {
    "duration": 0,
    "start_time": "2023-06-30T10:41:23.864Z"
   },
   {
    "duration": 0,
    "start_time": "2023-06-30T10:41:23.865Z"
   },
   {
    "duration": 0,
    "start_time": "2023-06-30T10:41:23.866Z"
   },
   {
    "duration": 0,
    "start_time": "2023-06-30T10:41:23.867Z"
   },
   {
    "duration": 0,
    "start_time": "2023-06-30T10:41:23.868Z"
   },
   {
    "duration": 0,
    "start_time": "2023-06-30T10:41:23.869Z"
   },
   {
    "duration": 0,
    "start_time": "2023-06-30T10:41:23.871Z"
   },
   {
    "duration": 0,
    "start_time": "2023-06-30T10:41:23.872Z"
   },
   {
    "duration": 0,
    "start_time": "2023-06-30T10:41:23.873Z"
   },
   {
    "duration": 0,
    "start_time": "2023-06-30T10:41:23.874Z"
   },
   {
    "duration": 0,
    "start_time": "2023-06-30T10:41:23.875Z"
   },
   {
    "duration": 7,
    "start_time": "2023-06-30T10:42:12.798Z"
   },
   {
    "duration": 29,
    "start_time": "2023-06-30T10:42:13.792Z"
   },
   {
    "duration": 6,
    "start_time": "2023-06-30T10:42:18.318Z"
   },
   {
    "duration": 10,
    "start_time": "2023-06-30T10:42:18.965Z"
   },
   {
    "duration": 16,
    "start_time": "2023-06-30T10:42:23.101Z"
   },
   {
    "duration": 11,
    "start_time": "2023-06-30T10:42:23.300Z"
   },
   {
    "duration": 8,
    "start_time": "2023-06-30T10:42:23.509Z"
   },
   {
    "duration": 13,
    "start_time": "2023-06-30T10:42:23.819Z"
   },
   {
    "duration": 20,
    "start_time": "2023-06-30T10:43:41.077Z"
   },
   {
    "duration": 4,
    "start_time": "2023-06-30T10:43:45.695Z"
   },
   {
    "duration": 8,
    "start_time": "2023-06-30T10:43:45.979Z"
   },
   {
    "duration": 4,
    "start_time": "2023-06-30T10:43:47.427Z"
   },
   {
    "duration": 4,
    "start_time": "2023-06-30T10:44:47.940Z"
   },
   {
    "duration": 7,
    "start_time": "2023-06-30T10:44:48.885Z"
   },
   {
    "duration": 4,
    "start_time": "2023-06-30T10:44:51.414Z"
   },
   {
    "duration": 4,
    "start_time": "2023-06-30T10:45:06.939Z"
   },
   {
    "duration": 6436,
    "start_time": "2023-06-30T10:46:49.692Z"
   },
   {
    "duration": 4977,
    "start_time": "2023-06-30T10:47:21.096Z"
   },
   {
    "duration": 1462,
    "start_time": "2023-06-30T10:47:26.075Z"
   },
   {
    "duration": 5,
    "start_time": "2023-06-30T10:47:27.540Z"
   },
   {
    "duration": 77,
    "start_time": "2023-06-30T10:47:27.547Z"
   },
   {
    "duration": 15,
    "start_time": "2023-06-30T10:47:27.626Z"
   },
   {
    "duration": 43,
    "start_time": "2023-06-30T10:47:27.642Z"
   },
   {
    "duration": 19,
    "start_time": "2023-06-30T10:47:27.689Z"
   },
   {
    "duration": 38,
    "start_time": "2023-06-30T10:47:27.710Z"
   },
   {
    "duration": 18,
    "start_time": "2023-06-30T10:47:27.750Z"
   },
   {
    "duration": 44,
    "start_time": "2023-06-30T10:47:27.771Z"
   },
   {
    "duration": 14,
    "start_time": "2023-06-30T10:47:27.817Z"
   },
   {
    "duration": 40,
    "start_time": "2023-06-30T10:47:27.833Z"
   },
   {
    "duration": 23,
    "start_time": "2023-06-30T10:47:27.875Z"
   },
   {
    "duration": 52,
    "start_time": "2023-06-30T10:47:27.902Z"
   },
   {
    "duration": 56,
    "start_time": "2023-06-30T10:47:27.956Z"
   },
   {
    "duration": 78,
    "start_time": "2023-06-30T10:47:28.014Z"
   },
   {
    "duration": 21,
    "start_time": "2023-06-30T10:47:28.094Z"
   },
   {
    "duration": 18,
    "start_time": "2023-06-30T10:47:28.117Z"
   },
   {
    "duration": 23,
    "start_time": "2023-06-30T10:47:28.137Z"
   },
   {
    "duration": 34,
    "start_time": "2023-06-30T10:47:28.163Z"
   },
   {
    "duration": 6,
    "start_time": "2023-06-30T10:47:28.200Z"
   },
   {
    "duration": 46,
    "start_time": "2023-06-30T10:47:28.209Z"
   },
   {
    "duration": 39,
    "start_time": "2023-06-30T10:47:28.258Z"
   },
   {
    "duration": 14,
    "start_time": "2023-06-30T10:47:28.300Z"
   },
   {
    "duration": 38,
    "start_time": "2023-06-30T10:47:28.316Z"
   },
   {
    "duration": 84,
    "start_time": "2023-06-30T10:47:28.356Z"
   },
   {
    "duration": 3,
    "start_time": "2023-06-30T10:47:28.442Z"
   },
   {
    "duration": 70,
    "start_time": "2023-06-30T10:47:28.446Z"
   },
   {
    "duration": 2594,
    "start_time": "2023-06-30T10:47:28.518Z"
   },
   {
    "duration": 22,
    "start_time": "2023-06-30T10:47:31.114Z"
   },
   {
    "duration": 65,
    "start_time": "2023-06-30T10:47:31.137Z"
   },
   {
    "duration": 64,
    "start_time": "2023-06-30T10:47:31.204Z"
   },
   {
    "duration": 73,
    "start_time": "2023-06-30T10:47:31.270Z"
   },
   {
    "duration": 876,
    "start_time": "2023-06-30T10:47:31.346Z"
   },
   {
    "duration": 28,
    "start_time": "2023-06-30T10:47:32.224Z"
   },
   {
    "duration": 20,
    "start_time": "2023-06-30T10:47:32.254Z"
   },
   {
    "duration": 15,
    "start_time": "2023-06-30T10:47:32.276Z"
   },
   {
    "duration": 45,
    "start_time": "2023-06-30T10:47:32.293Z"
   },
   {
    "duration": 9,
    "start_time": "2023-06-30T10:47:32.340Z"
   },
   {
    "duration": 50,
    "start_time": "2023-06-30T10:47:32.351Z"
   },
   {
    "duration": 6,
    "start_time": "2023-06-30T10:47:32.406Z"
   },
   {
    "duration": 13150,
    "start_time": "2023-06-30T10:47:32.414Z"
   },
   {
    "duration": 9,
    "start_time": "2023-06-30T10:47:45.566Z"
   },
   {
    "duration": 105,
    "start_time": "2023-06-30T10:47:45.578Z"
   },
   {
    "duration": 26,
    "start_time": "2023-06-30T10:47:45.686Z"
   },
   {
    "duration": 55,
    "start_time": "2023-06-30T10:47:45.717Z"
   },
   {
    "duration": 35,
    "start_time": "2023-06-30T10:47:45.776Z"
   },
   {
    "duration": 59,
    "start_time": "2023-06-30T10:47:45.814Z"
   },
   {
    "duration": 14,
    "start_time": "2023-06-30T10:47:45.881Z"
   },
   {
    "duration": 93,
    "start_time": "2023-06-30T10:47:45.902Z"
   },
   {
    "duration": 53,
    "start_time": "2023-06-30T10:47:46.015Z"
   },
   {
    "duration": 28,
    "start_time": "2023-06-30T10:47:46.078Z"
   },
   {
    "duration": 56,
    "start_time": "2023-06-30T10:47:46.109Z"
   },
   {
    "duration": 17,
    "start_time": "2023-06-30T10:47:46.166Z"
   },
   {
    "duration": 12,
    "start_time": "2023-06-30T10:47:46.186Z"
   },
   {
    "duration": 24,
    "start_time": "2023-06-30T10:47:46.261Z"
   },
   {
    "duration": 18601,
    "start_time": "2023-06-30T10:47:46.288Z"
   },
   {
    "duration": 0,
    "start_time": "2023-06-30T10:48:04.900Z"
   },
   {
    "duration": 0,
    "start_time": "2023-06-30T10:48:04.910Z"
   },
   {
    "duration": 0,
    "start_time": "2023-06-30T10:48:04.911Z"
   },
   {
    "duration": 0,
    "start_time": "2023-06-30T10:48:04.917Z"
   },
   {
    "duration": 1,
    "start_time": "2023-06-30T10:48:04.917Z"
   },
   {
    "duration": 0,
    "start_time": "2023-06-30T10:48:04.918Z"
   },
   {
    "duration": 0,
    "start_time": "2023-06-30T10:48:04.919Z"
   },
   {
    "duration": 0,
    "start_time": "2023-06-30T10:48:04.963Z"
   },
   {
    "duration": 10744,
    "start_time": "2023-07-01T08:09:52.125Z"
   },
   {
    "duration": 1473,
    "start_time": "2023-07-01T08:10:02.871Z"
   },
   {
    "duration": 3,
    "start_time": "2023-07-01T08:10:04.345Z"
   },
   {
    "duration": 178,
    "start_time": "2023-07-01T08:10:04.349Z"
   },
   {
    "duration": 0,
    "start_time": "2023-07-01T08:10:04.530Z"
   },
   {
    "duration": 0,
    "start_time": "2023-07-01T08:10:04.532Z"
   },
   {
    "duration": 0,
    "start_time": "2023-07-01T08:10:04.533Z"
   },
   {
    "duration": 0,
    "start_time": "2023-07-01T08:10:04.534Z"
   },
   {
    "duration": 1,
    "start_time": "2023-07-01T08:10:04.535Z"
   },
   {
    "duration": 0,
    "start_time": "2023-07-01T08:10:04.537Z"
   },
   {
    "duration": 0,
    "start_time": "2023-07-01T08:10:04.538Z"
   },
   {
    "duration": 0,
    "start_time": "2023-07-01T08:10:04.540Z"
   },
   {
    "duration": 0,
    "start_time": "2023-07-01T08:10:04.541Z"
   },
   {
    "duration": 0,
    "start_time": "2023-07-01T08:10:04.542Z"
   },
   {
    "duration": 0,
    "start_time": "2023-07-01T08:10:04.543Z"
   },
   {
    "duration": 0,
    "start_time": "2023-07-01T08:10:04.545Z"
   },
   {
    "duration": 0,
    "start_time": "2023-07-01T08:10:04.546Z"
   },
   {
    "duration": 0,
    "start_time": "2023-07-01T08:10:04.547Z"
   },
   {
    "duration": 0,
    "start_time": "2023-07-01T08:10:04.549Z"
   },
   {
    "duration": 0,
    "start_time": "2023-07-01T08:10:04.550Z"
   },
   {
    "duration": 0,
    "start_time": "2023-07-01T08:10:04.551Z"
   },
   {
    "duration": 0,
    "start_time": "2023-07-01T08:10:04.552Z"
   },
   {
    "duration": 0,
    "start_time": "2023-07-01T08:10:04.553Z"
   },
   {
    "duration": 0,
    "start_time": "2023-07-01T08:10:04.554Z"
   },
   {
    "duration": 0,
    "start_time": "2023-07-01T08:10:04.556Z"
   },
   {
    "duration": 0,
    "start_time": "2023-07-01T08:10:04.557Z"
   },
   {
    "duration": 0,
    "start_time": "2023-07-01T08:10:04.605Z"
   },
   {
    "duration": 0,
    "start_time": "2023-07-01T08:10:04.606Z"
   },
   {
    "duration": 0,
    "start_time": "2023-07-01T08:10:04.607Z"
   },
   {
    "duration": 0,
    "start_time": "2023-07-01T08:10:04.608Z"
   },
   {
    "duration": 0,
    "start_time": "2023-07-01T08:10:04.608Z"
   },
   {
    "duration": 0,
    "start_time": "2023-07-01T08:10:04.611Z"
   },
   {
    "duration": 0,
    "start_time": "2023-07-01T08:10:04.614Z"
   },
   {
    "duration": 0,
    "start_time": "2023-07-01T08:10:04.615Z"
   },
   {
    "duration": 1,
    "start_time": "2023-07-01T08:10:04.616Z"
   },
   {
    "duration": 0,
    "start_time": "2023-07-01T08:10:04.617Z"
   },
   {
    "duration": 0,
    "start_time": "2023-07-01T08:10:04.618Z"
   },
   {
    "duration": 0,
    "start_time": "2023-07-01T08:10:04.620Z"
   },
   {
    "duration": 0,
    "start_time": "2023-07-01T08:10:04.620Z"
   },
   {
    "duration": 0,
    "start_time": "2023-07-01T08:10:04.621Z"
   },
   {
    "duration": 0,
    "start_time": "2023-07-01T08:10:04.622Z"
   },
   {
    "duration": 0,
    "start_time": "2023-07-01T08:10:04.623Z"
   },
   {
    "duration": 0,
    "start_time": "2023-07-01T08:10:04.624Z"
   },
   {
    "duration": 0,
    "start_time": "2023-07-01T08:10:04.625Z"
   },
   {
    "duration": 0,
    "start_time": "2023-07-01T08:10:04.626Z"
   },
   {
    "duration": 0,
    "start_time": "2023-07-01T08:10:04.627Z"
   },
   {
    "duration": 0,
    "start_time": "2023-07-01T08:10:04.628Z"
   },
   {
    "duration": 0,
    "start_time": "2023-07-01T08:10:04.629Z"
   },
   {
    "duration": 0,
    "start_time": "2023-07-01T08:10:04.630Z"
   },
   {
    "duration": 0,
    "start_time": "2023-07-01T08:10:04.631Z"
   },
   {
    "duration": 0,
    "start_time": "2023-07-01T08:10:04.632Z"
   },
   {
    "duration": 0,
    "start_time": "2023-07-01T08:10:04.633Z"
   },
   {
    "duration": 3952,
    "start_time": "2023-07-01T08:10:37.440Z"
   },
   {
    "duration": 1216,
    "start_time": "2023-07-01T08:10:41.394Z"
   },
   {
    "duration": 4,
    "start_time": "2023-07-01T08:10:42.611Z"
   },
   {
    "duration": 45,
    "start_time": "2023-07-01T08:10:42.617Z"
   },
   {
    "duration": 13,
    "start_time": "2023-07-01T08:10:42.664Z"
   },
   {
    "duration": 34,
    "start_time": "2023-07-01T08:10:42.679Z"
   },
   {
    "duration": 14,
    "start_time": "2023-07-01T08:10:42.715Z"
   },
   {
    "duration": 28,
    "start_time": "2023-07-01T08:10:42.730Z"
   },
   {
    "duration": 6,
    "start_time": "2023-07-01T08:10:42.759Z"
   },
   {
    "duration": 22,
    "start_time": "2023-07-01T08:10:42.767Z"
   },
   {
    "duration": 7,
    "start_time": "2023-07-01T08:10:42.791Z"
   },
   {
    "duration": 21,
    "start_time": "2023-07-01T08:10:42.800Z"
   },
   {
    "duration": 10,
    "start_time": "2023-07-01T08:10:42.823Z"
   },
   {
    "duration": 16,
    "start_time": "2023-07-01T08:10:42.835Z"
   },
   {
    "duration": 5,
    "start_time": "2023-07-01T08:10:42.853Z"
   },
   {
    "duration": 24,
    "start_time": "2023-07-01T08:10:42.859Z"
   },
   {
    "duration": 13,
    "start_time": "2023-07-01T08:10:42.884Z"
   },
   {
    "duration": 28,
    "start_time": "2023-07-01T08:10:42.899Z"
   },
   {
    "duration": 12,
    "start_time": "2023-07-01T08:10:42.928Z"
   },
   {
    "duration": 17,
    "start_time": "2023-07-01T08:10:42.941Z"
   },
   {
    "duration": 3,
    "start_time": "2023-07-01T08:10:42.960Z"
   },
   {
    "duration": 53,
    "start_time": "2023-07-01T08:10:42.964Z"
   },
   {
    "duration": 15,
    "start_time": "2023-07-01T08:10:43.019Z"
   },
   {
    "duration": 8,
    "start_time": "2023-07-01T08:10:43.036Z"
   },
   {
    "duration": 15,
    "start_time": "2023-07-01T08:10:43.045Z"
   },
   {
    "duration": 64,
    "start_time": "2023-07-01T08:10:43.062Z"
   },
   {
    "duration": 3,
    "start_time": "2023-07-01T08:10:43.128Z"
   },
   {
    "duration": 21,
    "start_time": "2023-07-01T08:10:43.132Z"
   },
   {
    "duration": 17,
    "start_time": "2023-07-01T08:10:43.154Z"
   },
   {
    "duration": 4,
    "start_time": "2023-07-01T08:10:43.173Z"
   },
   {
    "duration": 36,
    "start_time": "2023-07-01T08:10:43.179Z"
   },
   {
    "duration": 1922,
    "start_time": "2023-07-01T08:10:43.216Z"
   },
   {
    "duration": 14,
    "start_time": "2023-07-01T08:10:45.139Z"
   },
   {
    "duration": 572,
    "start_time": "2023-07-01T08:10:45.155Z"
   },
   {
    "duration": 21,
    "start_time": "2023-07-01T08:10:45.729Z"
   },
   {
    "duration": 6,
    "start_time": "2023-07-01T08:10:45.752Z"
   },
   {
    "duration": 9,
    "start_time": "2023-07-01T08:10:45.760Z"
   },
   {
    "duration": 8,
    "start_time": "2023-07-01T08:10:45.770Z"
   },
   {
    "duration": 25,
    "start_time": "2023-07-01T08:10:45.779Z"
   },
   {
    "duration": 34,
    "start_time": "2023-07-01T08:10:45.805Z"
   },
   {
    "duration": 3,
    "start_time": "2023-07-01T08:10:45.843Z"
   },
   {
    "duration": 3570,
    "start_time": "2023-07-01T08:10:45.847Z"
   },
   {
    "duration": 4,
    "start_time": "2023-07-01T08:10:49.419Z"
   },
   {
    "duration": 19,
    "start_time": "2023-07-01T08:10:49.424Z"
   },
   {
    "duration": 14,
    "start_time": "2023-07-01T08:10:49.444Z"
   },
   {
    "duration": 10,
    "start_time": "2023-07-01T08:10:49.459Z"
   },
   {
    "duration": 17,
    "start_time": "2023-07-01T08:10:49.470Z"
   },
   {
    "duration": 16,
    "start_time": "2023-07-01T08:10:49.489Z"
   },
   {
    "duration": 7,
    "start_time": "2023-07-01T08:10:49.510Z"
   },
   {
    "duration": 22,
    "start_time": "2023-07-01T08:10:49.519Z"
   },
   {
    "duration": 26,
    "start_time": "2023-07-01T08:10:49.542Z"
   },
   {
    "duration": 13,
    "start_time": "2023-07-01T08:10:49.569Z"
   },
   {
    "duration": 5,
    "start_time": "2023-07-01T08:11:20.911Z"
   }
  ],
  "kernelspec": {
   "display_name": "Python 3 (ipykernel)",
   "language": "python",
   "name": "python3"
  },
  "language_info": {
   "codemirror_mode": {
    "name": "ipython",
    "version": 3
   },
   "file_extension": ".py",
   "mimetype": "text/x-python",
   "name": "python",
   "nbconvert_exporter": "python",
   "pygments_lexer": "ipython3",
   "version": "3.11.4"
  },
  "toc": {
   "base_numbering": 1,
   "nav_menu": {},
   "number_sections": true,
   "sideBar": true,
   "skip_h1_title": true,
   "title_cell": "Table of Contents",
   "title_sidebar": "Contents",
   "toc_cell": false,
   "toc_position": {},
   "toc_section_display": true,
   "toc_window_display": true
  }
 },
 "nbformat": 4,
 "nbformat_minor": 5
}
